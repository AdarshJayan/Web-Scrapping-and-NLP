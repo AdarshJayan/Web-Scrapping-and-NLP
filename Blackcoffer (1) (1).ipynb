{
  "nbformat": 4,
  "nbformat_minor": 0,
  "metadata": {
    "colab": {
      "provenance": []
    },
    "kernelspec": {
      "name": "python3",
      "display_name": "Python 3"
    },
    "language_info": {
      "name": "python"
    }
  },
  "cells": [
    {
      "cell_type": "code",
      "execution_count": null,
      "metadata": {
        "id": "lX4LGM8Xkxt-"
      },
      "outputs": [],
      "source": [
        "import requests\n",
        "from bs4 import BeautifulSoup\n",
        "import os"
      ]
    },
    {
      "cell_type": "code",
      "source": [
        "\n",
        "\n",
        "def extract_and_save_article(url, url_id):\n",
        "    # Send a GET request to the URL\n",
        "    response = requests.get(url)\n",
        "\n",
        "    # Check if the request was successful (status code 200)\n",
        "    if response.status_code == 200:\n",
        "        # Parse the HTML content of the page\n",
        "        soup = BeautifulSoup(response.text, 'html.parser')\n",
        "\n",
        "        # Find the article title\n",
        "        title_element = soup.find('h1', class_='entry-title')\n",
        "        article_title = title_element.get_text() if title_element else \"Title not found\"  # Adjust class name accordingly\n",
        "\n",
        "        # Find the article text\n",
        "        content_element = soup.find('div', class_='td-post-content tagdiv-type')\n",
        "        article_text = content_element.get_text() if content_element else \"Text not found\"  # Adjust class name accordingly\n",
        "\n",
        "        # Save the article title and text to a text file\n",
        "        filename = f\"{url_id}.txt\"\n",
        "        with open(filename, 'w', encoding='utf-8') as file:\n",
        "            file.write(f\"Title: {article_title}\\n\\n\")\n",
        "            file.write(f\"Text: {article_text}\")\n",
        "\n",
        "        print(f\"Article saved successfully to {filename}\")\n",
        "    else:\n",
        "        print(f\"Failed to retrieve the webpage. Status code: {response.status_code}\")\n",
        "\n",
        "\n",
        "url = 'https://insights.blackcoffer.com/rising-it-cities-and-its-impact-on-the-economy-environment-infrastructure-and-city-life-by-the-year-2040-2/'\n",
        "url_id = 'blackassign0001'\n",
        "extract_and_save_article(url, url_id)\n"
      ],
      "metadata": {
        "colab": {
          "base_uri": "https://localhost:8080/"
        },
        "id": "gECzYFgjtN-3",
        "outputId": "89ee8382-5acc-4118-8297-d7215ba7a8c7"
      },
      "execution_count": null,
      "outputs": [
        {
          "output_type": "stream",
          "name": "stdout",
          "text": [
            "Article saved successfully to blackassign0001.txt\n"
          ]
        }
      ]
    },
    {
      "cell_type": "code",
      "source": [
        "import nltk\n",
        "from nltk.corpus import stopwords\n",
        "from nltk.tokenize import sent_tokenize, word_tokenize\n",
        "import re\n",
        "\n",
        "nltk.download('stopwords')\n",
        "nltk.download('punkt')\n",
        "\n",
        "def calculate_scores(text):\n",
        "    # Tokenize the text into sentences and words\n",
        "    sentences = sent_tokenize(text)\n",
        "    words = word_tokenize(text)\n",
        "\n",
        "    # Remove stopwords and punctuation\n",
        "    stop_words = set(stopwords.words('english'))\n",
        "    words = [word.lower() for word in words if word.isalnum() and word.lower() not in stop_words]\n",
        "\n",
        "    # Count positive and negative words\n",
        "    negative_words = set([\"sad\", \"unhappy\", \"terrible\", \"horrible\", \"awful\",\"disappointing\", \"miserable\", \"dreadful\", \"unpleasant\", \"negative\",\"bad\", \"poor\", \"unfavorable\", \"difficult\", \"inferior\"])  # Add your positive words\n",
        "    positive_words = set([ \"happy\", \"joyful\", \"excellent\", \"fantastic\", \"amazing\",\"wonderful\", \"awesome\", \"terrific\", \"pleasurable\", \"delightful\",\"positive\", \"lovely\", \"good\", \"great\", \"superb\"])  # Add your negative words\n",
        "\n",
        "    positive_score = sum(1 for word in words if word in positive_words)\n",
        "    negative_score = sum(1 for word in words if word in negative_words)\n",
        "\n",
        "    # Calculate Polarity Score\n",
        "    polarity_score = (positive_score - negative_score) / (positive_score + negative_score + 0.000001)\n",
        "\n",
        "    # Calculate Subjectivity Score\n",
        "    subjectivity_score = (positive_score + negative_score) / (len(words) + 0.000001)\n",
        "\n",
        "    # Calculate Average Sentence Length\n",
        "    avg_sentence_length = len(words) / len(sentences)\n",
        "\n",
        "    # Identify complex words (words with more than two syllables)\n",
        "    complex_words = [word for word in words if len(re.findall(r'[aeiouAEIOU]{3,}', word)) > 2]\n",
        "\n",
        "    # Calculate Percentage of Complex Words\n",
        "    percentage_complex_words = len(complex_words)/len(words)\n",
        "\n",
        "    # Calculate Fog Index\n",
        "    fog_index = 0.4 * (avg_sentence_length + percentage_complex_words)\n",
        "\n",
        "    # Calculate Average Number of Words Per Sentence\n",
        "    avg_words_per_sentence = len(words) / len(sentences)\n",
        "\n",
        "    # Count Syllables per word\n",
        "    syllables_per_word = sum(len(re.findall(r'[aeiouAEIOU]+', word)) for word in words)\n",
        "\n",
        "    # Count Personal Pronouns\n",
        "    personal_pronouns = set([\"I\", \"me\", \"my\", \"mine\", \"you\", \"your\", \"yours\", \"he\", \"him\", \"his\", \"she\", \"her\", \"hers\", \"it\", \"its\", \"we\", \"us\", \"our\", \"ours\", \"they\", \"them\", \"their\", \"theirs\"])\n",
        "    personal_pronoun_count = sum(1 for word in words if word.lower() in personal_pronouns)\n",
        "\n",
        "    # Calculate Average Word Length\n",
        "    avg_word_length = sum(len(word) for word in words) / len(words)\n",
        "    # Calculate complex word count\n",
        "    complex_word_count = len(complex_words)\n",
        "\n",
        "    # Calculate word count\n",
        "    total_word_count = len(words)\n",
        "\n",
        "    return {\n",
        "        \"Positive Score\": positive_score,\n",
        "        \"Negative Score\": negative_score,\n",
        "        \"Polarity Score\": polarity_score,\n",
        "        \"Subjectivity Score\": subjectivity_score,\n",
        "        \"Average Sentence Length\": avg_sentence_length,\n",
        "        \"Percentage of Complex Words\": percentage_complex_words,\n",
        "        \"Fog Index\": fog_index,\n",
        "        \"Average Number of Words Per Sentence\": avg_words_per_sentence,\n",
        "        'Complex Word Count': complex_word_count,\n",
        "        'Word Count': total_word_count,\n",
        "        \"Syllables per Word\": syllables_per_word,\n",
        "        \"Personal Pronoun Count\": personal_pronoun_count,\n",
        "        \"Average Word Length\": avg_word_length\n",
        "    }\n",
        "file_path = '/content/blackassign0001.txt'\n",
        "\n",
        "with open(file_path, 'r', encoding='utf-8') as file:\n",
        "    text_content = file.read()\n",
        "\n",
        "results = calculate_scores(text_content)\n",
        "\n",
        "# Print the results\n",
        "for key, value in results.items():\n",
        "    print(f\"{key}: {value}\")"
      ],
      "metadata": {
        "colab": {
          "base_uri": "https://localhost:8080/"
        },
        "id": "dGX0O7RIocEb",
        "outputId": "869cb3e5-abed-433c-9009-9f2a8f4f5376"
      },
      "execution_count": null,
      "outputs": [
        {
          "output_type": "stream",
          "name": "stdout",
          "text": [
            "Positive Score: 13\n",
            "Negative Score: 0\n",
            "Polarity Score: 0.9999999230769291\n",
            "Subjectivity Score: 0.019938650276167716\n",
            "Average Sentence Length: 8.253164556962025\n",
            "Percentage of Complex Words: 0.0\n",
            "Fog Index: 3.30126582278481\n",
            "Average Number of Words Per Sentence: 8.253164556962025\n",
            "Complex Word Count: 0\n",
            "Word Count: 652\n",
            "Syllables per Word: 1337\n",
            "Personal Pronoun Count: 1\n",
            "Average Word Length: 6.271472392638037\n"
          ]
        },
        {
          "output_type": "stream",
          "name": "stderr",
          "text": [
            "[nltk_data] Downloading package stopwords to /root/nltk_data...\n",
            "[nltk_data]   Package stopwords is already up-to-date!\n",
            "[nltk_data] Downloading package punkt to /root/nltk_data...\n",
            "[nltk_data]   Package punkt is already up-to-date!\n"
          ]
        }
      ]
    },
    {
      "cell_type": "code",
      "source": [
        "# Print the results\n",
        "for key, value in results.items():\n",
        "    print(f\"{key}: {value}\")\n",
        "df = pd.DataFrame([results])\n",
        "\n",
        "\n",
        "\n",
        "# Save the DataFrame to an Excel file\n",
        "excel_filename = 'scores2.xlsx'\n",
        "df.to_excel(excel_filename, index=False)"
      ],
      "metadata": {
        "colab": {
          "base_uri": "https://localhost:8080/"
        },
        "id": "scsPna2Aetv6",
        "outputId": "e4e77a9f-d2d7-4e49-ef6d-9cad774d324e"
      },
      "execution_count": null,
      "outputs": [
        {
          "output_type": "stream",
          "name": "stdout",
          "text": [
            "Positive Score: 13\n",
            "Negative Score: 0\n",
            "Polarity Score: 0.9999999230769291\n",
            "Subjectivity Score: 0.019938650276167716\n",
            "Average Sentence Length: 8.253164556962025\n",
            "Percentage of Complex Words: 0.0\n",
            "Fog Index: 3.30126582278481\n",
            "Average Number of Words Per Sentence: 8.253164556962025\n",
            "Complex Word Count: 0\n",
            "Word Count: 652\n",
            "Syllables per Word: 1337\n",
            "Personal Pronoun Count: 1\n",
            "Average Word Length: 6.271472392638037\n"
          ]
        }
      ]
    },
    {
      "cell_type": "code",
      "source": [
        "def update_scores_excel(scores, excel_filename='scores2.xlsx'):\n",
        "    try:\n",
        "        # Try to read the existing Excel file\n",
        "        existing_df = pd.read_excel(excel_filename)\n",
        "    except FileNotFoundError:\n",
        "        # If the file doesn't exist, create a new DataFrame\n",
        "        existing_df = pd.DataFrame()\n",
        "\n",
        "    # Convert the scores dictionary to a DataFrame\n",
        "    new_df = pd.DataFrame([scores])\n",
        "\n",
        "    # Concatenate the existing and new DataFrames\n",
        "    combined_df = pd.concat([existing_df, new_df], ignore_index=True)\n",
        "\n",
        "    # Save the combined DataFrame back to the Excel file\n",
        "    combined_df.to_excel(excel_filename, index=False)"
      ],
      "metadata": {
        "id": "BF9bum47exk6"
      },
      "execution_count": null,
      "outputs": []
    },
    {
      "cell_type": "code",
      "source": [
        "\n",
        "url = 'https://insights.blackcoffer.com/rising-it-cities-and-their-impact-on-the-economy-environment-infrastructure-and-city-life-in-future/'\n",
        "url_id = 'blackassign0002'\n",
        "extract_and_save_article(url, url_id)"
      ],
      "metadata": {
        "colab": {
          "base_uri": "https://localhost:8080/"
        },
        "id": "uYg04ur1yEM-",
        "outputId": "316db314-3277-45f1-8bcc-8af1d5c07d41"
      },
      "execution_count": null,
      "outputs": [
        {
          "output_type": "stream",
          "name": "stdout",
          "text": [
            "Article saved successfully to blackassign0002.txt\n"
          ]
        }
      ]
    },
    {
      "cell_type": "code",
      "source": [
        "file_path = '/content/blackassign0002.txt'\n",
        "\n",
        "with open(file_path, 'r', encoding='utf-8') as file:\n",
        "    text_content = file.read()\n",
        "\n",
        "results = calculate_scores(text_content)\n",
        "\n",
        "# Print the results\n",
        "for key, value in results.items():\n",
        "    print(f\"{key}: {value}\")\n",
        "update_scores_excel(results)"
      ],
      "metadata": {
        "colab": {
          "base_uri": "https://localhost:8080/"
        },
        "id": "M_ib859fydvm",
        "outputId": "b5d4adda-d0f7-4578-8faf-7ecef9534bc0"
      },
      "execution_count": null,
      "outputs": [
        {
          "output_type": "stream",
          "name": "stdout",
          "text": [
            "Positive Score: 0\n",
            "Negative Score: 2\n",
            "Polarity Score: -0.99999950000025\n",
            "Subjectivity Score: 0.0022779043254237993\n",
            "Average Sentence Length: 10.975\n",
            "Percentage of Complex Words: 0.0\n",
            "Fog Index: 4.39\n",
            "Average Number of Words Per Sentence: 10.975\n",
            "Complex Word Count: 0\n",
            "Word Count: 878\n",
            "Syllables per Word: 2129\n",
            "Personal Pronoun Count: 3\n",
            "Average Word Length: 7.11617312072893\n"
          ]
        }
      ]
    },
    {
      "cell_type": "code",
      "source": [
        "\n",
        "url = 'https://insights.blackcoffer.com/internet-demands-evolution-communication-impact-and-2035s-alternative-pathways/'\n",
        "url_id = 'blackassign0003'\n",
        "extract_and_save_article(url, url_id)"
      ],
      "metadata": {
        "colab": {
          "base_uri": "https://localhost:8080/"
        },
        "id": "N0Ea2fIiySqD",
        "outputId": "cb60ee5b-16b7-4fc4-8a37-9dbb0298d5b1"
      },
      "execution_count": null,
      "outputs": [
        {
          "output_type": "stream",
          "name": "stdout",
          "text": [
            "Article saved successfully to blackassign0003.txt\n"
          ]
        }
      ]
    },
    {
      "cell_type": "code",
      "source": [
        "file_path = '/content/blackassign0003.txt'\n",
        "\n",
        "with open(file_path, 'r', encoding='utf-8') as file:\n",
        "    text_content = file.read()\n",
        "\n",
        "results = calculate_scores(text_content)\n",
        "\n",
        "# Print the results\n",
        "for key, value in results.items():\n",
        "    print(f\"{key}: {value}\")\n",
        "update_scores_excel(results)"
      ],
      "metadata": {
        "colab": {
          "base_uri": "https://localhost:8080/"
        },
        "id": "o8jqZO5GzJmX",
        "outputId": "6d74d38f-1979-4633-d460-ec7b5255da66"
      },
      "execution_count": null,
      "outputs": [
        {
          "output_type": "stream",
          "name": "stdout",
          "text": [
            "Positive Score: 0\n",
            "Negative Score: 0\n",
            "Polarity Score: 0.0\n",
            "Subjectivity Score: 0.0\n",
            "Average Sentence Length: 11.666666666666666\n",
            "Percentage of Complex Words: 0.0\n",
            "Fog Index: 4.666666666666667\n",
            "Average Number of Words Per Sentence: 11.666666666666666\n",
            "Complex Word Count: 0\n",
            "Word Count: 665\n",
            "Syllables per Word: 1841\n",
            "Personal Pronoun Count: 1\n",
            "Average Word Length: 7.98796992481203\n"
          ]
        }
      ]
    },
    {
      "cell_type": "code",
      "source": [
        "\n",
        "\n",
        "url = 'https://insights.blackcoffer.com/rise-of-cybercrime-and-its-effect-in-upcoming-future/'\n",
        "url_id = 'blackassign0004'\n",
        "extract_and_save_article(url, url_id)"
      ],
      "metadata": {
        "colab": {
          "base_uri": "https://localhost:8080/"
        },
        "id": "IppKR1xLxoKH",
        "outputId": "eace2572-0a48-4936-c5c7-3a876a0ddae2"
      },
      "execution_count": null,
      "outputs": [
        {
          "output_type": "stream",
          "name": "stdout",
          "text": [
            "Article saved successfully to blackassign0004.txt\n"
          ]
        }
      ]
    },
    {
      "cell_type": "code",
      "source": [
        "file_path = '/content/blackassign0004.txt'\n",
        "\n",
        "with open(file_path, 'r', encoding='utf-8') as file:\n",
        "    text_content = file.read()\n",
        "\n",
        "results = calculate_scores(text_content)\n",
        "\n",
        "# Print the results\n",
        "for key, value in results.items():\n",
        "    print(f\"{key}: {value}\")\n",
        "update_scores_excel(results)"
      ],
      "metadata": {
        "colab": {
          "base_uri": "https://localhost:8080/"
        },
        "id": "gOXj7bGg54dx",
        "outputId": "a6693b75-1024-4dc5-914e-fbf9315db4ee"
      },
      "execution_count": null,
      "outputs": [
        {
          "output_type": "stream",
          "name": "stdout",
          "text": [
            "Positive Score: 0\n",
            "Negative Score: 0\n",
            "Polarity Score: 0.0\n",
            "Subjectivity Score: 0.0\n",
            "Average Sentence Length: 13.0\n",
            "Percentage of Complex Words: 0.0\n",
            "Fog Index: 5.2\n",
            "Average Number of Words Per Sentence: 13.0\n",
            "Complex Word Count: 0\n",
            "Word Count: 676\n",
            "Syllables per Word: 1723\n",
            "Personal Pronoun Count: 0\n",
            "Average Word Length: 7.727810650887574\n"
          ]
        }
      ]
    },
    {
      "cell_type": "code",
      "source": [
        "url = 'https://insights.blackcoffer.com/ott-platform-and-its-impact-on-the-entertainment-industry-in-future/'\n",
        "url_id = 'blackassign0005'\n",
        "extract_and_save_article(url, url_id)\n",
        "\n"
      ],
      "metadata": {
        "colab": {
          "base_uri": "https://localhost:8080/"
        },
        "id": "Dfm_nYyC6FWo",
        "outputId": "da482657-49d9-403c-e9e1-f24e9ee0d907"
      },
      "execution_count": null,
      "outputs": [
        {
          "output_type": "stream",
          "name": "stdout",
          "text": [
            "Article saved successfully to blackassign0005.txt\n"
          ]
        }
      ]
    },
    {
      "cell_type": "code",
      "source": [
        "file_path = '/content/blackassign0005.txt'\n",
        "\n",
        "with open(file_path, 'r', encoding='utf-8') as file:\n",
        "    text_content = file.read()\n",
        "\n",
        "results = calculate_scores(text_content)\n",
        "\n",
        "# Print the results\n",
        "for key, value in results.items():\n",
        "    print(f\"{key}: {value}\")\n",
        "update_scores_excel(results)"
      ],
      "metadata": {
        "colab": {
          "base_uri": "https://localhost:8080/"
        },
        "id": "_qCSFCvs67Ai",
        "outputId": "4201008f-2cf0-4490-dd9b-910051b3ce91"
      },
      "execution_count": null,
      "outputs": [
        {
          "output_type": "stream",
          "name": "stdout",
          "text": [
            "Positive Score: 1\n",
            "Negative Score: 0\n",
            "Polarity Score: 0.9999990000010001\n",
            "Subjectivity Score: 0.0024449877690831596\n",
            "Average Sentence Length: 10.225\n",
            "Percentage of Complex Words: 0.0\n",
            "Fog Index: 4.09\n",
            "Average Number of Words Per Sentence: 10.225\n",
            "Complex Word Count: 0\n",
            "Word Count: 409\n",
            "Syllables per Word: 944\n",
            "Personal Pronoun Count: 0\n",
            "Average Word Length: 7.083129584352078\n"
          ]
        }
      ]
    },
    {
      "cell_type": "code",
      "source": [
        "def extract_and_save_article(url, url_id):\n",
        "    # Send a GET request to the URL\n",
        "    response = requests.get(url)\n",
        "\n",
        "    # Check if the request was successful (status code 200)\n",
        "    if response.status_code == 200:\n",
        "        # Parse the HTML content of the page\n",
        "        soup = BeautifulSoup(response.text, 'html.parser')\n",
        "\n",
        "        # Find the article title\n",
        "        title_element = soup.find('h1', class_='entry-title')\n",
        "        article_title = title_element.get_text() if title_element else \"Title not found\"  # Adjust class name accordingly\n",
        "\n",
        "        # Find the article text\n",
        "        content_element = soup.find('div', class_='td-post-content tagdiv-type')\n",
        "        article_text = content_element.get_text() if content_element else \"Text not found\"  # Adjust class name accordingly\n",
        "\n",
        "        # Save the article title and text to a text file\n",
        "        filename = f\"{url_id}.txt\"\n",
        "        with open(filename, 'w', encoding='utf-8') as file:\n",
        "            file.write(f\"Title: {article_title}\\n\\n\")\n",
        "            file.write(f\"Text: {article_text}\")\n",
        "\n",
        "        print(f\"Article saved successfully to {filename}\")\n",
        "    else:\n",
        "        print(f\"Failed to retrieve the webpage. Status code: {response.status_code}\")\n",
        "\n",
        "\n",
        "url = 'https://insights.blackcoffer.com/the-rise-of-the-ott-platform-and-its-impact-on-the-entertainment-industry-by-2040/'\n",
        "url_id = 'blackassign0006'\n",
        "extract_and_save_article(url, url_id)"
      ],
      "metadata": {
        "colab": {
          "base_uri": "https://localhost:8080/"
        },
        "id": "j7eeF56HP4wT",
        "outputId": "fad19965-067a-4c61-b469-5f85e1bd9425"
      },
      "execution_count": null,
      "outputs": [
        {
          "output_type": "stream",
          "name": "stdout",
          "text": [
            "Article saved successfully to blackassign0006.txt\n"
          ]
        }
      ]
    },
    {
      "cell_type": "code",
      "source": [
        "\n",
        "\n",
        "# Example usage\n",
        "file_path = '/content/blackassign0006.txt'\n",
        "\n",
        "with open(file_path, 'r', encoding='utf-8') as file:\n",
        "    text_content = file.read()\n",
        "\n",
        "results = calculate_scores(text_content)\n",
        "\n",
        "# Print the results\n",
        "for key, value in results.items():\n",
        "    print(f\"{key}: {value}\")\n",
        "update_scores_excel(results)"
      ],
      "metadata": {
        "colab": {
          "base_uri": "https://localhost:8080/"
        },
        "id": "Dq-G4hAS9DB2",
        "outputId": "4bfdf432-59d5-4b6d-a188-6c8538656b0e"
      },
      "execution_count": null,
      "outputs": [
        {
          "output_type": "stream",
          "name": "stdout",
          "text": [
            "Positive Score: 0\n",
            "Negative Score: 1\n",
            "Polarity Score: -0.9999990000010001\n",
            "Subjectivity Score: 0.0008779631247779076\n",
            "Average Sentence Length: 12.797752808988765\n",
            "Percentage of Complex Words: 0.0\n",
            "Fog Index: 5.119101123595506\n",
            "Average Number of Words Per Sentence: 12.797752808988765\n",
            "Complex Word Count: 0\n",
            "Word Count: 1139\n",
            "Syllables per Word: 2938\n",
            "Personal Pronoun Count: 0\n",
            "Average Word Length: 7.733977172958736\n"
          ]
        }
      ]
    },
    {
      "cell_type": "code",
      "source": [
        "url = 'https://insights.blackcoffer.com/rise-of-cyber-crime-and-its-effects/'\n",
        "url_id = 'blackassign0007'\n",
        "extract_and_save_article(url, url_id)"
      ],
      "metadata": {
        "colab": {
          "base_uri": "https://localhost:8080/"
        },
        "id": "FYIjZEWIRycp",
        "outputId": "3cc69dc6-e1dd-4a88-92f0-629692df4cf1"
      },
      "execution_count": null,
      "outputs": [
        {
          "output_type": "stream",
          "name": "stdout",
          "text": [
            "Article saved successfully to blackassign0007.txt\n"
          ]
        }
      ]
    },
    {
      "cell_type": "code",
      "source": [
        "# Example usage\n",
        "file_path = '/content/blackassign0007.txt'\n",
        "\n",
        "with open(file_path, 'r', encoding='utf-8') as file:\n",
        "    text_content = file.read()\n",
        "\n",
        "results = calculate_scores(text_content)\n",
        "\n",
        "# Print the results\n",
        "for key, value in results.items():\n",
        "    print(f\"{key}: {value}\")\n",
        "update_scores_excel(results)"
      ],
      "metadata": {
        "colab": {
          "base_uri": "https://localhost:8080/"
        },
        "id": "m0JXpR8HS8Dx",
        "outputId": "0260b5c5-798b-4882-e83e-f37a7899f637"
      },
      "execution_count": null,
      "outputs": [
        {
          "output_type": "stream",
          "name": "stdout",
          "text": [
            "Positive Score: 0\n",
            "Negative Score: 1\n",
            "Polarity Score: -0.9999990000010001\n",
            "Subjectivity Score: 0.00129198966241345\n",
            "Average Sentence Length: 10.18421052631579\n",
            "Percentage of Complex Words: 0.0\n",
            "Fog Index: 4.073684210526316\n",
            "Average Number of Words Per Sentence: 10.18421052631579\n",
            "Complex Word Count: 0\n",
            "Word Count: 774\n",
            "Syllables per Word: 1772\n",
            "Personal Pronoun Count: 1\n",
            "Average Word Length: 6.820413436692506\n"
          ]
        }
      ]
    },
    {
      "cell_type": "code",
      "source": [
        "\n",
        "url = 'https://insights.blackcoffer.com/rise-of-internet-demand-and-its-impact-on-communications-and-alternatives-by-the-year-2035-2/'\n",
        "url_id = 'blackassign0008'\n",
        "extract_and_save_article(url, url_id)"
      ],
      "metadata": {
        "colab": {
          "base_uri": "https://localhost:8080/"
        },
        "id": "enrShrVyUydI",
        "outputId": "0828b4e0-5502-4069-cb8c-2dbcfdd0906f"
      },
      "execution_count": null,
      "outputs": [
        {
          "output_type": "stream",
          "name": "stdout",
          "text": [
            "Article saved successfully to blackassign0008.txt\n"
          ]
        }
      ]
    },
    {
      "cell_type": "code",
      "source": [
        "file_path = '/content/blackassign0008.txt'\n",
        "with open(file_path, 'r', encoding='utf-8') as file:\n",
        "    text_content = file.read()\n",
        "\n",
        "results = calculate_scores(text_content)\n",
        "\n",
        "# Print the results\n",
        "for key, value in results.items():\n",
        "    print(f\"{key}: {value}\")\n",
        "update_scores_excel(results)"
      ],
      "metadata": {
        "colab": {
          "base_uri": "https://localhost:8080/"
        },
        "id": "-QANUawOU7cI",
        "outputId": "62f42b1d-ad91-4a41-be86-03e7f80e7bb8"
      },
      "execution_count": null,
      "outputs": [
        {
          "output_type": "stream",
          "name": "stdout",
          "text": [
            "Positive Score: 0\n",
            "Negative Score: 0\n",
            "Polarity Score: 0.0\n",
            "Subjectivity Score: 0.0\n",
            "Average Sentence Length: 10.5\n",
            "Percentage of Complex Words: 0.0\n",
            "Fog Index: 4.2\n",
            "Average Number of Words Per Sentence: 10.5\n",
            "Complex Word Count: 0\n",
            "Word Count: 504\n",
            "Syllables per Word: 1385\n",
            "Personal Pronoun Count: 0\n",
            "Average Word Length: 7.908730158730159\n"
          ]
        }
      ]
    },
    {
      "cell_type": "code",
      "source": [
        "\n",
        "url = 'https://insights.blackcoffer.com/rise-of-cybercrime-and-its-effect-by-the-year-2040-2/'\n",
        "url_id = 'blackassign0009'\n",
        "extract_and_save_article(url, url_id)"
      ],
      "metadata": {
        "colab": {
          "base_uri": "https://localhost:8080/"
        },
        "id": "PWzrKxniWN6Y",
        "outputId": "4b176fa7-c9f5-40ac-cc43-edb3aa340b33"
      },
      "execution_count": null,
      "outputs": [
        {
          "output_type": "stream",
          "name": "stdout",
          "text": [
            "Article saved successfully to blackassign0009.txt\n"
          ]
        }
      ]
    },
    {
      "cell_type": "code",
      "source": [
        "file_path = '/content/blackassign0009.txt'\n",
        "with open(file_path, 'r', encoding='utf-8') as file:\n",
        "    text_content = file.read()\n",
        "\n",
        "results = calculate_scores(text_content)\n",
        "\n",
        "# Print the results\n",
        "for key, value in results.items():\n",
        "    print(f\"{key}: {value}\")\n",
        "update_scores_excel(results)"
      ],
      "metadata": {
        "colab": {
          "base_uri": "https://localhost:8080/"
        },
        "id": "dTKoIdpVWZ0Y",
        "outputId": "0600c78b-5072-4237-8d74-78d24d5a9480"
      },
      "execution_count": null,
      "outputs": [
        {
          "output_type": "stream",
          "name": "stdout",
          "text": [
            "Positive Score: 0\n",
            "Negative Score: 0\n",
            "Polarity Score: 0.0\n",
            "Subjectivity Score: 0.0\n",
            "Average Sentence Length: 11.068965517241379\n",
            "Percentage of Complex Words: 0.0\n",
            "Fog Index: 4.427586206896552\n",
            "Average Number of Words Per Sentence: 11.068965517241379\n",
            "Complex Word Count: 0\n",
            "Word Count: 642\n",
            "Syllables per Word: 1695\n",
            "Personal Pronoun Count: 0\n",
            "Average Word Length: 7.867601246105919\n"
          ]
        }
      ]
    },
    {
      "cell_type": "code",
      "source": [
        "\n",
        "url = 'https://insights.blackcoffer.com/rise-of-cybercrime-and-its-effect-by-the-year-2040/'\n",
        "url_id = 'blackassign0010'\n",
        "extract_and_save_article(url, url_id)"
      ],
      "metadata": {
        "colab": {
          "base_uri": "https://localhost:8080/"
        },
        "id": "HyJaEk2nWpKg",
        "outputId": "ade1b9ef-5204-497d-f0ef-bacaceac11db"
      },
      "execution_count": null,
      "outputs": [
        {
          "output_type": "stream",
          "name": "stdout",
          "text": [
            "Article saved successfully to blackassign0010.txt\n"
          ]
        }
      ]
    },
    {
      "cell_type": "code",
      "source": [
        "file_path = '/content/blackassign0010.txt'\n",
        "with open(file_path, 'r', encoding='utf-8') as file:\n",
        "    text_content = file.read()\n",
        "\n",
        "results = calculate_scores(text_content)\n",
        "\n",
        "# Print the results\n",
        "for key, value in results.items():\n",
        "    print(f\"{key}: {value}\")\n",
        "update_scores_excel(results)"
      ],
      "metadata": {
        "colab": {
          "base_uri": "https://localhost:8080/"
        },
        "id": "VGOyeNdPYeyH",
        "outputId": "3f2a9f0f-9c48-4c6b-aeb2-f4e060c3e5b5"
      },
      "execution_count": null,
      "outputs": [
        {
          "output_type": "stream",
          "name": "stdout",
          "text": [
            "Positive Score: 0\n",
            "Negative Score: 5\n",
            "Polarity Score: -0.99999980000004\n",
            "Subjectivity Score: 0.002527805863231645\n",
            "Average Sentence Length: 8.276150627615063\n",
            "Percentage of Complex Words: 0.0\n",
            "Fog Index: 3.3104602510460257\n",
            "Average Number of Words Per Sentence: 8.276150627615063\n",
            "Complex Word Count: 0\n",
            "Word Count: 1978\n",
            "Syllables per Word: 5034\n",
            "Personal Pronoun Count: 0\n",
            "Average Word Length: 7.514661274014156\n"
          ]
        }
      ]
    },
    {
      "cell_type": "code",
      "source": [
        "\n",
        "url = 'https://insights.blackcoffer.com/rise-of-internet-demand-and-its-impact-on-communications-and-alternatives-by-the-year-2035/'\n",
        "url_id = 'blackassign0011'\n",
        "extract_and_save_article(url, url_id)"
      ],
      "metadata": {
        "colab": {
          "base_uri": "https://localhost:8080/"
        },
        "id": "-9ejcjEWZr02",
        "outputId": "9c58808b-624e-4c64-98d4-23ddc3d9b9a3"
      },
      "execution_count": null,
      "outputs": [
        {
          "output_type": "stream",
          "name": "stdout",
          "text": [
            "Article saved successfully to blackassign0011.txt\n"
          ]
        }
      ]
    },
    {
      "cell_type": "code",
      "source": [
        "file_path = '/content/blackassign0011.txt'\n",
        "with open(file_path, 'r', encoding='utf-8') as file:\n",
        "    text_content = file.read()\n",
        "\n",
        "results = calculate_scores(text_content)\n",
        "\n",
        "# Print the results\n",
        "for key, value in results.items():\n",
        "    print(f\"{key}: {value}\")\n",
        "update_scores_excel(results)"
      ],
      "metadata": {
        "colab": {
          "base_uri": "https://localhost:8080/"
        },
        "id": "rTf__1z6Z3rm",
        "outputId": "d7c03037-bb0f-4d76-856b-57dd32fc5fc4"
      },
      "execution_count": null,
      "outputs": [
        {
          "output_type": "stream",
          "name": "stdout",
          "text": [
            "Positive Score: 0\n",
            "Negative Score: 1\n",
            "Polarity Score: -0.9999990000010001\n",
            "Subjectivity Score: 0.001146788989510563\n",
            "Average Sentence Length: 12.823529411764707\n",
            "Percentage of Complex Words: 0.0\n",
            "Fog Index: 5.129411764705883\n",
            "Average Number of Words Per Sentence: 12.823529411764707\n",
            "Complex Word Count: 0\n",
            "Word Count: 872\n",
            "Syllables per Word: 2276\n",
            "Personal Pronoun Count: 0\n",
            "Average Word Length: 7.637614678899083\n"
          ]
        }
      ]
    },
    {
      "cell_type": "code",
      "source": [
        "\n",
        "url = 'https://insights.blackcoffer.com/rise-of-telemedicine-and-its-impact-on-livelihood-by-2040-3-2/'\n",
        "url_id = 'blackassign0012'\n",
        "extract_and_save_article(url, url_id)"
      ],
      "metadata": {
        "colab": {
          "base_uri": "https://localhost:8080/"
        },
        "id": "7K2OL0c2Z7hm",
        "outputId": "6a9c07ee-975a-4984-a30d-003a75e54bc4"
      },
      "execution_count": null,
      "outputs": [
        {
          "output_type": "stream",
          "name": "stdout",
          "text": [
            "Article saved successfully to blackassign0012.txt\n"
          ]
        }
      ]
    },
    {
      "cell_type": "code",
      "source": [
        "file_path = '/content/blackassign0012.txt'\n",
        "with open(file_path, 'r', encoding='utf-8') as file:\n",
        "    text_content = file.read()\n",
        "\n",
        "results = calculate_scores(text_content)\n",
        "\n",
        "# Print the results\n",
        "for key, value in results.items():\n",
        "    print(f\"{key}: {value}\")\n",
        "update_scores_excel(results)"
      ],
      "metadata": {
        "colab": {
          "base_uri": "https://localhost:8080/"
        },
        "id": "X22KMI6HbcBP",
        "outputId": "561eab18-2cef-42d3-f737-1dedff36e9a3"
      },
      "execution_count": null,
      "outputs": [
        {
          "output_type": "stream",
          "name": "stdout",
          "text": [
            "Positive Score: 1\n",
            "Negative Score: 2\n",
            "Polarity Score: -0.33333322222225925\n",
            "Subjectivity Score: 0.0030120481897469398\n",
            "Average Sentence Length: 12.45\n",
            "Percentage of Complex Words: 0.0\n",
            "Fog Index: 4.98\n",
            "Average Number of Words Per Sentence: 12.45\n",
            "Complex Word Count: 0\n",
            "Word Count: 996\n",
            "Syllables per Word: 2620\n",
            "Personal Pronoun Count: 0\n",
            "Average Word Length: 7.3453815261044175\n"
          ]
        }
      ]
    },
    {
      "cell_type": "code",
      "source": [
        "\n",
        "url = 'https://insights.blackcoffer.com/rise-of-e-health-and-its-impact-on-humans-by-the-year-2030/'\n",
        "url_id = 'blackassign0013'\n",
        "extract_and_save_article(url, url_id)"
      ],
      "metadata": {
        "colab": {
          "base_uri": "https://localhost:8080/"
        },
        "id": "Zd1H6PmidtTd",
        "outputId": "9f9a8ebc-af2b-496f-c530-5cf05df8e3b7"
      },
      "execution_count": null,
      "outputs": [
        {
          "output_type": "stream",
          "name": "stdout",
          "text": [
            "Article saved successfully to blackassign0013.txt\n"
          ]
        }
      ]
    },
    {
      "cell_type": "code",
      "source": [
        "file_path = '/content/blackassign0013.txt'\n",
        "with open(file_path, 'r', encoding='utf-8') as file:\n",
        "    text_content = file.read()\n",
        "\n",
        "results = calculate_scores(text_content)\n",
        "\n",
        "# Print the results\n",
        "for key, value in results.items():\n",
        "    print(f\"{key}: {value}\")\n",
        "update_scores_excel(results)"
      ],
      "metadata": {
        "colab": {
          "base_uri": "https://localhost:8080/"
        },
        "id": "UDzI-btTd9qm",
        "outputId": "71328fc2-7111-4f83-9da4-52ec44bb44b1"
      },
      "execution_count": null,
      "outputs": [
        {
          "output_type": "stream",
          "name": "stdout",
          "text": [
            "Positive Score: 0\n",
            "Negative Score: 1\n",
            "Polarity Score: -0.9999990000010001\n",
            "Subjectivity Score: 0.0030120481836986503\n",
            "Average Sentence Length: 13.28\n",
            "Percentage of Complex Words: 0.0\n",
            "Fog Index: 5.312\n",
            "Average Number of Words Per Sentence: 13.28\n",
            "Complex Word Count: 0\n",
            "Word Count: 332\n",
            "Syllables per Word: 863\n",
            "Personal Pronoun Count: 0\n",
            "Average Word Length: 7.5602409638554215\n"
          ]
        }
      ]
    },
    {
      "cell_type": "code",
      "source": [
        "\n",
        "def extract_and_save_article_1(url, url_id):\n",
        "    # Send a GET request to the URL\n",
        "    response = requests.get(url)\n",
        "\n",
        "    # Check if the request was successful (status code 200)\n",
        "    if response.status_code == 200:\n",
        "        # Parse the HTML content of the page\n",
        "        soup = BeautifulSoup(response.text, 'html.parser')\n",
        "\n",
        "        # Find the article title\n",
        "        title_element = soup.find('h1', class_='tdb-title-text')\n",
        "        article_title = title_element.get_text() if title_element else \"Title not found\"  # Adjust class name accordingly\n",
        "\n",
        "        # Find the article text\n",
        "        content_element = soup.find('div', class_='td_block_wrap tdb_single_content tdi_130 td-pb-border-top td_block_template_1 td-post-content tagdiv-type')\n",
        "        article_text = content_element.get_text() if content_element else \"Text not found\"  # Adjust class name accordingly\n",
        "\n",
        "        # Save the article title and text to a text file\n",
        "        filename = f\"{url_id}.txt\"\n",
        "        with open(filename, 'w', encoding='utf-8') as file:\n",
        "            file.write(f\"Title: {article_title}\\n\\n\")\n",
        "            file.write(f\"Text: {article_text}\")\n",
        "\n",
        "        print(f\"Article saved successfully to {filename}\")\n",
        "    else:\n",
        "        print(f\"Failed to retrieve the webpage. Status code: {response.status_code}\")\n",
        "\n",
        "\n",
        "url = 'https://insights.blackcoffer.com/rise-of-e-health-and-its-imapct-on-humans-by-the-year-2030-2/'\n",
        "url_id = 'blackassign0014'\n",
        "extract_and_save_article_1(url, url_id)"
      ],
      "metadata": {
        "colab": {
          "base_uri": "https://localhost:8080/"
        },
        "id": "jO8haUKKeOgN",
        "outputId": "4eaa17aa-e592-4ba7-a5bc-1ebe5100a0e9"
      },
      "execution_count": null,
      "outputs": [
        {
          "output_type": "stream",
          "name": "stdout",
          "text": [
            "Article saved successfully to blackassign0014.txt\n"
          ]
        }
      ]
    },
    {
      "cell_type": "code",
      "source": [
        "file_path = '/content/blackassign0014.txt'\n",
        "with open(file_path, 'r', encoding='utf-8') as file:\n",
        "    text_content = file.read()\n",
        "\n",
        "results = calculate_scores(text_content)\n",
        "\n",
        "# Print the results\n",
        "for key, value in results.items():\n",
        "    print(f\"{key}: {value}\")\n",
        "update_scores_excel(results)"
      ],
      "metadata": {
        "colab": {
          "base_uri": "https://localhost:8080/"
        },
        "id": "NGd7wVixhv5t",
        "outputId": "98e5032c-1723-44fe-ef06-556f58c0d37c"
      },
      "execution_count": null,
      "outputs": [
        {
          "output_type": "stream",
          "name": "stdout",
          "text": [
            "Positive Score: 0\n",
            "Negative Score: 0\n",
            "Polarity Score: 0.0\n",
            "Subjectivity Score: 0.0\n",
            "Average Sentence Length: 8.869565217391305\n",
            "Percentage of Complex Words: 0.0\n",
            "Fog Index: 3.547826086956522\n",
            "Average Number of Words Per Sentence: 8.869565217391305\n",
            "Complex Word Count: 0\n",
            "Word Count: 612\n",
            "Syllables per Word: 1398\n",
            "Personal Pronoun Count: 0\n",
            "Average Word Length: 6.890522875816994\n"
          ]
        }
      ]
    },
    {
      "cell_type": "code",
      "source": [
        "def extract_and_save_article_2(url, url_id):\n",
        "    # Send a GET request to the URL\n",
        "    response = requests.get(url)\n",
        "\n",
        "    # Check if the request was successful (status code 200)\n",
        "    if response.status_code == 200:\n",
        "        # Parse the HTML content of the page\n",
        "        soup = BeautifulSoup(response.text, 'html.parser')\n",
        "\n",
        "        # Find the article title\n",
        "        title_element = soup.find('span', class_='td-bred-no-url-last')\n",
        "        article_title = title_element.get_text() if title_element else \"Title not found\"  # Adjust class name accordingly\n",
        "\n",
        "        # Find the article text\n",
        "        content_element = soup.find('div', class_='td-post-content tagdiv-type')\n",
        "        article_text = content_element.get_text() if content_element else \"Text not found\"  # Adjust class name accordingly\n",
        "\n",
        "        # Save the article title and text to a text file\n",
        "        filename = f\"{url_id}.txt\"\n",
        "        with open(filename, 'w', encoding='utf-8') as file:\n",
        "            file.write(f\"Title: {article_title}\\n\\n\")\n",
        "            file.write(f\"Text: {article_text}\")\n",
        "\n",
        "        print(f\"Article saved successfully to {filename}\")\n",
        "    else:\n",
        "        print(f\"Failed to retrieve the webpage. Status code: {response.status_code}\")\n",
        "\n",
        "\n",
        "\n",
        "url = 'https://insights.blackcoffer.com/rise-of-telemedicine-and-its-impact-on-livelihood-by-2040-2/'\n",
        "url_id = 'blackassign0015'\n",
        "extract_and_save_article_2(url, url_id)"
      ],
      "metadata": {
        "colab": {
          "base_uri": "https://localhost:8080/"
        },
        "id": "q-u4hZDjm2_S",
        "outputId": "3e8a8c2a-d9fa-4291-bad9-52ea20d03c18"
      },
      "execution_count": null,
      "outputs": [
        {
          "output_type": "stream",
          "name": "stdout",
          "text": [
            "Article saved successfully to blackassign0015.txt\n"
          ]
        }
      ]
    },
    {
      "cell_type": "code",
      "source": [
        "file_path = '/content/blackassign0015.txt'\n",
        "with open(file_path, 'r', encoding='utf-8') as file:\n",
        "    text_content = file.read()\n",
        "\n",
        "results = calculate_scores(text_content)\n",
        "\n",
        "# Print the results\n",
        "for key, value in results.items():\n",
        "    print(f\"{key}: {value}\")\n",
        "update_scores_excel(results)"
      ],
      "metadata": {
        "colab": {
          "base_uri": "https://localhost:8080/"
        },
        "id": "cqEN60h0nLFr",
        "outputId": "101c7c8d-6443-4891-ac36-9c085f3a7177"
      },
      "execution_count": null,
      "outputs": [
        {
          "output_type": "stream",
          "name": "stdout",
          "text": [
            "Positive Score: 0\n",
            "Negative Score: 1\n",
            "Polarity Score: -0.9999990000010001\n",
            "Subjectivity Score: 0.0013550135482994397\n",
            "Average Sentence Length: 12.3\n",
            "Percentage of Complex Words: 0.0\n",
            "Fog Index: 4.920000000000001\n",
            "Average Number of Words Per Sentence: 12.3\n",
            "Complex Word Count: 0\n",
            "Word Count: 738\n",
            "Syllables per Word: 1729\n",
            "Personal Pronoun Count: 0\n",
            "Average Word Length: 7.043360433604336\n"
          ]
        }
      ]
    },
    {
      "cell_type": "code",
      "source": [
        "url = 'https://insights.blackcoffer.com/rise-of-telemedicine-and-its-impact-on-livelihood-by-2040-2-2/'\n",
        "url_id = 'blackassign0016'\n",
        "extract_and_save_article_2(url, url_id)"
      ],
      "metadata": {
        "colab": {
          "base_uri": "https://localhost:8080/"
        },
        "id": "yHS8lqSAqCJU",
        "outputId": "042ca54c-231a-4ced-f0ed-89cba2b5b63f"
      },
      "execution_count": null,
      "outputs": [
        {
          "output_type": "stream",
          "name": "stdout",
          "text": [
            "Article saved successfully to blackassign0016.txt\n"
          ]
        }
      ]
    },
    {
      "cell_type": "code",
      "source": [
        "file_path = '/content/blackassign0016.txt'\n",
        "with open(file_path, 'r', encoding='utf-8') as file:\n",
        "    text_content = file.read()\n",
        "\n",
        "results = calculate_scores(text_content)\n",
        "\n",
        "# Print the results\n",
        "for key, value in results.items():\n",
        "    print(f\"{key}: {value}\")\n",
        "update_scores_excel(results)"
      ],
      "metadata": {
        "colab": {
          "base_uri": "https://localhost:8080/"
        },
        "id": "L_px0Y9EqW5-",
        "outputId": "8f1b12f7-37ff-4b47-9ce6-6e67779c810f"
      },
      "execution_count": null,
      "outputs": [
        {
          "output_type": "stream",
          "name": "stdout",
          "text": [
            "Positive Score: 0\n",
            "Negative Score: 1\n",
            "Polarity Score: -0.9999990000010001\n",
            "Subjectivity Score: 0.0013550135482994397\n",
            "Average Sentence Length: 12.3\n",
            "Percentage of Complex Words: 0.0\n",
            "Fog Index: 4.920000000000001\n",
            "Average Number of Words Per Sentence: 12.3\n",
            "Complex Word Count: 0\n",
            "Word Count: 738\n",
            "Syllables per Word: 1729\n",
            "Personal Pronoun Count: 0\n",
            "Average Word Length: 7.043360433604336\n"
          ]
        }
      ]
    },
    {
      "cell_type": "code",
      "source": [
        "def extract_and_save_article_3(url, url_id):\n",
        "    # Send a GET request to the URL\n",
        "    response = requests.get(url)\n",
        "\n",
        "    # Check if the request was successful (status code 200)\n",
        "    if response.status_code == 200:\n",
        "        # Parse the HTML content of the page\n",
        "        soup = BeautifulSoup(response.text, 'html.parser')\n",
        "\n",
        "        # Find the article title\n",
        "        title_element = soup.find('h1', class_='entry-title')\n",
        "        article_title = title_element.get_text() if title_element else \"Title not found\"  # Adjust class name accordingly\n",
        "\n",
        "        # Find the article text\n",
        "        content_element = soup.find('div', class_='td-post-content tagdiv-type')\n",
        "        article_text = content_element.get_text() if content_element else \"Text not found\"  # Adjust class name accordingly\n",
        "\n",
        "        # Save the article title and text to a text file\n",
        "        filename = f\"{url_id}.txt\"\n",
        "        with open(filename, 'w', encoding='utf-8') as file:\n",
        "            file.write(f\"Title: {article_title}\\n\\n\")\n",
        "            file.write(f\"Text: {article_text}\")\n",
        "\n",
        "        print(f\"Article saved successfully to {filename}\")\n",
        "    else:\n",
        "        print(f\"Failed to retrieve the webpage. Status code: {response.status_code}\")\n",
        "url = 'https://insights.blackcoffer.com/rise-of-chatbots-and-its-impact-on-customer-support-by-the-year-2040/'\n",
        "url_id = 'blackassign0017'\n",
        "extract_and_save_article_3(url, url_id)"
      ],
      "metadata": {
        "colab": {
          "base_uri": "https://localhost:8080/"
        },
        "id": "wW8LCG4htrAx",
        "outputId": "ffca7cf7-143f-4a64-8f00-eb2585cea7a0"
      },
      "execution_count": null,
      "outputs": [
        {
          "output_type": "stream",
          "name": "stdout",
          "text": [
            "Article saved successfully to blackassign0017.txt\n"
          ]
        }
      ]
    },
    {
      "cell_type": "code",
      "source": [
        "file_path = '/content/blackassign0017.txt'\n",
        "with open(file_path, 'r', encoding='utf-8') as file:\n",
        "    text_content = file.read()\n",
        "\n",
        "results = calculate_scores(text_content)\n",
        "\n",
        "# Print the results\n",
        "for key, value in results.items():\n",
        "    print(f\"{key}: {value}\")\n",
        "update_scores_excel(results)"
      ],
      "metadata": {
        "colab": {
          "base_uri": "https://localhost:8080/"
        },
        "id": "My0vHzOJt68Z",
        "outputId": "bd69b7f8-8ed7-4382-bb53-4c61b1114c45"
      },
      "execution_count": null,
      "outputs": [
        {
          "output_type": "stream",
          "name": "stdout",
          "text": [
            "Positive Score: 0\n",
            "Negative Score: 0\n",
            "Polarity Score: 0.0\n",
            "Subjectivity Score: 0.0\n",
            "Average Sentence Length: 10.63076923076923\n",
            "Percentage of Complex Words: 0.0\n",
            "Fog Index: 4.252307692307692\n",
            "Average Number of Words Per Sentence: 10.63076923076923\n",
            "Complex Word Count: 0\n",
            "Word Count: 691\n",
            "Syllables per Word: 1672\n",
            "Personal Pronoun Count: 0\n",
            "Average Word Length: 7.131693198263386\n"
          ]
        }
      ]
    },
    {
      "cell_type": "code",
      "source": [
        "url = 'https://insights.blackcoffer.com/rise-of-e-health-and-its-imapct-on-humans-by-the-year-2030/'\n",
        "url_id = 'blackassign0018'\n",
        "extract_and_save_article_2(url, url_id)"
      ],
      "metadata": {
        "colab": {
          "base_uri": "https://localhost:8080/"
        },
        "id": "EPWs-tuovqQZ",
        "outputId": "d8d7e5be-61cf-4b97-e4aa-32c9f4e7d66a"
      },
      "execution_count": null,
      "outputs": [
        {
          "output_type": "stream",
          "name": "stdout",
          "text": [
            "Article saved successfully to blackassign0018.txt\n"
          ]
        }
      ]
    },
    {
      "cell_type": "code",
      "source": [
        "file_path = '/content/blackassign0018.txt'\n",
        "with open(file_path, 'r', encoding='utf-8') as file:\n",
        "    text_content = file.read()\n",
        "\n",
        "results = calculate_scores(text_content)\n",
        "\n",
        "# Print the results\n",
        "for key, value in results.items():\n",
        "    print(f\"{key}: {value}\")\n",
        "update_scores_excel(results)"
      ],
      "metadata": {
        "colab": {
          "base_uri": "https://localhost:8080/"
        },
        "id": "ULxnrXbNv8WQ",
        "outputId": "421cb300-e99f-40ea-84eb-94fab990458c"
      },
      "execution_count": null,
      "outputs": [
        {
          "output_type": "stream",
          "name": "stdout",
          "text": [
            "Positive Score: 2\n",
            "Negative Score: 1\n",
            "Polarity Score: 0.33333322222225925\n",
            "Subjectivity Score: 0.004958677677754252\n",
            "Average Sentence Length: 13.444444444444445\n",
            "Percentage of Complex Words: 0.0\n",
            "Fog Index: 5.377777777777778\n",
            "Average Number of Words Per Sentence: 13.444444444444445\n",
            "Complex Word Count: 0\n",
            "Word Count: 605\n",
            "Syllables per Word: 1500\n",
            "Personal Pronoun Count: 0\n",
            "Average Word Length: 7.274380165289256\n"
          ]
        }
      ]
    },
    {
      "cell_type": "code",
      "source": [
        "url = 'https://insights.blackcoffer.com/how-does-marketing-influence-businesses-and-consumers/'\n",
        "url_id = 'blackassign0019'\n",
        "extract_and_save_article_2(url, url_id)"
      ],
      "metadata": {
        "colab": {
          "base_uri": "https://localhost:8080/"
        },
        "id": "s4XTs7eyzPvK",
        "outputId": "1d62187c-b210-4363-8365-1cc8cafa630b"
      },
      "execution_count": null,
      "outputs": [
        {
          "output_type": "stream",
          "name": "stdout",
          "text": [
            "Article saved successfully to blackassign0019.txt\n"
          ]
        }
      ]
    },
    {
      "cell_type": "code",
      "source": [
        "file_path = '/content/blackassign0019.txt'\n",
        "with open(file_path, 'r', encoding='utf-8') as file:\n",
        "    text_content = file.read()\n",
        "\n",
        "results = calculate_scores(text_content)\n",
        "\n",
        "# Print the results\n",
        "for key, value in results.items():\n",
        "    print(f\"{key}: {value}\")\n",
        "update_scores_excel(results)"
      ],
      "metadata": {
        "colab": {
          "base_uri": "https://localhost:8080/"
        },
        "id": "LDcV03sUzXos",
        "outputId": "459b43d4-c4df-4abe-aaa0-29ea51a030d4"
      },
      "execution_count": null,
      "outputs": [
        {
          "output_type": "stream",
          "name": "stdout",
          "text": [
            "Positive Score: 4\n",
            "Negative Score: 1\n",
            "Polarity Score: 0.599999880000024\n",
            "Subjectivity Score: 0.005219206675136527\n",
            "Average Sentence Length: 9.979166666666666\n",
            "Percentage of Complex Words: 0.0\n",
            "Fog Index: 3.9916666666666667\n",
            "Average Number of Words Per Sentence: 9.979166666666666\n",
            "Complex Word Count: 0\n",
            "Word Count: 958\n",
            "Syllables per Word: 2319\n",
            "Personal Pronoun Count: 0\n",
            "Average Word Length: 7.180584551148225\n"
          ]
        }
      ]
    },
    {
      "cell_type": "code",
      "source": [
        "\n",
        "def extract_and_save_article_4(url, url_id):\n",
        "    # Send a GET request to the URL\n",
        "    response = requests.get(url)\n",
        "\n",
        "    # Check if the request was successful (status code 200)\n",
        "    if response.status_code == 200:\n",
        "        # Parse the HTML content of the page\n",
        "        soup = BeautifulSoup(response.text, 'html.parser')\n",
        "\n",
        "        # Find the article title\n",
        "        title_element = soup.find('h1', class_='tdb-title-text')\n",
        "        article_title = title_element.get_text() if title_element else \"Title not found\"  # Adjust class name accordingly\n",
        "\n",
        "        # Find the article text\n",
        "        content_element = soup.find('div', class_='td_block_wrap tdb_single_content tdi_130 td-pb-border-top td_block_template_1 td-post-content tagdiv-type')\n",
        "        article_text = content_element.get_text() if content_element else \"Text not found\"  # Adjust class name accordingly\n",
        "\n",
        "        # Save the article title and text to a text file\n",
        "        filename = f\"{url_id}.txt\"\n",
        "        with open(filename, 'w', encoding='utf-8') as file:\n",
        "            file.write(f\"Title: {article_title}\\n\\n\")\n",
        "            file.write(f\"Text: {article_text}\")\n",
        "\n",
        "        print(f\"Article saved successfully to {filename}\")\n",
        "    else:\n",
        "        print(f\"Failed to retrieve the webpage. Status code: {response.status_code}\")\n",
        "\n",
        "url = 'https://insights.blackcoffer.com/how-advertisement-increase-your-market-value/'\n",
        "url_id = 'blackassign0020'\n",
        "extract_and_save_article_4(url, url_id)"
      ],
      "metadata": {
        "colab": {
          "base_uri": "https://localhost:8080/"
        },
        "id": "zyKmKxek1dO5",
        "outputId": "7d89b11b-06d7-4895-e90e-b37daa43eced"
      },
      "execution_count": null,
      "outputs": [
        {
          "output_type": "stream",
          "name": "stdout",
          "text": [
            "Article saved successfully to blackassign0020.txt\n"
          ]
        }
      ]
    },
    {
      "cell_type": "code",
      "source": [
        "file_path = '/content/blackassign0020.txt'\n",
        "with open(file_path, 'r', encoding='utf-8') as file:\n",
        "    text_content = file.read()\n",
        "\n",
        "results = calculate_scores(text_content)\n",
        "\n",
        "# Print the results\n",
        "for key, value in results.items():\n",
        "    print(f\"{key}: {value}\")\n",
        "update_scores_excel(results)"
      ],
      "metadata": {
        "colab": {
          "base_uri": "https://localhost:8080/"
        },
        "id": "rvHGlumm2wTo",
        "outputId": "249261a0-0714-4aa3-90e5-b137e232c1f0"
      },
      "execution_count": null,
      "outputs": [
        {
          "output_type": "stream",
          "name": "stdout",
          "text": [
            "Positive Score: 0\n",
            "Negative Score: 0\n",
            "Polarity Score: 0.0\n",
            "Subjectivity Score: 0.0\n",
            "Average Sentence Length: 10.0\n",
            "Percentage of Complex Words: 0.0\n",
            "Fog Index: 4.0\n",
            "Average Number of Words Per Sentence: 10.0\n",
            "Complex Word Count: 0\n",
            "Word Count: 270\n",
            "Syllables per Word: 609\n",
            "Personal Pronoun Count: 0\n",
            "Average Word Length: 6.866666666666666\n"
          ]
        }
      ]
    },
    {
      "cell_type": "code",
      "source": [
        "\n",
        "url = 'https://insights.blackcoffer.com/rise-of-chatbots-and-its-impact-on-customer-support-by-the-year-2040/'\n",
        "url_id = 'blackassign0021'\n",
        "extract_and_save_article_3(url, url_id)"
      ],
      "metadata": {
        "colab": {
          "base_uri": "https://localhost:8080/"
        },
        "id": "Z2tdDkBY7baG",
        "outputId": "cdae072c-db86-45f5-825c-df025cf687fd"
      },
      "execution_count": null,
      "outputs": [
        {
          "output_type": "stream",
          "name": "stdout",
          "text": [
            "Article saved successfully to blackassign0021.txt\n"
          ]
        }
      ]
    },
    {
      "cell_type": "code",
      "source": [
        "file_path = '/content/blackassign0021.txt'\n",
        "with open(file_path, 'r', encoding='utf-8') as file:\n",
        "    text_content = file.read()\n",
        "\n",
        "results = calculate_scores(text_content)\n",
        "\n",
        "# Print the results\n",
        "for key, value in results.items():\n",
        "    print(f\"{key}: {value}\")\n",
        "update_scores_excel(results)"
      ],
      "metadata": {
        "colab": {
          "base_uri": "https://localhost:8080/"
        },
        "id": "0h0Q-Qxo78zN",
        "outputId": "c7633d89-8c3c-4c61-97a0-73593d8703cf"
      },
      "execution_count": null,
      "outputs": [
        {
          "output_type": "stream",
          "name": "stdout",
          "text": [
            "Positive Score: 0\n",
            "Negative Score: 0\n",
            "Polarity Score: 0.0\n",
            "Subjectivity Score: 0.0\n",
            "Average Sentence Length: 10.63076923076923\n",
            "Percentage of Complex Words: 0.0\n",
            "Fog Index: 4.252307692307692\n",
            "Average Number of Words Per Sentence: 10.63076923076923\n",
            "Complex Word Count: 0\n",
            "Word Count: 691\n",
            "Syllables per Word: 1672\n",
            "Personal Pronoun Count: 0\n",
            "Average Word Length: 7.131693198263386\n"
          ]
        }
      ]
    },
    {
      "cell_type": "code",
      "source": [
        "\n",
        "\n",
        "url = 'https://insights.blackcoffer.com/how-advertisement-marketing-affects-business/'\n",
        "url_id = 'blackassign0022'\n",
        "extract_and_save_article_2(url, url_id)"
      ],
      "metadata": {
        "colab": {
          "base_uri": "https://localhost:8080/"
        },
        "id": "e8jKwWaXBgoM",
        "outputId": "67c9a64c-a747-496c-da2e-364bde548d98"
      },
      "execution_count": null,
      "outputs": [
        {
          "output_type": "stream",
          "name": "stdout",
          "text": [
            "Article saved successfully to blackassign0022.txt\n"
          ]
        }
      ]
    },
    {
      "cell_type": "code",
      "source": [
        "file_path = '/content/blackassign0022.txt'\n",
        "with open(file_path, 'r', encoding='utf-8') as file:\n",
        "    text_content = file.read()\n",
        "\n",
        "results = calculate_scores(text_content)\n",
        "\n",
        "# Print the results\n",
        "for key, value in results.items():\n",
        "    print(f\"{key}: {value}\")\n",
        "update_scores_excel(results)\n"
      ],
      "metadata": {
        "colab": {
          "base_uri": "https://localhost:8080/"
        },
        "id": "wIPY3NHABonT",
        "outputId": "c556ce20-a1dd-40fe-d105-c93f64b3f390"
      },
      "execution_count": null,
      "outputs": [
        {
          "output_type": "stream",
          "name": "stdout",
          "text": [
            "Positive Score: 1\n",
            "Negative Score: 1\n",
            "Polarity Score: 0.0\n",
            "Subjectivity Score: 0.009216589819278387\n",
            "Average Sentence Length: 7.75\n",
            "Percentage of Complex Words: 0.0\n",
            "Fog Index: 3.1\n",
            "Average Number of Words Per Sentence: 7.75\n",
            "Complex Word Count: 0\n",
            "Word Count: 217\n",
            "Syllables per Word: 509\n",
            "Personal Pronoun Count: 0\n",
            "Average Word Length: 6.8341013824884795\n"
          ]
        }
      ]
    },
    {
      "cell_type": "code",
      "source": [
        "\n",
        "url = 'https://insights.blackcoffer.com/rising-it-cities-will-impact-the-economy-environment-infrastructure-and-city-life-by-the-year-2035/'\n",
        "url_id = 'blackassign0023'\n",
        "extract_and_save_article_3(url, url_id)"
      ],
      "metadata": {
        "colab": {
          "base_uri": "https://localhost:8080/"
        },
        "id": "6QII07O8Wfyr",
        "outputId": "e5248d9d-31f6-45d8-82bc-fea803c574a4"
      },
      "execution_count": null,
      "outputs": [
        {
          "output_type": "stream",
          "name": "stdout",
          "text": [
            "Article saved successfully to blackassign0023.txt\n"
          ]
        }
      ]
    },
    {
      "cell_type": "code",
      "source": [
        "file_path = '/content/blackassign0023.txt'\n",
        "with open(file_path, 'r', encoding='utf-8') as file:\n",
        "    text_content = file.read()\n",
        "\n",
        "results = calculate_scores(text_content)\n",
        "\n",
        "# Print the results\n",
        "for key, value in results.items():\n",
        "    print(f\"{key}: {value}\")\n",
        "update_scores_excel(results)"
      ],
      "metadata": {
        "colab": {
          "base_uri": "https://localhost:8080/"
        },
        "id": "r9XRtTALWvqr",
        "outputId": "14d3ca5d-16ee-41d8-c02f-4e998598489c"
      },
      "execution_count": null,
      "outputs": [
        {
          "output_type": "stream",
          "name": "stdout",
          "text": [
            "Positive Score: 1\n",
            "Negative Score: 1\n",
            "Polarity Score: 0.0\n",
            "Subjectivity Score: 0.0026212319755947156\n",
            "Average Sentence Length: 11.921875\n",
            "Percentage of Complex Words: 0.0\n",
            "Fog Index: 4.76875\n",
            "Average Number of Words Per Sentence: 11.921875\n",
            "Complex Word Count: 0\n",
            "Word Count: 763\n",
            "Syllables per Word: 1708\n",
            "Personal Pronoun Count: 2\n",
            "Average Word Length: 6.7011795543905635\n"
          ]
        }
      ]
    },
    {
      "cell_type": "code",
      "source": [
        "\n",
        "url = 'https://insights.blackcoffer.com/rise-of-ott-platform-and-its-impact-on-entertainment-industry-by-the-year-2030/'\n",
        "url_id = 'blackassign0024'\n",
        "extract_and_save_article_3(url, url_id)"
      ],
      "metadata": {
        "colab": {
          "base_uri": "https://localhost:8080/"
        },
        "id": "IPCmrw62YMbr",
        "outputId": "ae67eda9-5410-40cc-905f-05b7a86934b1"
      },
      "execution_count": null,
      "outputs": [
        {
          "output_type": "stream",
          "name": "stdout",
          "text": [
            "Article saved successfully to blackassign0024.txt\n"
          ]
        }
      ]
    },
    {
      "cell_type": "code",
      "source": [
        "file_path = '/content/blackassign0024.txt'\n",
        "with open(file_path, 'r', encoding='utf-8') as file:\n",
        "    text_content = file.read()\n",
        "\n",
        "results = calculate_scores(text_content)\n",
        "\n",
        "# Print the results\n",
        "for key, value in results.items():\n",
        "    print(f\"{key}: {value}\")\n",
        "update_scores_excel(results)"
      ],
      "metadata": {
        "colab": {
          "base_uri": "https://localhost:8080/"
        },
        "id": "N21Xws01W2Hz",
        "outputId": "23809342-cf9d-44f9-96ee-755bbb1750c1"
      },
      "execution_count": null,
      "outputs": [
        {
          "output_type": "stream",
          "name": "stdout",
          "text": [
            "Positive Score: 0\n",
            "Negative Score: 0\n",
            "Polarity Score: 0.0\n",
            "Subjectivity Score: 0.0\n",
            "Average Sentence Length: 15.666666666666666\n",
            "Percentage of Complex Words: 0.0\n",
            "Fog Index: 6.266666666666667\n",
            "Average Number of Words Per Sentence: 15.666666666666666\n",
            "Complex Word Count: 0\n",
            "Word Count: 329\n",
            "Syllables per Word: 747\n",
            "Personal Pronoun Count: 0\n",
            "Average Word Length: 6.802431610942249\n"
          ]
        }
      ]
    },
    {
      "cell_type": "code",
      "source": [
        "\n",
        "url = 'https://insights.blackcoffer.com/rise-of-electric-vehicles-and-its-impact-on-livelihood-by-2040/'\n",
        "url_id = 'blackassign0025'\n",
        "extract_and_save_article_2(url, url_id)"
      ],
      "metadata": {
        "colab": {
          "base_uri": "https://localhost:8080/"
        },
        "id": "dfOt1gkuZWC7",
        "outputId": "a9a1a087-e88f-42c1-9ccc-e03ae35eaa89"
      },
      "execution_count": null,
      "outputs": [
        {
          "output_type": "stream",
          "name": "stdout",
          "text": [
            "Article saved successfully to blackassign0025.txt\n"
          ]
        }
      ]
    },
    {
      "cell_type": "code",
      "source": [
        "file_path = '/content/blackassign0025.txt'\n",
        "with open(file_path, 'r', encoding='utf-8') as file:\n",
        "    text_content = file.read()\n",
        "\n",
        "results = calculate_scores(text_content)\n",
        "\n",
        "# Print the results\n",
        "for key, value in results.items():\n",
        "    print(f\"{key}: {value}\")\n",
        "update_scores_excel(results)"
      ],
      "metadata": {
        "colab": {
          "base_uri": "https://localhost:8080/"
        },
        "id": "Rf-ZaH5Oa3N1",
        "outputId": "266c0781-3fd1-47c2-ca2f-50fd12fd2e76"
      },
      "execution_count": null,
      "outputs": [
        {
          "output_type": "stream",
          "name": "stdout",
          "text": [
            "Positive Score: 4\n",
            "Negative Score: 2\n",
            "Polarity Score: 0.33333327777778704\n",
            "Subjectivity Score: 0.010471204170207322\n",
            "Average Sentence Length: 22.03846153846154\n",
            "Percentage of Complex Words: 0.0\n",
            "Fog Index: 8.815384615384616\n",
            "Average Number of Words Per Sentence: 22.03846153846154\n",
            "Complex Word Count: 0\n",
            "Word Count: 573\n",
            "Syllables per Word: 1136\n",
            "Personal Pronoun Count: 4\n",
            "Average Word Length: 6.0837696335078535\n"
          ]
        }
      ]
    },
    {
      "cell_type": "code",
      "source": [
        "\n",
        "url = 'https://insights.blackcoffer.com/rise-of-electric-vehicle-and-its-impact-on-livelihood-by-the-year-2040/'\n",
        "url_id = 'blackassign0026'\n",
        "extract_and_save_article_3(url, url_id)"
      ],
      "metadata": {
        "colab": {
          "base_uri": "https://localhost:8080/"
        },
        "id": "j6hnbrShb2k8",
        "outputId": "443f0923-c7e1-44c0-b926-e08b783087b4"
      },
      "execution_count": null,
      "outputs": [
        {
          "output_type": "stream",
          "name": "stdout",
          "text": [
            "Article saved successfully to blackassign0026.txt\n"
          ]
        }
      ]
    },
    {
      "cell_type": "code",
      "source": [
        "file_path = '/content/blackassign0026.txt'\n",
        "with open(file_path, 'r', encoding='utf-8') as file:\n",
        "    text_content = file.read()\n",
        "\n",
        "results = calculate_scores(text_content)\n",
        "\n",
        "# Print the results\n",
        "for key, value in results.items():\n",
        "    print(f\"{key}: {value}\")\n",
        "update_scores_excel(results)"
      ],
      "metadata": {
        "colab": {
          "base_uri": "https://localhost:8080/"
        },
        "id": "m2aWTefycKsd",
        "outputId": "4dc84815-799d-4f1b-9616-aba6f79ba84f"
      },
      "execution_count": null,
      "outputs": [
        {
          "output_type": "stream",
          "name": "stdout",
          "text": [
            "Positive Score: 3\n",
            "Negative Score: 1\n",
            "Polarity Score: 0.49999987500003124\n",
            "Subjectivity Score: 0.007504690417439605\n",
            "Average Sentence Length: 12.69047619047619\n",
            "Percentage of Complex Words: 0.0\n",
            "Fog Index: 5.076190476190476\n",
            "Average Number of Words Per Sentence: 12.69047619047619\n",
            "Complex Word Count: 0\n",
            "Word Count: 533\n",
            "Syllables per Word: 1191\n",
            "Personal Pronoun Count: 0\n",
            "Average Word Length: 6.641651031894934\n"
          ]
        }
      ]
    },
    {
      "cell_type": "code",
      "source": [
        "\n",
        "\n",
        "url = 'https://insights.blackcoffer.com/oil-prices-by-the-year-2040-and-how-it-will-impact-the-world-economy/'\n",
        "url_id = 'blackassign0027'\n",
        "extract_and_save_article_3(url, url_id)"
      ],
      "metadata": {
        "colab": {
          "base_uri": "https://localhost:8080/"
        },
        "id": "Y4qqidtadXDm",
        "outputId": "6bf18cc7-7afc-4b39-d458-cef35dd97bae"
      },
      "execution_count": null,
      "outputs": [
        {
          "output_type": "stream",
          "name": "stdout",
          "text": [
            "Article saved successfully to blackassign0027.txt\n"
          ]
        }
      ]
    },
    {
      "cell_type": "code",
      "source": [
        "file_path = '/content/blackassign0027.txt'\n",
        "with open(file_path, 'r', encoding='utf-8') as file:\n",
        "    text_content = file.read()\n",
        "\n",
        "results = calculate_scores(text_content)\n",
        "\n",
        "# Print the results\n",
        "for key, value in results.items():\n",
        "    print(f\"{key}: {value}\")\n",
        "update_scores_excel(results)"
      ],
      "metadata": {
        "colab": {
          "base_uri": "https://localhost:8080/"
        },
        "id": "nf8njSEGdezl",
        "outputId": "5c3ef7eb-b486-451d-9e00-d0d445147389"
      },
      "execution_count": null,
      "outputs": [
        {
          "output_type": "stream",
          "name": "stdout",
          "text": [
            "Positive Score: 1\n",
            "Negative Score: 1\n",
            "Polarity Score: 0.0\n",
            "Subjectivity Score: 0.0028776978375860463\n",
            "Average Sentence Length: 12.87037037037037\n",
            "Percentage of Complex Words: 0.0\n",
            "Fog Index: 5.148148148148149\n",
            "Average Number of Words Per Sentence: 12.87037037037037\n",
            "Complex Word Count: 0\n",
            "Word Count: 695\n",
            "Syllables per Word: 1422\n",
            "Personal Pronoun Count: 1\n",
            "Average Word Length: 6.1697841726618705\n"
          ]
        }
      ]
    },
    {
      "cell_type": "code",
      "source": [
        "\n",
        "url = 'https://insights.blackcoffer.com/an-outlook-of-healthcare-by-the-year-2040-and-how-it-will-impact-human-lives/'\n",
        "url_id = 'blackassign0028'\n",
        "extract_and_save_article_3(url, url_id)"
      ],
      "metadata": {
        "colab": {
          "base_uri": "https://localhost:8080/"
        },
        "id": "kpVSPMcltV1e",
        "outputId": "fd2e4d14-5293-46d0-fda7-a37fa605f092"
      },
      "execution_count": null,
      "outputs": [
        {
          "output_type": "stream",
          "name": "stdout",
          "text": [
            "Article saved successfully to blackassign0028.txt\n"
          ]
        }
      ]
    },
    {
      "cell_type": "code",
      "source": [
        "file_path = '/content/blackassign0028.txt'\n",
        "with open(file_path, 'r', encoding='utf-8') as file:\n",
        "    text_content = file.read()\n",
        "\n",
        "results = calculate_scores(text_content)\n",
        "\n",
        "# Print the results\n",
        "for key, value in results.items():\n",
        "    print(f\"{key}: {value}\")\n",
        "update_scores_excel(results)"
      ],
      "metadata": {
        "colab": {
          "base_uri": "https://localhost:8080/"
        },
        "id": "1RAsmyu-upGH",
        "outputId": "c8d1c170-5512-449c-dda4-1dec018bf98b"
      },
      "execution_count": null,
      "outputs": [
        {
          "output_type": "stream",
          "name": "stdout",
          "text": [
            "Positive Score: 0\n",
            "Negative Score: 0\n",
            "Polarity Score: 0.0\n",
            "Subjectivity Score: 0.0\n",
            "Average Sentence Length: 15.15\n",
            "Percentage of Complex Words: 0.0\n",
            "Fog Index: 6.0600000000000005\n",
            "Average Number of Words Per Sentence: 15.15\n",
            "Complex Word Count: 0\n",
            "Word Count: 606\n",
            "Syllables per Word: 1388\n",
            "Personal Pronoun Count: 2\n",
            "Average Word Length: 7.003300330033003\n"
          ]
        }
      ]
    },
    {
      "cell_type": "code",
      "source": [
        "\n",
        "\n",
        "url = 'https://insights.blackcoffer.com/ai-in-healthcare-to-improve-patient-outcomes/'\n",
        "url_id = 'blackassign0029'\n",
        "extract_and_save_article_4(url, url_id)"
      ],
      "metadata": {
        "colab": {
          "base_uri": "https://localhost:8080/"
        },
        "id": "gsB9Fq4Mv6In",
        "outputId": "b172b500-5d55-497b-d78b-5f30e8c0c04e"
      },
      "execution_count": null,
      "outputs": [
        {
          "output_type": "stream",
          "name": "stdout",
          "text": [
            "Article saved successfully to blackassign0029.txt\n"
          ]
        }
      ]
    },
    {
      "cell_type": "code",
      "source": [
        "\n",
        "file_path = '/content/blackassign0029.txt'\n",
        "with open(file_path, 'r', encoding='utf-8') as file:\n",
        "    text_content = file.read()\n",
        "\n",
        "results = calculate_scores(text_content)\n",
        "\n",
        "# Print the results\n",
        "for key, value in results.items():\n",
        "    print(f\"{key}: {value}\")\n",
        "update_scores_excel(results)"
      ],
      "metadata": {
        "colab": {
          "base_uri": "https://localhost:8080/"
        },
        "id": "GvPTSF-jwKU3",
        "outputId": "9bf001c2-5ff9-437f-d58c-bdbb4ee3846b"
      },
      "execution_count": null,
      "outputs": [
        {
          "output_type": "stream",
          "name": "stdout",
          "text": [
            "Positive Score: 0\n",
            "Negative Score: 0\n",
            "Polarity Score: 0.0\n",
            "Subjectivity Score: 0.0\n",
            "Average Sentence Length: 14.584415584415584\n",
            "Percentage of Complex Words: 0.0\n",
            "Fog Index: 5.833766233766234\n",
            "Average Number of Words Per Sentence: 14.584415584415584\n",
            "Complex Word Count: 0\n",
            "Word Count: 1123\n",
            "Syllables per Word: 2673\n",
            "Personal Pronoun Count: 1\n",
            "Average Word Length: 7.091718610863758\n"
          ]
        }
      ]
    },
    {
      "cell_type": "code",
      "source": [
        "\n",
        "url = 'https://insights.blackcoffer.com/what-if-the-creation-is-taking-over-the-creator/'\n",
        "url_id = 'blackassign0030'\n",
        "extract_and_save_article_3(url, url_id)"
      ],
      "metadata": {
        "colab": {
          "base_uri": "https://localhost:8080/"
        },
        "id": "yfCc39y0xMwW",
        "outputId": "12b90df3-5397-4348-c963-050a2ccc9104"
      },
      "execution_count": null,
      "outputs": [
        {
          "output_type": "stream",
          "name": "stdout",
          "text": [
            "Article saved successfully to blackassign0030.txt\n"
          ]
        }
      ]
    },
    {
      "cell_type": "code",
      "source": [
        "file_path = '/content/blackassign0030.txt'\n",
        "with open(file_path, 'r', encoding='utf-8') as file:\n",
        "    text_content = file.read()\n",
        "\n",
        "results = calculate_scores(text_content)\n",
        "\n",
        "# Print the results\n",
        "for key, value in results.items():\n",
        "    print(f\"{key}: {value}\")\n",
        "update_scores_excel(results)"
      ],
      "metadata": {
        "colab": {
          "base_uri": "https://localhost:8080/"
        },
        "id": "6stQOtotxi82",
        "outputId": "0bcfcce8-c482-4b28-ddac-88261c61dd65"
      },
      "execution_count": null,
      "outputs": [
        {
          "output_type": "stream",
          "name": "stdout",
          "text": [
            "Positive Score: 2\n",
            "Negative Score: 0\n",
            "Polarity Score: 0.99999950000025\n",
            "Subjectivity Score: 0.0026845637547858203\n",
            "Average Sentence Length: 9.197530864197532\n",
            "Percentage of Complex Words: 0.0\n",
            "Fog Index: 3.6790123456790127\n",
            "Average Number of Words Per Sentence: 9.197530864197532\n",
            "Complex Word Count: 0\n",
            "Word Count: 745\n",
            "Syllables per Word: 1620\n",
            "Personal Pronoun Count: 3\n",
            "Average Word Length: 6.457718120805369\n"
          ]
        }
      ]
    },
    {
      "cell_type": "code",
      "source": [
        "\n",
        "url = 'https://insights.blackcoffer.com/what-jobs-will-robots-take-from-humans-in-the-future/'\n",
        "url_id = 'blackassign0031'\n",
        "extract_and_save_article_3(url, url_id)"
      ],
      "metadata": {
        "colab": {
          "base_uri": "https://localhost:8080/"
        },
        "id": "BALhHsCwy3wN",
        "outputId": "fdfff26a-7f0b-42e9-ad4d-dab955463010"
      },
      "execution_count": null,
      "outputs": [
        {
          "output_type": "stream",
          "name": "stdout",
          "text": [
            "Article saved successfully to blackassign0031.txt\n"
          ]
        }
      ]
    },
    {
      "cell_type": "code",
      "source": [
        "file_path = '/content/blackassign0031.txt'\n",
        "with open(file_path, 'r', encoding='utf-8') as file:\n",
        "    text_content = file.read()\n",
        "\n",
        "results = calculate_scores(text_content)\n",
        "\n",
        "# Print the results\n",
        "for key, value in results.items():\n",
        "    print(f\"{key}: {value}\")\n",
        "update_scores_excel(results)"
      ],
      "metadata": {
        "colab": {
          "base_uri": "https://localhost:8080/"
        },
        "id": "0adyYGPJzMCO",
        "outputId": "1d6d60c7-6740-4144-d287-c69d5e244cfd"
      },
      "execution_count": null,
      "outputs": [
        {
          "output_type": "stream",
          "name": "stdout",
          "text": [
            "Positive Score: 1\n",
            "Negative Score: 0\n",
            "Polarity Score: 0.9999990000010001\n",
            "Subjectivity Score: 0.0010030090260752167\n",
            "Average Sentence Length: 11.593023255813954\n",
            "Percentage of Complex Words: 0.0\n",
            "Fog Index: 4.637209302325582\n",
            "Average Number of Words Per Sentence: 11.593023255813954\n",
            "Complex Word Count: 0\n",
            "Word Count: 997\n",
            "Syllables per Word: 2492\n",
            "Personal Pronoun Count: 2\n",
            "Average Word Length: 7.216649949849549\n"
          ]
        }
      ]
    },
    {
      "cell_type": "code",
      "source": [
        "\n",
        "url = 'https://insights.blackcoffer.com/will-machine-replace-the-human-in-the-future-of-work/'\n",
        "url_id = 'blackassign0032'\n",
        "extract_and_save_article_3(url, url_id)"
      ],
      "metadata": {
        "colab": {
          "base_uri": "https://localhost:8080/"
        },
        "id": "UM7z5LcU0Nct",
        "outputId": "b7aff6b6-5c79-4173-9ea2-c367a0fe1beb"
      },
      "execution_count": null,
      "outputs": [
        {
          "output_type": "stream",
          "name": "stdout",
          "text": [
            "Article saved successfully to blackassign0032.txt\n"
          ]
        }
      ]
    },
    {
      "cell_type": "code",
      "source": [
        "file_path = '/content/blackassign0032.txt'\n",
        "with open(file_path, 'r', encoding='utf-8') as file:\n",
        "    text_content = file.read()\n",
        "\n",
        "results = calculate_scores(text_content)\n",
        "\n",
        "# Print the results\n",
        "for key, value in results.items():\n",
        "    print(f\"{key}: {value}\")\n",
        "update_scores_excel(results)"
      ],
      "metadata": {
        "colab": {
          "base_uri": "https://localhost:8080/"
        },
        "id": "dYYgei570aSt",
        "outputId": "3dbf6b74-739d-4d06-9c05-246d2dd4d43b"
      },
      "execution_count": null,
      "outputs": [
        {
          "output_type": "stream",
          "name": "stdout",
          "text": [
            "Positive Score: 1\n",
            "Negative Score: 1\n",
            "Polarity Score: 0.0\n",
            "Subjectivity Score: 0.0022197558243953874\n",
            "Average Sentence Length: 9.385416666666666\n",
            "Percentage of Complex Words: 0.0\n",
            "Fog Index: 3.7541666666666664\n",
            "Average Number of Words Per Sentence: 9.385416666666666\n",
            "Complex Word Count: 0\n",
            "Word Count: 901\n",
            "Syllables per Word: 1957\n",
            "Personal Pronoun Count: 3\n",
            "Average Word Length: 6.331853496115428\n"
          ]
        }
      ]
    },
    {
      "cell_type": "code",
      "source": [
        "\n",
        "url = 'https://insights.blackcoffer.com/will-ai-replace-us-or-work-with-us/'\n",
        "url_id = 'blackassign0033'\n",
        "extract_and_save_article_3(url, url_id)"
      ],
      "metadata": {
        "colab": {
          "base_uri": "https://localhost:8080/"
        },
        "id": "Qri14epO0jHu",
        "outputId": "b351cbf8-ae7e-4d6a-e6fb-d44225c71194"
      },
      "execution_count": null,
      "outputs": [
        {
          "output_type": "stream",
          "name": "stdout",
          "text": [
            "Article saved successfully to blackassign0033.txt\n"
          ]
        }
      ]
    },
    {
      "cell_type": "code",
      "source": [
        "file_path = '/content/blackassign0033.txt'\n",
        "with open(file_path, 'r', encoding='utf-8') as file:\n",
        "    text_content = file.read()\n",
        "\n",
        "results = calculate_scores(text_content)\n",
        "\n",
        "# Print the results\n",
        "for key, value in results.items():\n",
        "    print(f\"{key}: {value}\")\n",
        "update_scores_excel(results)"
      ],
      "metadata": {
        "colab": {
          "base_uri": "https://localhost:8080/"
        },
        "id": "DRs6UGlR1wf8",
        "outputId": "012b9baa-19b4-4e54-a493-a6febb647c39"
      },
      "execution_count": null,
      "outputs": [
        {
          "output_type": "stream",
          "name": "stdout",
          "text": [
            "Positive Score: 0\n",
            "Negative Score: 1\n",
            "Polarity Score: -0.9999990000010001\n",
            "Subjectivity Score: 0.0010427528664830523\n",
            "Average Sentence Length: 11.9875\n",
            "Percentage of Complex Words: 0.0\n",
            "Fog Index: 4.795000000000001\n",
            "Average Number of Words Per Sentence: 11.9875\n",
            "Complex Word Count: 0\n",
            "Word Count: 959\n",
            "Syllables per Word: 2164\n",
            "Personal Pronoun Count: 8\n",
            "Average Word Length: 6.744525547445256\n"
          ]
        }
      ]
    },
    {
      "cell_type": "code",
      "source": [
        "\n",
        "url = 'https://insights.blackcoffer.com/man-and-machines-together-machines-are-more-diligent-than-humans-blackcoffe/'\n",
        "url_id = 'blackassign0034'\n",
        "extract_and_save_article_3(url, url_id)"
      ],
      "metadata": {
        "colab": {
          "base_uri": "https://localhost:8080/"
        },
        "id": "mhqBXkgx3zSM",
        "outputId": "980d4e44-77b2-4fd2-a673-858636caba79"
      },
      "execution_count": null,
      "outputs": [
        {
          "output_type": "stream",
          "name": "stdout",
          "text": [
            "Article saved successfully to blackassign0034.txt\n"
          ]
        }
      ]
    },
    {
      "cell_type": "code",
      "source": [
        "file_path = '/content/blackassign0034.txt'\n",
        "with open(file_path, 'r', encoding='utf-8') as file:\n",
        "    text_content = file.read()\n",
        "\n",
        "results = calculate_scores(text_content)\n",
        "\n",
        "# Print the results\n",
        "for key, value in results.items():\n",
        "    print(f\"{key}: {value}\")\n",
        "update_scores_excel(results)"
      ],
      "metadata": {
        "colab": {
          "base_uri": "https://localhost:8080/"
        },
        "id": "7BuQrm2e3-a0",
        "outputId": "8ece12fa-39d3-47d9-878c-888e8c0c24f0"
      },
      "execution_count": null,
      "outputs": [
        {
          "output_type": "stream",
          "name": "stdout",
          "text": [
            "Positive Score: 0\n",
            "Negative Score: 1\n",
            "Polarity Score: -0.9999990000010001\n",
            "Subjectivity Score: 0.0014513788077628754\n",
            "Average Sentence Length: 10.6\n",
            "Percentage of Complex Words: 0.0\n",
            "Fog Index: 4.24\n",
            "Average Number of Words Per Sentence: 10.6\n",
            "Complex Word Count: 0\n",
            "Word Count: 689\n",
            "Syllables per Word: 1546\n",
            "Personal Pronoun Count: 3\n",
            "Average Word Length: 6.761973875181423\n"
          ]
        }
      ]
    },
    {
      "cell_type": "code",
      "source": [
        "\n",
        "\n",
        "url = 'https://insights.blackcoffer.com/in-future-or-in-upcoming-years-humans-and-machines-are-going-to-work-together-in-every-field-of-work/'\n",
        "url_id = 'blackassign0035'\n",
        "extract_and_save_article_3(url, url_id)"
      ],
      "metadata": {
        "colab": {
          "base_uri": "https://localhost:8080/"
        },
        "id": "gJGKUwvD4fCk",
        "outputId": "13b4020a-9d1c-49e0-9a74-47f5dbb41898"
      },
      "execution_count": null,
      "outputs": [
        {
          "output_type": "stream",
          "name": "stdout",
          "text": [
            "Article saved successfully to blackassign0035.txt\n"
          ]
        }
      ]
    },
    {
      "cell_type": "code",
      "source": [
        "file_path = '/content/blackassign0035.txt'\n",
        "with open(file_path, 'r', encoding='utf-8') as file:\n",
        "    text_content = file.read()\n",
        "\n",
        "results = calculate_scores(text_content)\n",
        "\n",
        "# Print the results\n",
        "for key, value in results.items():\n",
        "    print(f\"{key}: {value}\")\n",
        "update_scores_excel(results)"
      ],
      "metadata": {
        "colab": {
          "base_uri": "https://localhost:8080/"
        },
        "id": "RL0nxmRp9Mxn",
        "outputId": "6f765878-1ae6-480a-b11c-ab73a7656594"
      },
      "execution_count": null,
      "outputs": [
        {
          "output_type": "stream",
          "name": "stdout",
          "text": [
            "Positive Score: 3\n",
            "Negative Score: 2\n",
            "Polarity Score: 0.199999960000008\n",
            "Subjectivity Score: 0.012224938845415798\n",
            "Average Sentence Length: 8.891304347826088\n",
            "Percentage of Complex Words: 0.0\n",
            "Fog Index: 3.556521739130435\n",
            "Average Number of Words Per Sentence: 8.891304347826088\n",
            "Complex Word Count: 0\n",
            "Word Count: 409\n",
            "Syllables per Word: 920\n",
            "Personal Pronoun Count: 2\n",
            "Average Word Length: 6.6332518337408315\n"
          ]
        }
      ]
    },
    {
      "cell_type": "code",
      "source": [
        "\n",
        "url = 'https://insights.blackcoffer.com/how-machine-learning-will-affect-your-business/'\n",
        "url_id = 'blackassign0037'\n",
        "extract_and_save_article_3(url, url_id)"
      ],
      "metadata": {
        "colab": {
          "base_uri": "https://localhost:8080/"
        },
        "id": "5j-34rtW_5QB",
        "outputId": "fcd0a168-2ce6-45b7-a01c-d59b3532572a"
      },
      "execution_count": null,
      "outputs": [
        {
          "output_type": "stream",
          "name": "stdout",
          "text": [
            "Article saved successfully to blackassign0037.txt\n"
          ]
        }
      ]
    },
    {
      "cell_type": "code",
      "source": [
        "file_path = '/content/blackassign0037.txt'\n",
        "with open(file_path, 'r', encoding='utf-8') as file:\n",
        "    text_content = file.read()\n",
        "\n",
        "results = calculate_scores(text_content)\n",
        "\n",
        "# Print the results\n",
        "for key, value in results.items():\n",
        "    print(f\"{key}: {value}\")\n",
        "update_scores_excel(results)"
      ],
      "metadata": {
        "colab": {
          "base_uri": "https://localhost:8080/"
        },
        "id": "3er5qlquAHaq",
        "outputId": "4ce56c28-1c0a-41eb-f589-06b8053848ee"
      },
      "execution_count": null,
      "outputs": [
        {
          "output_type": "stream",
          "name": "stdout",
          "text": [
            "Positive Score: 3\n",
            "Negative Score: 2\n",
            "Polarity Score: 0.199999960000008\n",
            "Subjectivity Score: 0.012406947860032387\n",
            "Average Sentence Length: 10.891891891891891\n",
            "Percentage of Complex Words: 0.0\n",
            "Fog Index: 4.356756756756757\n",
            "Average Number of Words Per Sentence: 10.891891891891891\n",
            "Complex Word Count: 0\n",
            "Word Count: 403\n",
            "Syllables per Word: 825\n",
            "Personal Pronoun Count: 0\n",
            "Average Word Length: 6.248138957816377\n"
          ]
        }
      ]
    },
    {
      "cell_type": "code",
      "source": [
        "\n",
        "url = 'https://insights.blackcoffer.com/deep-learning-impact-on-areas-of-e-learning/'\n",
        "url_id = 'blackassign0038'\n",
        "extract_and_save_article_3(url, url_id)"
      ],
      "metadata": {
        "colab": {
          "base_uri": "https://localhost:8080/"
        },
        "id": "gfVnVhjCBK5x",
        "outputId": "53fd8b02-fa8c-4162-da7f-498354041f5f"
      },
      "execution_count": null,
      "outputs": [
        {
          "output_type": "stream",
          "name": "stdout",
          "text": [
            "Article saved successfully to blackassign0038.txt\n"
          ]
        }
      ]
    },
    {
      "cell_type": "code",
      "source": [
        "file_path = '/content/blackassign0038.txt'\n",
        "with open(file_path, 'r', encoding='utf-8') as file:\n",
        "    text_content = file.read()\n",
        "\n",
        "results = calculate_scores(text_content)\n",
        "\n",
        "# Print the results\n",
        "for key, value in results.items():\n",
        "    print(f\"{key}: {value}\")\n",
        "update_scores_excel(results)"
      ],
      "metadata": {
        "colab": {
          "base_uri": "https://localhost:8080/"
        },
        "id": "NIvI_08aDxso",
        "outputId": "cb5e3060-9e46-4f1a-c365-25167d62afed"
      },
      "execution_count": null,
      "outputs": [
        {
          "output_type": "stream",
          "name": "stdout",
          "text": [
            "Positive Score: 8\n",
            "Negative Score: 0\n",
            "Polarity Score: 0.9999998750000157\n",
            "Subjectivity Score: 0.006872852227772463\n",
            "Average Sentence Length: 14.195121951219512\n",
            "Percentage of Complex Words: 0.0\n",
            "Fog Index: 5.6780487804878055\n",
            "Average Number of Words Per Sentence: 14.195121951219512\n",
            "Complex Word Count: 0\n",
            "Word Count: 1164\n",
            "Syllables per Word: 2631\n",
            "Personal Pronoun Count: 1\n",
            "Average Word Length: 6.56786941580756\n"
          ]
        }
      ]
    },
    {
      "cell_type": "code",
      "source": [
        "\n",
        "url = 'https://insights.blackcoffer.com/how-to-protect-future-data-and-its-privacy-blackcoffer/'\n",
        "url_id = 'blackassign0039'\n",
        "extract_and_save_article_3(url, url_id)"
      ],
      "metadata": {
        "colab": {
          "base_uri": "https://localhost:8080/"
        },
        "id": "B8LseTI3E-Fv",
        "outputId": "36065451-8ba0-41c5-eb74-81a8ead662e5"
      },
      "execution_count": null,
      "outputs": [
        {
          "output_type": "stream",
          "name": "stdout",
          "text": [
            "Article saved successfully to blackassign0039.txt\n"
          ]
        }
      ]
    },
    {
      "cell_type": "code",
      "source": [
        "file_path = '/content/blackassign0039.txt'\n",
        "with open(file_path, 'r', encoding='utf-8') as file:\n",
        "    text_content = file.read()\n",
        "\n",
        "results = calculate_scores(text_content)\n",
        "\n",
        "# Print the results\n",
        "for key, value in results.items():\n",
        "    print(f\"{key}: {value}\")\n",
        "update_scores_excel(results)"
      ],
      "metadata": {
        "colab": {
          "base_uri": "https://localhost:8080/"
        },
        "id": "W33xdV3GKdkn",
        "outputId": "18b437c7-84ba-46e4-a82f-761275ca4963"
      },
      "execution_count": null,
      "outputs": [
        {
          "output_type": "stream",
          "name": "stdout",
          "text": [
            "Positive Score: 2\n",
            "Negative Score: 1\n",
            "Polarity Score: 0.33333322222225925\n",
            "Subjectivity Score: 0.0026408450680978474\n",
            "Average Sentence Length: 10.81904761904762\n",
            "Percentage of Complex Words: 0.0\n",
            "Fog Index: 4.327619047619048\n",
            "Average Number of Words Per Sentence: 10.81904761904762\n",
            "Complex Word Count: 0\n",
            "Word Count: 1136\n",
            "Syllables per Word: 2582\n",
            "Personal Pronoun Count: 0\n",
            "Average Word Length: 6.64612676056338\n"
          ]
        }
      ]
    },
    {
      "cell_type": "code",
      "source": [
        "\n",
        "url = 'https://insights.blackcoffer.com/how-machines-ai-automations-and-robo-human-are-effective-in-finance-and-banking/'\n",
        "url_id = 'blackassign0040'\n",
        "extract_and_save_article_3(url, url_id)"
      ],
      "metadata": {
        "colab": {
          "base_uri": "https://localhost:8080/"
        },
        "id": "W7avlVZcKqAH",
        "outputId": "114f17c0-f5b0-4d45-dc28-6ffa0805aced"
      },
      "execution_count": null,
      "outputs": [
        {
          "output_type": "stream",
          "name": "stdout",
          "text": [
            "Article saved successfully to blackassign0040.txt\n"
          ]
        }
      ]
    },
    {
      "cell_type": "code",
      "source": [
        "file_path = '/content/blackassign0040.txt'\n",
        "with open(file_path, 'r', encoding='utf-8') as file:\n",
        "    text_content = file.read()\n",
        "\n",
        "results = calculate_scores(text_content)\n",
        "\n",
        "# Print the results\n",
        "for key, value in results.items():\n",
        "    print(f\"{key}: {value}\")\n",
        "update_scores_excel(results)"
      ],
      "metadata": {
        "colab": {
          "base_uri": "https://localhost:8080/"
        },
        "id": "r2W6wdIgMKzG",
        "outputId": "a634415d-94c1-4169-d150-0e865e586c73"
      },
      "execution_count": null,
      "outputs": [
        {
          "output_type": "stream",
          "name": "stdout",
          "text": [
            "Positive Score: 2\n",
            "Negative Score: 0\n",
            "Polarity Score: 0.99999950000025\n",
            "Subjectivity Score: 0.0028860028818383796\n",
            "Average Sentence Length: 11.745762711864407\n",
            "Percentage of Complex Words: 0.0\n",
            "Fog Index: 4.698305084745763\n",
            "Average Number of Words Per Sentence: 11.745762711864407\n",
            "Complex Word Count: 0\n",
            "Word Count: 693\n",
            "Syllables per Word: 1728\n",
            "Personal Pronoun Count: 3\n",
            "Average Word Length: 7.31024531024531\n"
          ]
        }
      ]
    },
    {
      "cell_type": "code",
      "source": [
        "\n",
        "url = 'https://insights.blackcoffer.com/ai-human-robotics-machine-future-planet-blackcoffer-thinking-jobs-workplace/'\n",
        "url_id = 'blackassign0041'\n",
        "extract_and_save_article_3(url, url_id)"
      ],
      "metadata": {
        "colab": {
          "base_uri": "https://localhost:8080/"
        },
        "id": "rJIsOoAWSOaE",
        "outputId": "8e7990dc-8f62-4942-aace-e6cea41aca1f"
      },
      "execution_count": null,
      "outputs": [
        {
          "output_type": "stream",
          "name": "stdout",
          "text": [
            "Article saved successfully to blackassign0041.txt\n"
          ]
        }
      ]
    },
    {
      "cell_type": "code",
      "source": [
        "file_path = '/content/blackassign0041.txt'\n",
        "with open(file_path, 'r', encoding='utf-8') as file:\n",
        "    text_content = file.read()\n",
        "\n",
        "results = calculate_scores(text_content)\n",
        "\n",
        "# Print the results\n",
        "for key, value in results.items():\n",
        "    print(f\"{key}: {value}\")\n",
        "update_scores_excel(results)"
      ],
      "metadata": {
        "colab": {
          "base_uri": "https://localhost:8080/"
        },
        "id": "THVqXzl6ScQ8",
        "outputId": "8371aa9c-bd84-495d-ee1f-dfba7bf15691"
      },
      "execution_count": null,
      "outputs": [
        {
          "output_type": "stream",
          "name": "stdout",
          "text": [
            "Positive Score: 1\n",
            "Negative Score: 0\n",
            "Polarity Score: 0.9999990000010001\n",
            "Subjectivity Score: 0.0013513513495252009\n",
            "Average Sentence Length: 8.91566265060241\n",
            "Percentage of Complex Words: 0.0\n",
            "Fog Index: 3.5662650602409642\n",
            "Average Number of Words Per Sentence: 8.91566265060241\n",
            "Complex Word Count: 0\n",
            "Word Count: 740\n",
            "Syllables per Word: 1590\n",
            "Personal Pronoun Count: 2\n",
            "Average Word Length: 6.354054054054054\n"
          ]
        }
      ]
    },
    {
      "cell_type": "code",
      "source": [
        "\n",
        "url = 'https://insights.blackcoffer.com/how-ai-will-change-the-world-blackcoffer/'\n",
        "url_id = 'blackassign0042'\n",
        "extract_and_save_article_3(url, url_id)"
      ],
      "metadata": {
        "colab": {
          "base_uri": "https://localhost:8080/"
        },
        "id": "OIhR1OaXT48z",
        "outputId": "35d9ab50-e386-49af-e1d1-12234e221e76"
      },
      "execution_count": null,
      "outputs": [
        {
          "output_type": "stream",
          "name": "stdout",
          "text": [
            "Article saved successfully to blackassign0042.txt\n"
          ]
        }
      ]
    },
    {
      "cell_type": "code",
      "source": [
        "file_path = '/content/blackassign0042.txt'\n",
        "with open(file_path, 'r', encoding='utf-8') as file:\n",
        "    text_content = file.read()\n",
        "\n",
        "results = calculate_scores(text_content)\n",
        "\n",
        "# Print the results\n",
        "for key, value in results.items():\n",
        "    print(f\"{key}: {value}\")\n",
        "update_scores_excel(results)"
      ],
      "metadata": {
        "colab": {
          "base_uri": "https://localhost:8080/"
        },
        "id": "Td_o0tzUUF-k",
        "outputId": "a54bd7ef-1ac2-4879-c8d0-8151dee5b524"
      },
      "execution_count": null,
      "outputs": [
        {
          "output_type": "stream",
          "name": "stdout",
          "text": [
            "Positive Score: 2\n",
            "Negative Score: 0\n",
            "Polarity Score: 0.99999950000025\n",
            "Subjectivity Score: 0.002412545232312973\n",
            "Average Sentence Length: 12.953125\n",
            "Percentage of Complex Words: 0.0\n",
            "Fog Index: 5.18125\n",
            "Average Number of Words Per Sentence: 12.953125\n",
            "Complex Word Count: 0\n",
            "Word Count: 829\n",
            "Syllables per Word: 1893\n",
            "Personal Pronoun Count: 10\n",
            "Average Word Length: 6.738238841978287\n"
          ]
        }
      ]
    },
    {
      "cell_type": "code",
      "source": [
        "\n",
        "url = 'https://insights.blackcoffer.com/future-of-work-how-ai-has-entered-the-workplace/'\n",
        "url_id = 'blackassign0043'\n",
        "extract_and_save_article_1(url, url_id)"
      ],
      "metadata": {
        "colab": {
          "base_uri": "https://localhost:8080/"
        },
        "id": "K2lpGct3VVLT",
        "outputId": "883a3ffe-9b5d-4457-8bc5-f547546ad60c"
      },
      "execution_count": null,
      "outputs": [
        {
          "output_type": "stream",
          "name": "stdout",
          "text": [
            "Article saved successfully to blackassign0043.txt\n"
          ]
        }
      ]
    },
    {
      "cell_type": "code",
      "source": [
        "file_path = '/content/blackassign0043.txt'\n",
        "with open(file_path, 'r', encoding='utf-8') as file:\n",
        "    text_content = file.read()\n",
        "\n",
        "results = calculate_scores(text_content)\n",
        "\n",
        "# Print the results\n",
        "for key, value in results.items():\n",
        "    print(f\"{key}: {value}\")\n",
        "update_scores_excel(results)"
      ],
      "metadata": {
        "colab": {
          "base_uri": "https://localhost:8080/"
        },
        "id": "2-44vW6wXKhL",
        "outputId": "31e2e10c-91e0-44ce-92c2-1263e14f2c32"
      },
      "execution_count": null,
      "outputs": [
        {
          "output_type": "stream",
          "name": "stdout",
          "text": [
            "Positive Score: 4\n",
            "Negative Score: 0\n",
            "Polarity Score: 0.9999997500000625\n",
            "Subjectivity Score: 0.004287245440206596\n",
            "Average Sentence Length: 11.240963855421686\n",
            "Percentage of Complex Words: 0.0\n",
            "Fog Index: 4.4963855421686745\n",
            "Average Number of Words Per Sentence: 11.240963855421686\n",
            "Complex Word Count: 0\n",
            "Word Count: 933\n",
            "Syllables per Word: 2095\n",
            "Personal Pronoun Count: 1\n",
            "Average Word Length: 6.608788853161844\n"
          ]
        }
      ]
    },
    {
      "cell_type": "code",
      "source": [
        "\n",
        "url = 'https://insights.blackcoffer.com/ai-tool-alexa-google-assistant-finance-banking-tool-future/'\n",
        "url_id = 'blackassign0044'\n",
        "extract_and_save_article_3(url, url_id)\n"
      ],
      "metadata": {
        "colab": {
          "base_uri": "https://localhost:8080/"
        },
        "id": "wJs_zkiDc2dh",
        "outputId": "80ed8755-72cf-4075-f60f-6a2004e9774a"
      },
      "execution_count": null,
      "outputs": [
        {
          "output_type": "stream",
          "name": "stdout",
          "text": [
            "Article saved successfully to blackassign0044.txt\n"
          ]
        }
      ]
    },
    {
      "cell_type": "code",
      "source": [
        "file_path = '/content/blackassign0044.txt'\n",
        "with open(file_path, 'r', encoding='utf-8') as file:\n",
        "    text_content = file.read()\n",
        "\n",
        "results = calculate_scores(text_content)\n",
        "\n",
        "# Print the results\n",
        "for key, value in results.items():\n",
        "    print(f\"{key}: {value}\")\n",
        "update_scores_excel(results)"
      ],
      "metadata": {
        "colab": {
          "base_uri": "https://localhost:8080/"
        },
        "id": "LDzCMUi7dEHK",
        "outputId": "9c200e81-dd49-4b61-8ec1-210ca8147721"
      },
      "execution_count": null,
      "outputs": [
        {
          "output_type": "stream",
          "name": "stdout",
          "text": [
            "Positive Score: 0\n",
            "Negative Score: 0\n",
            "Polarity Score: 0.0\n",
            "Subjectivity Score: 0.0\n",
            "Average Sentence Length: 13.043478260869565\n",
            "Percentage of Complex Words: 0.0\n",
            "Fog Index: 5.217391304347826\n",
            "Average Number of Words Per Sentence: 13.043478260869565\n",
            "Complex Word Count: 0\n",
            "Word Count: 300\n",
            "Syllables per Word: 748\n",
            "Personal Pronoun Count: 0\n",
            "Average Word Length: 7.113333333333333\n"
          ]
        }
      ]
    },
    {
      "cell_type": "code",
      "source": [
        "\n",
        "url = 'https://insights.blackcoffer.com/ai-healthcare-revolution-ml-technology-algorithm-google-analytics-industrialrevolution/'\n",
        "url_id = 'blackassign0045'\n",
        "extract_and_save_article_3(url, url_id)"
      ],
      "metadata": {
        "colab": {
          "base_uri": "https://localhost:8080/"
        },
        "id": "QU6MUxzEgxyI",
        "outputId": "9e005aff-43fc-4f5b-fc27-f5976f9ad063"
      },
      "execution_count": null,
      "outputs": [
        {
          "output_type": "stream",
          "name": "stdout",
          "text": [
            "Article saved successfully to blackassign0045.txt\n"
          ]
        }
      ]
    },
    {
      "cell_type": "code",
      "source": [
        "file_path = '/content/blackassign0045.txt'\n",
        "with open(file_path, 'r', encoding='utf-8') as file:\n",
        "    text_content = file.read()\n",
        "\n",
        "results = calculate_scores(text_content)\n",
        "\n",
        "# Print the results\n",
        "for key, value in results.items():\n",
        "    print(f\"{key}: {value}\")\n",
        "update_scores_excel(results)"
      ],
      "metadata": {
        "colab": {
          "base_uri": "https://localhost:8080/"
        },
        "id": "4BwbQz2Pg_JD",
        "outputId": "8faa97fe-7664-4a76-a98e-c7f3de27bd2a"
      },
      "execution_count": null,
      "outputs": [
        {
          "output_type": "stream",
          "name": "stdout",
          "text": [
            "Positive Score: 3\n",
            "Negative Score: 3\n",
            "Polarity Score: 0.0\n",
            "Subjectivity Score: 0.006507592183831245\n",
            "Average Sentence Length: 92.2\n",
            "Percentage of Complex Words: 0.0\n",
            "Fog Index: 36.88\n",
            "Average Number of Words Per Sentence: 92.2\n",
            "Complex Word Count: 0\n",
            "Word Count: 922\n",
            "Syllables per Word: 1987\n",
            "Personal Pronoun Count: 2\n",
            "Average Word Length: 6.414316702819956\n"
          ]
        }
      ]
    },
    {
      "cell_type": "code",
      "source": [
        "\n",
        "\n",
        "url = 'https://insights.blackcoffer.com/all-you-need-to-know-about-online-marketing/'\n",
        "url_id = 'blackassign0046'\n",
        "extract_and_save_article_3(url, url_id)"
      ],
      "metadata": {
        "colab": {
          "base_uri": "https://localhost:8080/"
        },
        "id": "X6XrJI-vYkBl",
        "outputId": "82dec30e-ad55-420f-ad72-f58dd05b6f0b"
      },
      "execution_count": null,
      "outputs": [
        {
          "output_type": "stream",
          "name": "stdout",
          "text": [
            "Article saved successfully to blackassign0046.txt\n"
          ]
        }
      ]
    },
    {
      "cell_type": "code",
      "source": [
        "file_path = '/content/blackassign0046.txt'\n",
        "with open(file_path, 'r', encoding='utf-8') as file:\n",
        "    text_content = file.read()\n",
        "\n",
        "results = calculate_scores(text_content)\n",
        "\n",
        "# Print the results\n",
        "for key, value in results.items():\n",
        "    print(f\"{key}: {value}\")\n",
        "update_scores_excel(results)"
      ],
      "metadata": {
        "id": "7Dekf17rHItE",
        "colab": {
          "base_uri": "https://localhost:8080/"
        },
        "outputId": "0dc2d94f-a605-4bec-d185-0ac40ad0d246"
      },
      "execution_count": null,
      "outputs": [
        {
          "output_type": "stream",
          "name": "stdout",
          "text": [
            "Positive Score: 2\n",
            "Negative Score: 0\n",
            "Polarity Score: 0.99999950000025\n",
            "Subjectivity Score: 0.003703703696844993\n",
            "Average Sentence Length: 9.642857142857142\n",
            "Percentage of Complex Words: 0.0\n",
            "Fog Index: 3.857142857142857\n",
            "Average Number of Words Per Sentence: 9.642857142857142\n",
            "Complex Word Count: 0\n",
            "Word Count: 540\n",
            "Syllables per Word: 1277\n",
            "Personal Pronoun Count: 0\n",
            "Average Word Length: 6.885185185185185\n"
          ]
        }
      ]
    },
    {
      "cell_type": "code",
      "source": [
        "\n",
        "\n",
        "\n",
        "url = 'https://insights.blackcoffer.com/evolution-of-advertising-industry/'\n",
        "url_id = 'blackassign0047'\n",
        "extract_and_save_article_3(url, url_id)"
      ],
      "metadata": {
        "colab": {
          "base_uri": "https://localhost:8080/"
        },
        "id": "UyQlS5AdeVn5",
        "outputId": "b57aa5b0-af79-4ba8-e827-4b6ac43bad80"
      },
      "execution_count": null,
      "outputs": [
        {
          "output_type": "stream",
          "name": "stdout",
          "text": [
            "Article saved successfully to blackassign0047.txt\n"
          ]
        }
      ]
    },
    {
      "cell_type": "code",
      "source": [
        "file_path = '/content/blackassign0047.txt'\n",
        "with open(file_path, 'r', encoding='utf-8') as file:\n",
        "    text_content = file.read()\n",
        "\n",
        "results = calculate_scores(text_content)\n",
        "\n",
        "# Print the results\n",
        "for key, value in results.items():\n",
        "    print(f\"{key}: {value}\")\n",
        "update_scores_excel(results)"
      ],
      "metadata": {
        "colab": {
          "base_uri": "https://localhost:8080/"
        },
        "id": "p4f6JOCoeflR",
        "outputId": "ecebe767-67c8-4d34-c3dd-77e156cc7143"
      },
      "execution_count": null,
      "outputs": [
        {
          "output_type": "stream",
          "name": "stdout",
          "text": [
            "Positive Score: 0\n",
            "Negative Score: 0\n",
            "Polarity Score: 0.0\n",
            "Subjectivity Score: 0.0\n",
            "Average Sentence Length: 10.170731707317072\n",
            "Percentage of Complex Words: 0.0\n",
            "Fog Index: 4.068292682926829\n",
            "Average Number of Words Per Sentence: 10.170731707317072\n",
            "Complex Word Count: 0\n",
            "Word Count: 417\n",
            "Syllables per Word: 1040\n",
            "Personal Pronoun Count: 0\n",
            "Average Word Length: 7.39568345323741\n"
          ]
        }
      ]
    },
    {
      "cell_type": "code",
      "source": [
        "\n",
        "url = 'https://insights.blackcoffer.com/how-data-analytics-can-help-your-business-respond-to-the-impact-of-covid-19/'\n",
        "url_id = 'blackassign0048'\n",
        "extract_and_save_article_3(url, url_id)"
      ],
      "metadata": {
        "colab": {
          "base_uri": "https://localhost:8080/"
        },
        "id": "8D6x-r7HlIWu",
        "outputId": "20aa202d-78ea-4105-c4c6-d00753777a11"
      },
      "execution_count": null,
      "outputs": [
        {
          "output_type": "stream",
          "name": "stdout",
          "text": [
            "Article saved successfully to blackassign0048.txt\n"
          ]
        }
      ]
    },
    {
      "cell_type": "code",
      "source": [
        "file_path = '/content/blackassign0048.txt'\n",
        "with open(file_path, 'r', encoding='utf-8') as file:\n",
        "    text_content = file.read()\n",
        "\n",
        "results = calculate_scores(text_content)\n",
        "\n",
        "# Print the results\n",
        "for key, value in results.items():\n",
        "    print(f\"{key}: {value}\")\n",
        "update_scores_excel(results)"
      ],
      "metadata": {
        "colab": {
          "base_uri": "https://localhost:8080/"
        },
        "id": "QmKSaWyplp_V",
        "outputId": "fa1e53d3-3346-4dea-dfba-d54fbaa5865f"
      },
      "execution_count": null,
      "outputs": [
        {
          "output_type": "stream",
          "name": "stdout",
          "text": [
            "Positive Score: 0\n",
            "Negative Score: 0\n",
            "Polarity Score: 0.0\n",
            "Subjectivity Score: 0.0\n",
            "Average Sentence Length: 14.76923076923077\n",
            "Percentage of Complex Words: 0.0\n",
            "Fog Index: 5.907692307692308\n",
            "Average Number of Words Per Sentence: 14.76923076923077\n",
            "Complex Word Count: 0\n",
            "Word Count: 192\n",
            "Syllables per Word: 454\n",
            "Personal Pronoun Count: 0\n",
            "Average Word Length: 6.84375\n"
          ]
        }
      ]
    },
    {
      "cell_type": "code",
      "source": [
        "\n",
        "url = 'https://insights.blackcoffer.com/environmental-impact-of-the-covid-19-pandemic-lesson-for-the-future/'\n",
        "url_id = 'blackassign0049'\n",
        "extract_and_save_article_3(url, url_id)"
      ],
      "metadata": {
        "colab": {
          "base_uri": "https://localhost:8080/"
        },
        "id": "WRGwNRLDls-N",
        "outputId": "13eaae95-e937-4c52-965e-b4a77f8474f8"
      },
      "execution_count": null,
      "outputs": [
        {
          "output_type": "stream",
          "name": "stdout",
          "text": [
            "Article saved successfully to blackassign0049.txt\n"
          ]
        }
      ]
    },
    {
      "cell_type": "code",
      "source": [
        "file_path = '/content/blackassign0049.txt'\n",
        "with open(file_path, 'r', encoding='utf-8') as file:\n",
        "    text_content = file.read()\n",
        "\n",
        "results = calculate_scores(text_content)\n",
        "\n",
        "# Print the results\n",
        "for key, value in results.items():\n",
        "    print(f\"{key}: {value}\")\n",
        "update_scores_excel(results)"
      ],
      "metadata": {
        "colab": {
          "base_uri": "https://localhost:8080/"
        },
        "id": "kdBZZtdqm127",
        "outputId": "6269df8d-858b-45e9-c1e1-19713b16e61f"
      },
      "execution_count": null,
      "outputs": [
        {
          "output_type": "stream",
          "name": "stdout",
          "text": [
            "Positive Score: 1\n",
            "Negative Score: 1\n",
            "Polarity Score: 0.0\n",
            "Subjectivity Score: 0.002638522423959733\n",
            "Average Sentence Length: 13.535714285714286\n",
            "Percentage of Complex Words: 0.0\n",
            "Fog Index: 5.414285714285715\n",
            "Average Number of Words Per Sentence: 13.535714285714286\n",
            "Complex Word Count: 0\n",
            "Word Count: 758\n",
            "Syllables per Word: 1727\n",
            "Personal Pronoun Count: 0\n",
            "Average Word Length: 6.774406332453826\n"
          ]
        }
      ]
    },
    {
      "cell_type": "code",
      "source": [
        "\n",
        "url = 'https://insights.blackcoffer.com/how-data-analytics-and-ai-are-used-to-halt-the-covid-19-pandemic/'\n",
        "url_id = 'blackassign0050'\n",
        "extract_and_save_article_3(url, url_id)"
      ],
      "metadata": {
        "colab": {
          "base_uri": "https://localhost:8080/"
        },
        "id": "uEPrEjzem5rE",
        "outputId": "510d7f0f-91b2-4acd-d625-986fd01cf1e8"
      },
      "execution_count": null,
      "outputs": [
        {
          "output_type": "stream",
          "name": "stdout",
          "text": [
            "Article saved successfully to blackassign0050.txt\n"
          ]
        }
      ]
    },
    {
      "cell_type": "code",
      "source": [
        "file_path = '/content/blackassign0050.txt'\n",
        "with open(file_path, 'r', encoding='utf-8') as file:\n",
        "    text_content = file.read()\n",
        "\n",
        "results = calculate_scores(text_content)\n",
        "\n",
        "# Print the results\n",
        "for key, value in results.items():\n",
        "    print(f\"{key}: {value}\")\n",
        "update_scores_excel(results)"
      ],
      "metadata": {
        "colab": {
          "base_uri": "https://localhost:8080/"
        },
        "id": "M849pt3HnkSD",
        "outputId": "5e48132d-365e-422b-bafc-1fb561b04e0c"
      },
      "execution_count": null,
      "outputs": [
        {
          "output_type": "stream",
          "name": "stdout",
          "text": [
            "Positive Score: 3\n",
            "Negative Score: 0\n",
            "Polarity Score: 0.9999996666667778\n",
            "Subjectivity Score: 0.007594936689633072\n",
            "Average Sentence Length: 13.166666666666666\n",
            "Percentage of Complex Words: 0.0\n",
            "Fog Index: 5.266666666666667\n",
            "Average Number of Words Per Sentence: 13.166666666666666\n",
            "Complex Word Count: 0\n",
            "Word Count: 395\n",
            "Syllables per Word: 882\n",
            "Personal Pronoun Count: 2\n",
            "Average Word Length: 6.594936708860759\n"
          ]
        }
      ]
    },
    {
      "cell_type": "code",
      "source": [
        "\n",
        "url = 'https://insights.blackcoffer.com/difference-between-artificial-intelligence-machine-learning-statistics-and-data-mining/'\n",
        "url_id = 'blackassign0051'\n",
        "extract_and_save_article_3(url, url_id)"
      ],
      "metadata": {
        "colab": {
          "base_uri": "https://localhost:8080/"
        },
        "id": "mPsnTZOFnpz7",
        "outputId": "887bc8f1-6860-49da-b09b-aae1441b252a"
      },
      "execution_count": null,
      "outputs": [
        {
          "output_type": "stream",
          "name": "stdout",
          "text": [
            "Article saved successfully to blackassign0051.txt\n"
          ]
        }
      ]
    },
    {
      "cell_type": "code",
      "source": [
        "file_path = '/content/blackassign0051.txt'\n",
        "with open(file_path, 'r', encoding='utf-8') as file:\n",
        "    text_content = file.read()\n",
        "\n",
        "results = calculate_scores(text_content)\n",
        "\n",
        "# Print the results\n",
        "for key, value in results.items():\n",
        "    print(f\"{key}: {value}\")\n",
        "update_scores_excel(results)"
      ],
      "metadata": {
        "colab": {
          "base_uri": "https://localhost:8080/"
        },
        "id": "FLhlBcVqoN-0",
        "outputId": "86dd5740-e0df-4e17-ad42-c6cec7fda971"
      },
      "execution_count": null,
      "outputs": [
        {
          "output_type": "stream",
          "name": "stdout",
          "text": [
            "Positive Score: 2\n",
            "Negative Score: 2\n",
            "Polarity Score: 0.0\n",
            "Subjectivity Score: 0.0040691759877221\n",
            "Average Sentence Length: 8.776785714285714\n",
            "Percentage of Complex Words: 0.0\n",
            "Fog Index: 3.5107142857142857\n",
            "Average Number of Words Per Sentence: 8.776785714285714\n",
            "Complex Word Count: 0\n",
            "Word Count: 983\n",
            "Syllables per Word: 2225\n",
            "Personal Pronoun Count: 2\n",
            "Average Word Length: 6.664292980671414\n"
          ]
        }
      ]
    },
    {
      "cell_type": "code",
      "source": [
        "\n",
        "\n",
        "url = 'https://insights.blackcoffer.com/how-python-became-the-first-choice-for-data-science/'\n",
        "url_id = 'blackassign0052'\n",
        "extract_and_save_article_3(url, url_id)"
      ],
      "metadata": {
        "colab": {
          "base_uri": "https://localhost:8080/"
        },
        "id": "43ETn8lsoUA7",
        "outputId": "812005c9-91b2-4393-9c06-24b52462c685"
      },
      "execution_count": null,
      "outputs": [
        {
          "output_type": "stream",
          "name": "stdout",
          "text": [
            "Article saved successfully to blackassign0052.txt\n"
          ]
        }
      ]
    },
    {
      "cell_type": "code",
      "source": [
        "file_path = '/content/blackassign0052.txt'\n",
        "with open(file_path, 'r', encoding='utf-8') as file:\n",
        "    text_content = file.read()\n",
        "\n",
        "results = calculate_scores(text_content)\n",
        "\n",
        "# Print the results\n",
        "for key, value in results.items():\n",
        "    print(f\"{key}: {value}\")\n",
        "update_scores_excel(results)"
      ],
      "metadata": {
        "colab": {
          "base_uri": "https://localhost:8080/"
        },
        "id": "K5pfOroEo6k7",
        "outputId": "6b19e7f4-25dc-48c3-b66b-3e9069c52f3b"
      },
      "execution_count": null,
      "outputs": [
        {
          "output_type": "stream",
          "name": "stdout",
          "text": [
            "Positive Score: 3\n",
            "Negative Score: 0\n",
            "Polarity Score: 0.9999996666667778\n",
            "Subjectivity Score: 0.007672634251476639\n",
            "Average Sentence Length: 8.688888888888888\n",
            "Percentage of Complex Words: 0.0\n",
            "Fog Index: 3.4755555555555553\n",
            "Average Number of Words Per Sentence: 8.688888888888888\n",
            "Complex Word Count: 0\n",
            "Word Count: 391\n",
            "Syllables per Word: 878\n",
            "Personal Pronoun Count: 0\n",
            "Average Word Length: 6.751918158567775\n"
          ]
        }
      ]
    },
    {
      "cell_type": "code",
      "source": [
        "\n",
        "url = 'https://insights.blackcoffer.com/how-google-fit-measure-heart-and-respiratory-rates-using-a-phone/'\n",
        "url_id = 'blackassign0053'\n",
        "extract_and_save_article_3(url, url_id)"
      ],
      "metadata": {
        "colab": {
          "base_uri": "https://localhost:8080/"
        },
        "id": "LSBbHwv3pBBt",
        "outputId": "49e2c5ee-3f11-4fdd-cd4f-971bccdf9797"
      },
      "execution_count": null,
      "outputs": [
        {
          "output_type": "stream",
          "name": "stdout",
          "text": [
            "Article saved successfully to blackassign0053.txt\n"
          ]
        }
      ]
    },
    {
      "cell_type": "code",
      "source": [
        "file_path = '/content/blackassign0053.txt'\n",
        "with open(file_path, 'r', encoding='utf-8') as file:\n",
        "    text_content = file.read()\n",
        "\n",
        "results = calculate_scores(text_content)\n",
        "\n",
        "# Print the results\n",
        "for key, value in results.items():\n",
        "    print(f\"{key}: {value}\")\n",
        "update_scores_excel(results)"
      ],
      "metadata": {
        "colab": {
          "base_uri": "https://localhost:8080/"
        },
        "id": "63xiHxX1pZ6j",
        "outputId": "19e688e7-382d-4273-cb09-4321a8a93a19"
      },
      "execution_count": null,
      "outputs": [
        {
          "output_type": "stream",
          "name": "stdout",
          "text": [
            "Positive Score: 0\n",
            "Negative Score: 0\n",
            "Polarity Score: 0.0\n",
            "Subjectivity Score: 0.0\n",
            "Average Sentence Length: 12.88888888888889\n",
            "Percentage of Complex Words: 0.0\n",
            "Fog Index: 5.155555555555556\n",
            "Average Number of Words Per Sentence: 12.88888888888889\n",
            "Complex Word Count: 0\n",
            "Word Count: 232\n",
            "Syllables per Word: 490\n",
            "Personal Pronoun Count: 0\n",
            "Average Word Length: 6.2155172413793105\n"
          ]
        }
      ]
    },
    {
      "cell_type": "code",
      "source": [
        "\n",
        "url = 'https://insights.blackcoffer.com/what-is-the-future-of-mobile-apps/'\n",
        "url_id = 'blackassign0054'\n",
        "extract_and_save_article_3(url, url_id)"
      ],
      "metadata": {
        "colab": {
          "base_uri": "https://localhost:8080/"
        },
        "id": "1jIn-xbppgWt",
        "outputId": "ffa283ca-c6e9-4fa5-fc51-95207d2a0cbd"
      },
      "execution_count": null,
      "outputs": [
        {
          "output_type": "stream",
          "name": "stdout",
          "text": [
            "Article saved successfully to blackassign0054.txt\n"
          ]
        }
      ]
    },
    {
      "cell_type": "code",
      "source": [
        "file_path = '/content/blackassign0054.txt'\n",
        "with open(file_path, 'r', encoding='utf-8') as file:\n",
        "    text_content = file.read()\n",
        "\n",
        "results = calculate_scores(text_content)\n",
        "\n",
        "# Print the results\n",
        "for key, value in results.items():\n",
        "    print(f\"{key}: {value}\")\n",
        "update_scores_excel(results)"
      ],
      "metadata": {
        "colab": {
          "base_uri": "https://localhost:8080/"
        },
        "id": "kHWgOhfmp2sl",
        "outputId": "8a642758-e6bd-4849-ca5a-05183c93027d"
      },
      "execution_count": null,
      "outputs": [
        {
          "output_type": "stream",
          "name": "stdout",
          "text": [
            "Positive Score: 3\n",
            "Negative Score: 0\n",
            "Polarity Score: 0.9999996666667778\n",
            "Subjectivity Score: 0.004601226986807934\n",
            "Average Sentence Length: 13.04\n",
            "Percentage of Complex Words: 0.0\n",
            "Fog Index: 5.216\n",
            "Average Number of Words Per Sentence: 13.04\n",
            "Complex Word Count: 0\n",
            "Word Count: 652\n",
            "Syllables per Word: 1345\n",
            "Personal Pronoun Count: 0\n",
            "Average Word Length: 6.164110429447852\n"
          ]
        }
      ]
    },
    {
      "cell_type": "code",
      "source": [
        "\n",
        "\n",
        "url = 'https://insights.blackcoffer.com/impact-of-ai-in-health-and-medicine/'\n",
        "url_id = 'blackassign0055'\n",
        "extract_and_save_article_3(url, url_id)"
      ],
      "metadata": {
        "colab": {
          "base_uri": "https://localhost:8080/"
        },
        "id": "kUSY9tKcqDgU",
        "outputId": "bbe9297a-8627-4892-f13c-612ecd1e1929"
      },
      "execution_count": null,
      "outputs": [
        {
          "output_type": "stream",
          "name": "stdout",
          "text": [
            "Article saved successfully to blackassign0055.txt\n"
          ]
        }
      ]
    },
    {
      "cell_type": "code",
      "source": [
        "file_path = '/content/blackassign0055.txt'\n",
        "with open(file_path, 'r', encoding='utf-8') as file:\n",
        "    text_content = file.read()\n",
        "\n",
        "results = calculate_scores(text_content)\n",
        "\n",
        "# Print the results\n",
        "for key, value in results.items():\n",
        "    print(f\"{key}: {value}\")\n",
        "update_scores_excel(results)"
      ],
      "metadata": {
        "colab": {
          "base_uri": "https://localhost:8080/"
        },
        "id": "N9_rTcDpq4T1",
        "outputId": "8e265f1f-ed12-4c41-9955-7b562820b8a5"
      },
      "execution_count": null,
      "outputs": [
        {
          "output_type": "stream",
          "name": "stdout",
          "text": [
            "Positive Score: 0\n",
            "Negative Score: 0\n",
            "Polarity Score: 0.0\n",
            "Subjectivity Score: 0.0\n",
            "Average Sentence Length: 15.666666666666666\n",
            "Percentage of Complex Words: 0.0\n",
            "Fog Index: 6.266666666666667\n",
            "Average Number of Words Per Sentence: 15.666666666666666\n",
            "Complex Word Count: 0\n",
            "Word Count: 376\n",
            "Syllables per Word: 895\n",
            "Personal Pronoun Count: 0\n",
            "Average Word Length: 6.851063829787234\n"
          ]
        }
      ]
    },
    {
      "cell_type": "code",
      "source": [
        "\n",
        "url = 'https://insights.blackcoffer.com/telemedicine-what-patients-like-and-dislike-about-it/'\n",
        "url_id = 'blackassign0056'\n",
        "extract_and_save_article_3(url, url_id)"
      ],
      "metadata": {
        "colab": {
          "base_uri": "https://localhost:8080/"
        },
        "id": "yQBOjP5xrSiG",
        "outputId": "faa7b327-0b07-4254-89f4-53ea54d4a42e"
      },
      "execution_count": null,
      "outputs": [
        {
          "output_type": "stream",
          "name": "stdout",
          "text": [
            "Article saved successfully to blackassign0056.txt\n"
          ]
        }
      ]
    },
    {
      "cell_type": "code",
      "source": [
        "file_path = '/content/blackassign0056.txt'\n",
        "with open(file_path, 'r', encoding='utf-8') as file:\n",
        "    text_content = file.read()\n",
        "\n",
        "results = calculate_scores(text_content)\n",
        "\n",
        "# Print the results\n",
        "for key, value in results.items():\n",
        "    print(f\"{key}: {value}\")\n",
        "update_scores_excel(results)"
      ],
      "metadata": {
        "colab": {
          "base_uri": "https://localhost:8080/"
        },
        "id": "kD-S3hnxrbo2",
        "outputId": "0a8ce35d-e802-4731-cb6f-d7819a73682c"
      },
      "execution_count": null,
      "outputs": [
        {
          "output_type": "stream",
          "name": "stdout",
          "text": [
            "Positive Score: 1\n",
            "Negative Score: 0\n",
            "Polarity Score: 0.9999990000010001\n",
            "Subjectivity Score: 0.005025125602888816\n",
            "Average Sentence Length: 6.862068965517241\n",
            "Percentage of Complex Words: 0.0\n",
            "Fog Index: 2.7448275862068967\n",
            "Average Number of Words Per Sentence: 6.862068965517241\n",
            "Complex Word Count: 0\n",
            "Word Count: 199\n",
            "Syllables per Word: 475\n",
            "Personal Pronoun Count: 0\n",
            "Average Word Length: 7.175879396984925\n"
          ]
        }
      ]
    },
    {
      "cell_type": "code",
      "source": [
        "\n",
        "url = 'https://insights.blackcoffer.com/how-we-forecast-future-technologies/'\n",
        "url_id = 'blackassign0057'\n",
        "extract_and_save_article_3(url, url_id)"
      ],
      "metadata": {
        "colab": {
          "base_uri": "https://localhost:8080/"
        },
        "id": "4H2LIGvjrfmd",
        "outputId": "125b47fe-31ad-465f-b9e2-cc2d6ab28e93"
      },
      "execution_count": null,
      "outputs": [
        {
          "output_type": "stream",
          "name": "stdout",
          "text": [
            "Article saved successfully to blackassign0057.txt\n"
          ]
        }
      ]
    },
    {
      "cell_type": "code",
      "source": [
        "file_path = '/content/blackassign0057.txt'\n",
        "with open(file_path, 'r', encoding='utf-8') as file:\n",
        "    text_content = file.read()\n",
        "\n",
        "results = calculate_scores(text_content)\n",
        "\n",
        "# Print the results\n",
        "for key, value in results.items():\n",
        "    print(f\"{key}: {value}\")\n",
        "update_scores_excel(results)"
      ],
      "metadata": {
        "colab": {
          "base_uri": "https://localhost:8080/"
        },
        "id": "L7vexFQZsJms",
        "outputId": "3f07e7cd-de68-4434-b7c2-5f23c2df3581"
      },
      "execution_count": null,
      "outputs": [
        {
          "output_type": "stream",
          "name": "stdout",
          "text": [
            "Positive Score: 0\n",
            "Negative Score: 0\n",
            "Polarity Score: 0.0\n",
            "Subjectivity Score: 0.0\n",
            "Average Sentence Length: 8.583333333333334\n",
            "Percentage of Complex Words: 0.0\n",
            "Fog Index: 3.4333333333333336\n",
            "Average Number of Words Per Sentence: 8.583333333333334\n",
            "Complex Word Count: 0\n",
            "Word Count: 103\n",
            "Syllables per Word: 257\n",
            "Personal Pronoun Count: 0\n",
            "Average Word Length: 7.300970873786408\n"
          ]
        }
      ]
    },
    {
      "cell_type": "code",
      "source": [
        "\n",
        "\n",
        "url = 'https://insights.blackcoffer.com/can-robots-tackle-late-life-loneliness/'\n",
        "url_id = 'blackassign0058'\n",
        "extract_and_save_article_3(url, url_id)"
      ],
      "metadata": {
        "colab": {
          "base_uri": "https://localhost:8080/"
        },
        "id": "aGaeurypsNv8",
        "outputId": "2665fcbc-bf91-4a1d-aff6-eb3476195228"
      },
      "execution_count": null,
      "outputs": [
        {
          "output_type": "stream",
          "name": "stdout",
          "text": [
            "Article saved successfully to blackassign0058.txt\n"
          ]
        }
      ]
    },
    {
      "cell_type": "code",
      "source": [
        "file_path = '/content/blackassign0058.txt'\n",
        "with open(file_path, 'r', encoding='utf-8') as file:\n",
        "    text_content = file.read()\n",
        "\n",
        "results = calculate_scores(text_content)\n",
        "\n",
        "# Print the results\n",
        "for key, value in results.items():\n",
        "    print(f\"{key}: {value}\")\n",
        "update_scores_excel(results)"
      ],
      "metadata": {
        "colab": {
          "base_uri": "https://localhost:8080/"
        },
        "id": "0UtJ2ELbs2xl",
        "outputId": "d529b048-9e59-441b-da0f-d6578de03bc5"
      },
      "execution_count": null,
      "outputs": [
        {
          "output_type": "stream",
          "name": "stdout",
          "text": [
            "Positive Score: 2\n",
            "Negative Score: 1\n",
            "Polarity Score: 0.33333322222225925\n",
            "Subjectivity Score: 0.007462686548600282\n",
            "Average Sentence Length: 7.052631578947368\n",
            "Percentage of Complex Words: 0.0\n",
            "Fog Index: 2.8210526315789473\n",
            "Average Number of Words Per Sentence: 7.052631578947368\n",
            "Complex Word Count: 0\n",
            "Word Count: 402\n",
            "Syllables per Word: 858\n",
            "Personal Pronoun Count: 4\n",
            "Average Word Length: 6.350746268656716\n"
          ]
        }
      ]
    },
    {
      "cell_type": "code",
      "source": [
        "\n",
        "url = 'https://insights.blackcoffer.com/embedding-care-robots-into-society-socio-technical-considerations/'\n",
        "url_id = 'blackassign0059'\n",
        "extract_and_save_article_3(url, url_id)"
      ],
      "metadata": {
        "colab": {
          "base_uri": "https://localhost:8080/"
        },
        "id": "KV-iPdQVtVYd",
        "outputId": "0c602aa8-ecf4-455b-a913-01c158a1c617"
      },
      "execution_count": null,
      "outputs": [
        {
          "output_type": "stream",
          "name": "stdout",
          "text": [
            "Article saved successfully to blackassign0059.txt\n"
          ]
        }
      ]
    },
    {
      "cell_type": "code",
      "source": [
        "file_path = '/content/blackassign0059.txt'\n",
        "with open(file_path, 'r', encoding='utf-8') as file:\n",
        "    text_content = file.read()\n",
        "\n",
        "results = calculate_scores(text_content)\n",
        "\n",
        "# Print the results\n",
        "for key, value in results.items():\n",
        "    print(f\"{key}: {value}\")\n",
        "update_scores_excel(results)"
      ],
      "metadata": {
        "colab": {
          "base_uri": "https://localhost:8080/"
        },
        "id": "0IH7oYYJs6NV",
        "outputId": "b6df9464-1164-4eda-dd71-39b6fd98a92c"
      },
      "execution_count": null,
      "outputs": [
        {
          "output_type": "stream",
          "name": "stdout",
          "text": [
            "Positive Score: 2\n",
            "Negative Score: 0\n",
            "Polarity Score: 0.99999950000025\n",
            "Subjectivity Score: 0.018348623684875012\n",
            "Average Sentence Length: 10.9\n",
            "Percentage of Complex Words: 0.0\n",
            "Fog Index: 4.36\n",
            "Average Number of Words Per Sentence: 10.9\n",
            "Complex Word Count: 0\n",
            "Word Count: 109\n",
            "Syllables per Word: 232\n",
            "Personal Pronoun Count: 0\n",
            "Average Word Length: 6.247706422018348\n"
          ]
        }
      ]
    },
    {
      "cell_type": "code",
      "source": [
        "\n",
        "url = 'https://insights.blackcoffer.com/management-challenges-for-future-digitalization-of-healthcare-services/'\n",
        "url_id = 'blackassign0060'\n",
        "extract_and_save_article_3(url, url_id)"
      ],
      "metadata": {
        "colab": {
          "base_uri": "https://localhost:8080/"
        },
        "id": "69F_2rRktid9",
        "outputId": "5eb5e0a2-726c-4a79-a80c-2c875a27ee3c"
      },
      "execution_count": null,
      "outputs": [
        {
          "output_type": "stream",
          "name": "stdout",
          "text": [
            "Article saved successfully to blackassign0060.txt\n"
          ]
        }
      ]
    },
    {
      "cell_type": "code",
      "source": [
        "file_path = '/content/blackassign0060.txt'\n",
        "with open(file_path, 'r', encoding='utf-8') as file:\n",
        "    text_content = file.read()\n",
        "\n",
        "results = calculate_scores(text_content)\n",
        "\n",
        "# Print the results\n",
        "for key, value in results.items():\n",
        "    print(f\"{key}: {value}\")\n",
        "update_scores_excel(results)"
      ],
      "metadata": {
        "colab": {
          "base_uri": "https://localhost:8080/"
        },
        "id": "Nitg8HEFuV7_",
        "outputId": "ff49c8d4-21ac-48b2-cad3-ddcbd19f1095"
      },
      "execution_count": null,
      "outputs": [
        {
          "output_type": "stream",
          "name": "stdout",
          "text": [
            "Positive Score: 0\n",
            "Negative Score: 0\n",
            "Polarity Score: 0.0\n",
            "Subjectivity Score: 0.0\n",
            "Average Sentence Length: 11.3\n",
            "Percentage of Complex Words: 0.0\n",
            "Fog Index: 4.5200000000000005\n",
            "Average Number of Words Per Sentence: 11.3\n",
            "Complex Word Count: 0\n",
            "Word Count: 678\n",
            "Syllables per Word: 1725\n",
            "Personal Pronoun Count: 0\n",
            "Average Word Length: 7.396755162241888\n"
          ]
        }
      ]
    },
    {
      "cell_type": "code",
      "source": [
        "\n",
        "url = 'https://insights.blackcoffer.com/are-we-any-closer-to-preventing-a-nuclear-holocaust/'\n",
        "url_id = 'blackassign0061'\n",
        "extract_and_save_article_3(url, url_id)"
      ],
      "metadata": {
        "colab": {
          "base_uri": "https://localhost:8080/"
        },
        "id": "6uw5sBMcumu-",
        "outputId": "180107cd-a13f-42e5-f048-551e9f57b49d"
      },
      "execution_count": null,
      "outputs": [
        {
          "output_type": "stream",
          "name": "stdout",
          "text": [
            "Article saved successfully to blackassign0061.txt\n"
          ]
        }
      ]
    },
    {
      "cell_type": "code",
      "source": [
        "file_path = '/content/blackassign0061.txt'\n",
        "with open(file_path, 'r', encoding='utf-8') as file:\n",
        "    text_content = file.read()\n",
        "\n",
        "results = calculate_scores(text_content)\n",
        "\n",
        "# Print the results\n",
        "for key, value in results.items():\n",
        "    print(f\"{key}: {value}\")\n",
        "update_scores_excel(results)"
      ],
      "metadata": {
        "colab": {
          "base_uri": "https://localhost:8080/"
        },
        "id": "OkDNYEo9vHjO",
        "outputId": "c8ea477f-abe6-4de9-fa91-0f98d3663d2d"
      },
      "execution_count": null,
      "outputs": [
        {
          "output_type": "stream",
          "name": "stdout",
          "text": [
            "Positive Score: 0\n",
            "Negative Score: 0\n",
            "Polarity Score: 0.0\n",
            "Subjectivity Score: 0.0\n",
            "Average Sentence Length: 14.095238095238095\n",
            "Percentage of Complex Words: 0.0\n",
            "Fog Index: 5.6380952380952385\n",
            "Average Number of Words Per Sentence: 14.095238095238095\n",
            "Complex Word Count: 0\n",
            "Word Count: 296\n",
            "Syllables per Word: 627\n",
            "Personal Pronoun Count: 1\n",
            "Average Word Length: 6.618243243243243\n"
          ]
        }
      ]
    },
    {
      "cell_type": "code",
      "source": [
        "\n",
        "url = 'https://insights.blackcoffer.com/will-technology-eliminate-the-need-for-animal-testing-in-drug-development/'\n",
        "url_id = 'blackassign0062'\n",
        "extract_and_save_article_3(url, url_id)"
      ],
      "metadata": {
        "colab": {
          "base_uri": "https://localhost:8080/"
        },
        "id": "9V-dO8xDvUGk",
        "outputId": "45e9c292-c37c-4363-e233-f9c47aef52a9"
      },
      "execution_count": null,
      "outputs": [
        {
          "output_type": "stream",
          "name": "stdout",
          "text": [
            "Article saved successfully to blackassign0062.txt\n"
          ]
        }
      ]
    },
    {
      "cell_type": "code",
      "source": [
        "file_path = '/content/blackassign0062.txt'\n",
        "with open(file_path, 'r', encoding='utf-8') as file:\n",
        "    text_content = file.read()\n",
        "\n",
        "results = calculate_scores(text_content)\n",
        "\n",
        "# Print the results\n",
        "for key, value in results.items():\n",
        "    print(f\"{key}: {value}\")\n",
        "update_scores_excel(results)"
      ],
      "metadata": {
        "colab": {
          "base_uri": "https://localhost:8080/"
        },
        "id": "2h2fb9Ymvqnu",
        "outputId": "a0b18641-2a20-41a6-bb47-bf1abd099d81"
      },
      "execution_count": null,
      "outputs": [
        {
          "output_type": "stream",
          "name": "stdout",
          "text": [
            "Positive Score: 1\n",
            "Negative Score: 0\n",
            "Polarity Score: 0.9999990000010001\n",
            "Subjectivity Score: 0.001788908762452757\n",
            "Average Sentence Length: 10.75\n",
            "Percentage of Complex Words: 0.0\n",
            "Fog Index: 4.3\n",
            "Average Number of Words Per Sentence: 10.75\n",
            "Complex Word Count: 0\n",
            "Word Count: 559\n",
            "Syllables per Word: 1227\n",
            "Personal Pronoun Count: 1\n",
            "Average Word Length: 6.525939177101968\n"
          ]
        }
      ]
    },
    {
      "cell_type": "code",
      "source": [
        "\n",
        "\n",
        "url = 'https://insights.blackcoffer.com/will-we-ever-understand-the-nature-of-consciousness/'\n",
        "url_id = 'blackassign0063'\n",
        "extract_and_save_article_3(url, url_id)\n"
      ],
      "metadata": {
        "colab": {
          "base_uri": "https://localhost:8080/"
        },
        "id": "HMNgeBJavw0V",
        "outputId": "ea5e2bd4-8f4a-4629-9cd3-0e7db84b734a"
      },
      "execution_count": null,
      "outputs": [
        {
          "output_type": "stream",
          "name": "stdout",
          "text": [
            "Article saved successfully to blackassign0063.txt\n"
          ]
        }
      ]
    },
    {
      "cell_type": "code",
      "source": [
        "file_path = '/content/blackassign0063.txt'\n",
        "with open(file_path, 'r', encoding='utf-8') as file:\n",
        "    text_content = file.read()\n",
        "\n",
        "results = calculate_scores(text_content)\n",
        "\n",
        "# Print the results\n",
        "for key, value in results.items():\n",
        "    print(f\"{key}: {value}\")\n",
        "update_scores_excel(results)"
      ],
      "metadata": {
        "colab": {
          "base_uri": "https://localhost:8080/"
        },
        "id": "p1SKdcufwP09",
        "outputId": "846ebfb2-947b-4753-8cd6-9877f597d1af"
      },
      "execution_count": null,
      "outputs": [
        {
          "output_type": "stream",
          "name": "stdout",
          "text": [
            "Positive Score: 1\n",
            "Negative Score: 2\n",
            "Polarity Score: -0.33333322222225925\n",
            "Subjectivity Score: 0.0030927835019662025\n",
            "Average Sentence Length: 12.933333333333334\n",
            "Percentage of Complex Words: 0.0\n",
            "Fog Index: 5.173333333333334\n",
            "Average Number of Words Per Sentence: 12.933333333333334\n",
            "Complex Word Count: 0\n",
            "Word Count: 970\n",
            "Syllables per Word: 2302\n",
            "Personal Pronoun Count: 5\n",
            "Average Word Length: 7.288659793814433\n"
          ]
        }
      ]
    },
    {
      "cell_type": "code",
      "source": [
        "\n",
        "url = 'https://insights.blackcoffer.com/will-we-ever-colonize-outer-space/'\n",
        "url_id = 'blackassign0064'\n",
        "extract_and_save_article_3(url, url_id)"
      ],
      "metadata": {
        "colab": {
          "base_uri": "https://localhost:8080/"
        },
        "id": "HzQTL5SOwdkV",
        "outputId": "f03a28a7-e6a9-4156-8667-bce8472f1d3b"
      },
      "execution_count": null,
      "outputs": [
        {
          "output_type": "stream",
          "name": "stdout",
          "text": [
            "Article saved successfully to blackassign0064.txt\n"
          ]
        }
      ]
    },
    {
      "cell_type": "code",
      "source": [
        "file_path = '/content/blackassign0064.txt'\n",
        "with open(file_path, 'r', encoding='utf-8') as file:\n",
        "    text_content = file.read()\n",
        "\n",
        "results = calculate_scores(text_content)\n",
        "\n",
        "# Print the results\n",
        "for key, value in results.items():\n",
        "    print(f\"{key}: {value}\")\n",
        "update_scores_excel(results)"
      ],
      "metadata": {
        "colab": {
          "base_uri": "https://localhost:8080/"
        },
        "id": "XqEagdWzxfc2",
        "outputId": "a5e3bb9e-1d02-491b-c443-12bb91c9f8bd"
      },
      "execution_count": null,
      "outputs": [
        {
          "output_type": "stream",
          "name": "stdout",
          "text": [
            "Positive Score: 0\n",
            "Negative Score: 0\n",
            "Polarity Score: 0.0\n",
            "Subjectivity Score: 0.0\n",
            "Average Sentence Length: 12.7\n",
            "Percentage of Complex Words: 0.0\n",
            "Fog Index: 5.08\n",
            "Average Number of Words Per Sentence: 12.7\n",
            "Complex Word Count: 0\n",
            "Word Count: 889\n",
            "Syllables per Word: 1895\n",
            "Personal Pronoun Count: 0\n",
            "Average Word Length: 6.431946006749157\n"
          ]
        }
      ]
    },
    {
      "cell_type": "code",
      "source": [
        "\n",
        "\n",
        "url = 'https://insights.blackcoffer.com/what-is-the-chance-homo-sapiens-will-survive-for-the-next-500-years/'\n",
        "url_id = 'blackassign0065'\n",
        "extract_and_save_article_3(url, url_id)"
      ],
      "metadata": {
        "colab": {
          "base_uri": "https://localhost:8080/"
        },
        "id": "6qe53tehxjTU",
        "outputId": "47bd62ce-bc16-4b4b-d7e3-6b6b443848ed"
      },
      "execution_count": null,
      "outputs": [
        {
          "output_type": "stream",
          "name": "stdout",
          "text": [
            "Article saved successfully to blackassign0065.txt\n"
          ]
        }
      ]
    },
    {
      "cell_type": "code",
      "source": [
        "file_path = '/content/blackassign0065.txt'\n",
        "with open(file_path, 'r', encoding='utf-8') as file:\n",
        "    text_content = file.read()\n",
        "\n",
        "results = calculate_scores(text_content)\n",
        "\n",
        "# Print the results\n",
        "for key, value in results.items():\n",
        "    print(f\"{key}: {value}\")\n",
        "update_scores_excel(results)"
      ],
      "metadata": {
        "colab": {
          "base_uri": "https://localhost:8080/"
        },
        "id": "4WaxsTMhyXWP",
        "outputId": "aa2ee1a6-1b81-4430-e006-9e90a9fc6a59"
      },
      "execution_count": null,
      "outputs": [
        {
          "output_type": "stream",
          "name": "stdout",
          "text": [
            "Positive Score: 1\n",
            "Negative Score: 0\n",
            "Polarity Score: 0.9999990000010001\n",
            "Subjectivity Score: 0.0012531328305098587\n",
            "Average Sentence Length: 9.614457831325302\n",
            "Percentage of Complex Words: 0.0\n",
            "Fog Index: 3.845783132530121\n",
            "Average Number of Words Per Sentence: 9.614457831325302\n",
            "Complex Word Count: 0\n",
            "Word Count: 798\n",
            "Syllables per Word: 1661\n",
            "Personal Pronoun Count: 5\n",
            "Average Word Length: 6.328320802005012\n"
          ]
        }
      ]
    },
    {
      "cell_type": "code",
      "source": [
        "\n",
        "url = 'https://insights.blackcoffer.com/why-does-your-business-need-a-chatbot/'\n",
        "url_id = 'blackassign0066'\n",
        "extract_and_save_article_3(url, url_id)"
      ],
      "metadata": {
        "colab": {
          "base_uri": "https://localhost:8080/"
        },
        "id": "3glTbh0Wy8rZ",
        "outputId": "b55b286a-0b61-4e24-b59f-77302a9bc1a9"
      },
      "execution_count": null,
      "outputs": [
        {
          "output_type": "stream",
          "name": "stdout",
          "text": [
            "Article saved successfully to blackassign0066.txt\n"
          ]
        }
      ]
    },
    {
      "cell_type": "code",
      "source": [
        "file_path = '/content/blackassign0066.txt'\n",
        "with open(file_path, 'r', encoding='utf-8') as file:\n",
        "    text_content = file.read()\n",
        "\n",
        "results = calculate_scores(text_content)\n",
        "\n",
        "# Print the results\n",
        "for key, value in results.items():\n",
        "    print(f\"{key}: {value}\")\n",
        "update_scores_excel(results)"
      ],
      "metadata": {
        "colab": {
          "base_uri": "https://localhost:8080/"
        },
        "id": "vwj6Uv6vzGl2",
        "outputId": "3461e988-a06b-49d8-9b00-f87ad4d5ec7a"
      },
      "execution_count": null,
      "outputs": [
        {
          "output_type": "stream",
          "name": "stdout",
          "text": [
            "Positive Score: 6\n",
            "Negative Score: 0\n",
            "Polarity Score: 0.9999998333333611\n",
            "Subjectivity Score: 0.015384615345167652\n",
            "Average Sentence Length: 6.190476190476191\n",
            "Percentage of Complex Words: 0.0\n",
            "Fog Index: 2.4761904761904763\n",
            "Average Number of Words Per Sentence: 6.190476190476191\n",
            "Complex Word Count: 0\n",
            "Word Count: 390\n",
            "Syllables per Word: 889\n",
            "Personal Pronoun Count: 0\n",
            "Average Word Length: 6.674358974358975\n"
          ]
        }
      ]
    },
    {
      "cell_type": "code",
      "source": [
        "\n",
        "url = 'https://insights.blackcoffer.com/how-you-lead-a-project-or-a-team-without-any-technical-expertise/'\n",
        "url_id = 'blackassign0067'\n",
        "extract_and_save_article_3(url, url_id)\n"
      ],
      "metadata": {
        "colab": {
          "base_uri": "https://localhost:8080/"
        },
        "id": "s14jOTKwzTqm",
        "outputId": "38f1ab36-4ad6-498d-f34d-079150b8a1ae"
      },
      "execution_count": null,
      "outputs": [
        {
          "output_type": "stream",
          "name": "stdout",
          "text": [
            "Article saved successfully to blackassign0067.txt\n"
          ]
        }
      ]
    },
    {
      "cell_type": "code",
      "source": [
        "file_path = '/content/blackassign0067.txt'\n",
        "with open(file_path, 'r', encoding='utf-8') as file:\n",
        "    text_content = file.read()\n",
        "\n",
        "results = calculate_scores(text_content)\n",
        "\n",
        "# Print the results\n",
        "for key, value in results.items():\n",
        "    print(f\"{key}: {value}\")\n",
        "update_scores_excel(results)"
      ],
      "metadata": {
        "colab": {
          "base_uri": "https://localhost:8080/"
        },
        "id": "q3wkPPkVzpw3",
        "outputId": "5b71373f-ba2d-467b-d559-003892ce4ce7"
      },
      "execution_count": null,
      "outputs": [
        {
          "output_type": "stream",
          "name": "stdout",
          "text": [
            "Positive Score: 11\n",
            "Negative Score: 0\n",
            "Polarity Score: 0.9999999090909174\n",
            "Subjectivity Score: 0.01654135335858443\n",
            "Average Sentence Length: 10.075757575757576\n",
            "Percentage of Complex Words: 0.0\n",
            "Fog Index: 4.03030303030303\n",
            "Average Number of Words Per Sentence: 10.075757575757576\n",
            "Complex Word Count: 0\n",
            "Word Count: 665\n",
            "Syllables per Word: 1412\n",
            "Personal Pronoun Count: 1\n",
            "Average Word Length: 6.494736842105263\n"
          ]
        }
      ]
    },
    {
      "cell_type": "code",
      "source": [
        "\n",
        "url = 'https://insights.blackcoffer.com/can-you-be-great-leader-without-technical-expertise/'\n",
        "url_id = 'blackassign0068'\n",
        "extract_and_save_article_3(url, url_id)"
      ],
      "metadata": {
        "colab": {
          "base_uri": "https://localhost:8080/"
        },
        "id": "DW6IUUZ7z2RF",
        "outputId": "72f4cdca-2995-4bb5-fb9a-f18787937d0b"
      },
      "execution_count": null,
      "outputs": [
        {
          "output_type": "stream",
          "name": "stdout",
          "text": [
            "Article saved successfully to blackassign0068.txt\n"
          ]
        }
      ]
    },
    {
      "cell_type": "code",
      "source": [
        "file_path = '/content/blackassign0068.txt'\n",
        "with open(file_path, 'r', encoding='utf-8') as file:\n",
        "    text_content = file.read()\n",
        "\n",
        "results = calculate_scores(text_content)\n",
        "\n",
        "# Print the results\n",
        "for key, value in results.items():\n",
        "    print(f\"{key}: {value}\")\n",
        "update_scores_excel(results)"
      ],
      "metadata": {
        "colab": {
          "base_uri": "https://localhost:8080/"
        },
        "id": "BxZR453e0bZX",
        "outputId": "8d7b028e-e376-4b3f-cce0-045cf19e98c3"
      },
      "execution_count": null,
      "outputs": [
        {
          "output_type": "stream",
          "name": "stdout",
          "text": [
            "Positive Score: 6\n",
            "Negative Score: 0\n",
            "Polarity Score: 0.9999998333333611\n",
            "Subjectivity Score: 0.025210083927688722\n",
            "Average Sentence Length: 14.875\n",
            "Percentage of Complex Words: 0.0\n",
            "Fog Index: 5.95\n",
            "Average Number of Words Per Sentence: 14.875\n",
            "Complex Word Count: 0\n",
            "Word Count: 238\n",
            "Syllables per Word: 528\n",
            "Personal Pronoun Count: 1\n",
            "Average Word Length: 6.5588235294117645\n"
          ]
        }
      ]
    },
    {
      "cell_type": "code",
      "source": [
        "\n",
        "\n",
        "url = 'https://insights.blackcoffer.com/how-does-artificial-intelligence-affect-the-environment/'\n",
        "url_id = 'blackassign0069'\n",
        "extract_and_save_article_3(url, url_id)"
      ],
      "metadata": {
        "colab": {
          "base_uri": "https://localhost:8080/"
        },
        "id": "CEyzxXIj0jjQ",
        "outputId": "f8a6e699-58a1-4932-c8b8-54be9c4cf165"
      },
      "execution_count": null,
      "outputs": [
        {
          "output_type": "stream",
          "name": "stdout",
          "text": [
            "Article saved successfully to blackassign0069.txt\n"
          ]
        }
      ]
    },
    {
      "cell_type": "code",
      "source": [
        "file_path = '/content/blackassign0069.txt'\n",
        "with open(file_path, 'r', encoding='utf-8') as file:\n",
        "    text_content = file.read()\n",
        "\n",
        "results = calculate_scores(text_content)\n",
        "\n",
        "# Print the results\n",
        "for key, value in results.items():\n",
        "    print(f\"{key}: {value}\")\n",
        "update_scores_excel(results)"
      ],
      "metadata": {
        "colab": {
          "base_uri": "https://localhost:8080/"
        },
        "id": "GMIAE51y07yG",
        "outputId": "1714710e-0afe-4d1e-8009-8c4e975c622a"
      },
      "execution_count": null,
      "outputs": [
        {
          "output_type": "stream",
          "name": "stdout",
          "text": [
            "Positive Score: 3\n",
            "Negative Score: 1\n",
            "Polarity Score: 0.49999987500003124\n",
            "Subjectivity Score: 0.004419889497878575\n",
            "Average Sentence Length: 12.928571428571429\n",
            "Percentage of Complex Words: 0.0\n",
            "Fog Index: 5.171428571428572\n",
            "Average Number of Words Per Sentence: 12.928571428571429\n",
            "Complex Word Count: 0\n",
            "Word Count: 905\n",
            "Syllables per Word: 2090\n",
            "Personal Pronoun Count: 2\n",
            "Average Word Length: 6.69060773480663\n"
          ]
        }
      ]
    },
    {
      "cell_type": "code",
      "source": [
        "\n",
        "url = 'https://insights.blackcoffer.com/how-to-overcome-your-fear-of-making-mistakes-2/'\n",
        "url_id = 'blackassign0070'\n",
        "extract_and_save_article_3(url, url_id)"
      ],
      "metadata": {
        "colab": {
          "base_uri": "https://localhost:8080/"
        },
        "id": "4VlWO5ZB1BOv",
        "outputId": "fb42d913-55bc-4be3-ae2a-25ea9469fdff"
      },
      "execution_count": null,
      "outputs": [
        {
          "output_type": "stream",
          "name": "stdout",
          "text": [
            "Article saved successfully to blackassign0070.txt\n"
          ]
        }
      ]
    },
    {
      "cell_type": "code",
      "source": [
        "file_path = '/content/blackassign0070.txt'\n",
        "with open(file_path, 'r', encoding='utf-8') as file:\n",
        "    text_content = file.read()\n",
        "\n",
        "results = calculate_scores(text_content)\n",
        "\n",
        "# Print the results\n",
        "for key, value in results.items():\n",
        "    print(f\"{key}: {value}\")\n",
        "update_scores_excel(results)"
      ],
      "metadata": {
        "colab": {
          "base_uri": "https://localhost:8080/"
        },
        "id": "mNPUdwd51eyA",
        "outputId": "f9f13838-021e-4620-90e0-3ba0bb9076b3"
      },
      "execution_count": null,
      "outputs": [
        {
          "output_type": "stream",
          "name": "stdout",
          "text": [
            "Positive Score: 1\n",
            "Negative Score: 3\n",
            "Polarity Score: -0.49999987500003124\n",
            "Subjectivity Score: 0.008130081284288453\n",
            "Average Sentence Length: 6.3896103896103895\n",
            "Percentage of Complex Words: 0.0\n",
            "Fog Index: 2.555844155844156\n",
            "Average Number of Words Per Sentence: 6.3896103896103895\n",
            "Complex Word Count: 0\n",
            "Word Count: 492\n",
            "Syllables per Word: 1051\n",
            "Personal Pronoun Count: 1\n",
            "Average Word Length: 6.408536585365853\n"
          ]
        }
      ]
    },
    {
      "cell_type": "code",
      "source": [
        "\n",
        "url = 'https://insights.blackcoffer.com/is-perfection-the-greatest-enemy-of-productivity/'\n",
        "url_id = 'blackassign0071'\n",
        "extract_and_save_article_3(url, url_id)"
      ],
      "metadata": {
        "colab": {
          "base_uri": "https://localhost:8080/"
        },
        "id": "DVI4Mh-K1oHI",
        "outputId": "0f795022-5290-4a83-9da4-768306626e76"
      },
      "execution_count": null,
      "outputs": [
        {
          "output_type": "stream",
          "name": "stdout",
          "text": [
            "Article saved successfully to blackassign0071.txt\n"
          ]
        }
      ]
    },
    {
      "cell_type": "code",
      "source": [
        "file_path = '/content/blackassign0071.txt'\n",
        "with open(file_path, 'r', encoding='utf-8') as file:\n",
        "    text_content = file.read()\n",
        "\n",
        "results = calculate_scores(text_content)\n",
        "\n",
        "# Print the results\n",
        "for key, value in results.items():\n",
        "    print(f\"{key}: {value}\")\n",
        "update_scores_excel(results)"
      ],
      "metadata": {
        "colab": {
          "base_uri": "https://localhost:8080/"
        },
        "id": "7WVs_i7z5eEg",
        "outputId": "2183b790-a0b9-4ae5-f2a6-028aee0583a8"
      },
      "execution_count": null,
      "outputs": [
        {
          "output_type": "stream",
          "name": "stdout",
          "text": [
            "Positive Score: 4\n",
            "Negative Score: 1\n",
            "Polarity Score: 0.599999880000024\n",
            "Subjectivity Score: 0.008278145681658699\n",
            "Average Sentence Length: 7.45679012345679\n",
            "Percentage of Complex Words: 0.0\n",
            "Fog Index: 2.9827160493827165\n",
            "Average Number of Words Per Sentence: 7.45679012345679\n",
            "Complex Word Count: 0\n",
            "Word Count: 604\n",
            "Syllables per Word: 1215\n",
            "Personal Pronoun Count: 2\n",
            "Average Word Length: 6.225165562913907\n"
          ]
        }
      ]
    },
    {
      "cell_type": "code",
      "source": [
        "\n",
        "url = 'https://insights.blackcoffer.com/global-financial-crisis-2008-causes-effects-and-its-solution/'\n",
        "url_id = 'blackassign0072'\n",
        "extract_and_save_article_3(url, url_id)"
      ],
      "metadata": {
        "colab": {
          "base_uri": "https://localhost:8080/"
        },
        "id": "vGo_BWqQ5iY4",
        "outputId": "ee37eae8-3715-4660-f2b6-631cf30f2b18"
      },
      "execution_count": null,
      "outputs": [
        {
          "output_type": "stream",
          "name": "stdout",
          "text": [
            "Article saved successfully to blackassign0072.txt\n"
          ]
        }
      ]
    },
    {
      "cell_type": "code",
      "source": [
        "file_path = '/content/blackassign0072.txt'\n",
        "with open(file_path, 'r', encoding='utf-8') as file:\n",
        "    text_content = file.read()\n",
        "\n",
        "results = calculate_scores(text_content)\n",
        "\n",
        "# Print the results\n",
        "for key, value in results.items():\n",
        "    print(f\"{key}: {value}\")\n",
        "update_scores_excel(results)"
      ],
      "metadata": {
        "colab": {
          "base_uri": "https://localhost:8080/"
        },
        "id": "_KPQV_ts--Ns",
        "outputId": "f3af8d16-a757-4aaa-f7ef-d74cf9e1eebd"
      },
      "execution_count": null,
      "outputs": [
        {
          "output_type": "stream",
          "name": "stdout",
          "text": [
            "Positive Score: 5\n",
            "Negative Score: 1\n",
            "Polarity Score: 0.6666665555555741\n",
            "Subjectivity Score: 0.008645533128752833\n",
            "Average Sentence Length: 15.08695652173913\n",
            "Percentage of Complex Words: 0.0\n",
            "Fog Index: 6.034782608695653\n",
            "Average Number of Words Per Sentence: 15.08695652173913\n",
            "Complex Word Count: 0\n",
            "Word Count: 694\n",
            "Syllables per Word: 1379\n",
            "Personal Pronoun Count: 4\n",
            "Average Word Length: 6.13400576368876\n"
          ]
        }
      ]
    },
    {
      "cell_type": "code",
      "source": [
        "\n",
        "url = 'https://insights.blackcoffer.com/gender-diversity-and-equality-in-the-tech-industry/'\n",
        "url_id = 'blackassign0073'\n",
        "extract_and_save_article_3(url, url_id)"
      ],
      "metadata": {
        "id": "OhI75MdT_I0F",
        "colab": {
          "base_uri": "https://localhost:8080/"
        },
        "outputId": "13de22ef-5f80-409c-8e83-18dac1126805"
      },
      "execution_count": null,
      "outputs": [
        {
          "output_type": "stream",
          "name": "stdout",
          "text": [
            "Article saved successfully to blackassign0073.txt\n"
          ]
        }
      ]
    },
    {
      "cell_type": "code",
      "source": [
        "file_path = '/content/blackassign0073.txt'\n",
        "with open(file_path, 'r', encoding='utf-8') as file:\n",
        "    text_content = file.read()\n",
        "\n",
        "results = calculate_scores(text_content)\n",
        "\n",
        "# Print the results\n",
        "for key, value in results.items():\n",
        "    print(f\"{key}: {value}\")\n",
        "update_scores_excel(results)"
      ],
      "metadata": {
        "colab": {
          "base_uri": "https://localhost:8080/"
        },
        "id": "dRYo-qBuBgsJ",
        "outputId": "44c19528-d093-429d-8d35-ca6e407df585"
      },
      "execution_count": null,
      "outputs": [
        {
          "output_type": "stream",
          "name": "stdout",
          "text": [
            "Positive Score: 1\n",
            "Negative Score: 0\n",
            "Polarity Score: 0.9999990000010001\n",
            "Subjectivity Score: 0.0012135922315369026\n",
            "Average Sentence Length: 10.048780487804878\n",
            "Percentage of Complex Words: 0.0\n",
            "Fog Index: 4.019512195121951\n",
            "Average Number of Words Per Sentence: 10.048780487804878\n",
            "Complex Word Count: 0\n",
            "Word Count: 824\n",
            "Syllables per Word: 1853\n",
            "Personal Pronoun Count: 1\n",
            "Average Word Length: 6.725728155339806\n"
          ]
        }
      ]
    },
    {
      "cell_type": "code",
      "source": [
        "\n",
        "\n",
        "url = 'https://insights.blackcoffer.com/how-to-overcome-your-fear-of-making-mistakes/'\n",
        "url_id = 'blackassign0074'\n",
        "extract_and_save_article_3(url, url_id)"
      ],
      "metadata": {
        "colab": {
          "base_uri": "https://localhost:8080/"
        },
        "id": "RhK99EfKBm2Y",
        "outputId": "48f815bd-b4be-4b0f-978a-2e8400982ec2"
      },
      "execution_count": null,
      "outputs": [
        {
          "output_type": "stream",
          "name": "stdout",
          "text": [
            "Article saved successfully to blackassign0074.txt\n"
          ]
        }
      ]
    },
    {
      "cell_type": "code",
      "source": [
        "file_path = '/content/blackassign0074.txt'\n",
        "with open(file_path, 'r', encoding='utf-8') as file:\n",
        "    text_content = file.read()\n",
        "\n",
        "results = calculate_scores(text_content)\n",
        "\n",
        "# Print the results\n",
        "for key, value in results.items():\n",
        "    print(f\"{key}: {value}\")\n",
        "update_scores_excel(results)"
      ],
      "metadata": {
        "colab": {
          "base_uri": "https://localhost:8080/"
        },
        "id": "DY0zgwfFCLjZ",
        "outputId": "b0247c54-a6b0-47fa-eb05-45212e29f238"
      },
      "execution_count": null,
      "outputs": [
        {
          "output_type": "stream",
          "name": "stdout",
          "text": [
            "Positive Score: 1\n",
            "Negative Score: 3\n",
            "Polarity Score: -0.49999987500003124\n",
            "Subjectivity Score: 0.0077071290795623715\n",
            "Average Sentence Length: 6.4875\n",
            "Percentage of Complex Words: 0.0\n",
            "Fog Index: 2.595\n",
            "Average Number of Words Per Sentence: 6.4875\n",
            "Complex Word Count: 0\n",
            "Word Count: 519\n",
            "Syllables per Word: 1117\n",
            "Personal Pronoun Count: 2\n",
            "Average Word Length: 6.447013487475915\n"
          ]
        }
      ]
    },
    {
      "cell_type": "code",
      "source": [
        "\n",
        "\n",
        "\n",
        "url = 'https://insights.blackcoffer.com/how-small-business-can-survive-the-coronavirus-crisis/'\n",
        "url_id = 'blackassign0075'\n",
        "extract_and_save_article_3(url, url_id)\n"
      ],
      "metadata": {
        "colab": {
          "base_uri": "https://localhost:8080/"
        },
        "id": "vbX-ptqjCZ7A",
        "outputId": "11718e3d-88a1-4ec4-d24d-cd54eb466ec5"
      },
      "execution_count": null,
      "outputs": [
        {
          "output_type": "stream",
          "name": "stdout",
          "text": [
            "Article saved successfully to blackassign0075.txt\n"
          ]
        }
      ]
    },
    {
      "cell_type": "code",
      "source": [
        "file_path = '/content/blackassign0075.txt'\n",
        "with open(file_path, 'r', encoding='utf-8') as file:\n",
        "    text_content = file.read()\n",
        "\n",
        "results = calculate_scores(text_content)\n",
        "\n",
        "# Print the results\n",
        "for key, value in results.items():\n",
        "    print(f\"{key}: {value}\")\n",
        "update_scores_excel(results)"
      ],
      "metadata": {
        "colab": {
          "base_uri": "https://localhost:8080/"
        },
        "id": "cWREkRzxDG0q",
        "outputId": "60263cf2-f07c-41fe-f434-2d89e6d7a856"
      },
      "execution_count": null,
      "outputs": [
        {
          "output_type": "stream",
          "name": "stdout",
          "text": [
            "Positive Score: 3\n",
            "Negative Score: 6\n",
            "Polarity Score: -0.33333329629630043\n",
            "Subjectivity Score: 0.011194029836823346\n",
            "Average Sentence Length: 14.88888888888889\n",
            "Percentage of Complex Words: 0.0\n",
            "Fog Index: 5.955555555555556\n",
            "Average Number of Words Per Sentence: 14.88888888888889\n",
            "Complex Word Count: 0\n",
            "Word Count: 804\n",
            "Syllables per Word: 1756\n",
            "Personal Pronoun Count: 0\n",
            "Average Word Length: 6.45273631840796\n"
          ]
        }
      ]
    },
    {
      "cell_type": "code",
      "source": [
        "\n",
        "url = 'https://insights.blackcoffer.com/impacts-of-covid-19-on-vegetable-vendors-and-food-stalls/'\n",
        "url_id = 'blackassign0076'\n",
        "extract_and_save_article_3(url, url_id)"
      ],
      "metadata": {
        "colab": {
          "base_uri": "https://localhost:8080/"
        },
        "id": "dBtRRuhGDKz4",
        "outputId": "f55c21c9-30fd-41b9-c154-59ac90bdd8e2"
      },
      "execution_count": null,
      "outputs": [
        {
          "output_type": "stream",
          "name": "stdout",
          "text": [
            "Article saved successfully to blackassign0076.txt\n"
          ]
        }
      ]
    },
    {
      "cell_type": "code",
      "source": [
        "file_path = '/content/blackassign0076.txt'\n",
        "with open(file_path, 'r', encoding='utf-8') as file:\n",
        "    text_content = file.read()\n",
        "\n",
        "results = calculate_scores(text_content)\n",
        "\n",
        "# Print the results\n",
        "for key, value in results.items():\n",
        "    print(f\"{key}: {value}\")\n",
        "update_scores_excel(results)"
      ],
      "metadata": {
        "colab": {
          "base_uri": "https://localhost:8080/"
        },
        "id": "vl55rmUkDt3Y",
        "outputId": "5b1b7d48-50c4-4c12-877b-1d2fa0f4f038"
      },
      "execution_count": null,
      "outputs": [
        {
          "output_type": "stream",
          "name": "stdout",
          "text": [
            "Positive Score: 0\n",
            "Negative Score: 0\n",
            "Polarity Score: 0.0\n",
            "Subjectivity Score: 0.0\n",
            "Average Sentence Length: 18.26086956521739\n",
            "Percentage of Complex Words: 0.0\n",
            "Fog Index: 7.304347826086957\n",
            "Average Number of Words Per Sentence: 18.26086956521739\n",
            "Complex Word Count: 0\n",
            "Word Count: 420\n",
            "Syllables per Word: 926\n",
            "Personal Pronoun Count: 0\n",
            "Average Word Length: 6.75\n"
          ]
        }
      ]
    },
    {
      "cell_type": "code",
      "source": [
        "\n",
        "url = 'https://insights.blackcoffer.com/impacts-of-covid-19-on-vegetable-vendors/'\n",
        "url_id = 'blackassign0077'\n",
        "extract_and_save_article_3(url, url_id)"
      ],
      "metadata": {
        "colab": {
          "base_uri": "https://localhost:8080/"
        },
        "id": "wVMG2O3RD3bn",
        "outputId": "9da45877-6e3b-4520-8f58-7426e48ef566"
      },
      "execution_count": null,
      "outputs": [
        {
          "output_type": "stream",
          "name": "stdout",
          "text": [
            "Article saved successfully to blackassign0077.txt\n"
          ]
        }
      ]
    },
    {
      "cell_type": "code",
      "source": [
        "file_path = '/content/blackassign0077.txt'\n",
        "with open(file_path, 'r', encoding='utf-8') as file:\n",
        "    text_content = file.read()\n",
        "\n",
        "results = calculate_scores(text_content)\n",
        "\n",
        "# Print the results\n",
        "for key, value in results.items():\n",
        "    print(f\"{key}: {value}\")\n",
        "update_scores_excel(results)"
      ],
      "metadata": {
        "colab": {
          "base_uri": "https://localhost:8080/"
        },
        "id": "7Q8XqbzeEVGY",
        "outputId": "969c5f52-c9f1-437c-fc7c-a338833eaacf"
      },
      "execution_count": null,
      "outputs": [
        {
          "output_type": "stream",
          "name": "stdout",
          "text": [
            "Positive Score: 1\n",
            "Negative Score: 2\n",
            "Polarity Score: -0.33333322222225925\n",
            "Subjectivity Score: 0.004418262143713899\n",
            "Average Sentence Length: 18.35135135135135\n",
            "Percentage of Complex Words: 0.0\n",
            "Fog Index: 7.340540540540541\n",
            "Average Number of Words Per Sentence: 18.35135135135135\n",
            "Complex Word Count: 0\n",
            "Word Count: 679\n",
            "Syllables per Word: 1575\n",
            "Personal Pronoun Count: 0\n",
            "Average Word Length: 7.002945508100147\n"
          ]
        }
      ]
    },
    {
      "cell_type": "code",
      "source": [
        "\n",
        "url = 'https://insights.blackcoffer.com/impact-of-covid-19-pandemic-on-tourism-aviation-industries/'\n",
        "url_id = 'blackassign0078'\n",
        "extract_and_save_article_3(url, url_id)"
      ],
      "metadata": {
        "colab": {
          "base_uri": "https://localhost:8080/"
        },
        "id": "hJLecGxQEgJB",
        "outputId": "0e240a58-6636-4bfb-86f1-ffe81c6d821c"
      },
      "execution_count": null,
      "outputs": [
        {
          "output_type": "stream",
          "name": "stdout",
          "text": [
            "Article saved successfully to blackassign0078.txt\n"
          ]
        }
      ]
    },
    {
      "cell_type": "code",
      "source": [
        "file_path = '/content/blackassign0078.txt'\n",
        "with open(file_path, 'r', encoding='utf-8') as file:\n",
        "    text_content = file.read()\n",
        "\n",
        "results = calculate_scores(text_content)\n",
        "\n",
        "# Print the results\n",
        "for key, value in results.items():\n",
        "    print(f\"{key}: {value}\")\n",
        "update_scores_excel(results)"
      ],
      "metadata": {
        "colab": {
          "base_uri": "https://localhost:8080/"
        },
        "id": "wZVTR8iKE7H5",
        "outputId": "c872131f-4fbf-4a16-cf06-3fc2d8fa29c9"
      },
      "execution_count": null,
      "outputs": [
        {
          "output_type": "stream",
          "name": "stdout",
          "text": [
            "Positive Score: 0\n",
            "Negative Score: 1\n",
            "Polarity Score: -0.9999990000010001\n",
            "Subjectivity Score: 0.0010799136057452338\n",
            "Average Sentence Length: 12.684931506849315\n",
            "Percentage of Complex Words: 0.0\n",
            "Fog Index: 5.073972602739726\n",
            "Average Number of Words Per Sentence: 12.684931506849315\n",
            "Complex Word Count: 0\n",
            "Word Count: 926\n",
            "Syllables per Word: 2035\n",
            "Personal Pronoun Count: 4\n",
            "Average Word Length: 6.638228941684665\n"
          ]
        }
      ]
    },
    {
      "cell_type": "code",
      "source": [
        "\n",
        "url = 'https://insights.blackcoffer.com/impact-of-covid-19-pandemic-on-sports-events-around-the-world/'\n",
        "url_id = 'blackassign0079'\n",
        "extract_and_save_article_3(url, url_id)"
      ],
      "metadata": {
        "colab": {
          "base_uri": "https://localhost:8080/"
        },
        "id": "EPMC0ZqVF3Of",
        "outputId": "9305bcda-22bd-4a7a-84b8-f9bdc2800245"
      },
      "execution_count": null,
      "outputs": [
        {
          "output_type": "stream",
          "name": "stdout",
          "text": [
            "Article saved successfully to blackassign0079.txt\n"
          ]
        }
      ]
    },
    {
      "cell_type": "code",
      "source": [
        "file_path = '/content/blackassign0079.txt'\n",
        "with open(file_path, 'r', encoding='utf-8') as file:\n",
        "    text_content = file.read()\n",
        "\n",
        "results = calculate_scores(text_content)\n",
        "\n",
        "# Print the results\n",
        "for key, value in results.items():\n",
        "    print(f\"{key}: {value}\")\n",
        "update_scores_excel(results)"
      ],
      "metadata": {
        "colab": {
          "base_uri": "https://localhost:8080/"
        },
        "id": "8N3GbotfHCEA",
        "outputId": "b3bcab3a-04de-49a0-818c-d9482adaf3e2"
      },
      "execution_count": null,
      "outputs": [
        {
          "output_type": "stream",
          "name": "stdout",
          "text": [
            "Positive Score: 2\n",
            "Negative Score: 0\n",
            "Polarity Score: 0.99999950000025\n",
            "Subjectivity Score: 0.0009675858727781394\n",
            "Average Sentence Length: 10.545918367346939\n",
            "Percentage of Complex Words: 0.0\n",
            "Fog Index: 4.218367346938776\n",
            "Average Number of Words Per Sentence: 10.545918367346939\n",
            "Complex Word Count: 0\n",
            "Word Count: 2067\n",
            "Syllables per Word: 3995\n",
            "Personal Pronoun Count: 2\n",
            "Average Word Length: 6.082728592162554\n"
          ]
        }
      ]
    },
    {
      "cell_type": "code",
      "source": [
        "\n",
        "url = 'https://insights.blackcoffer.com/changing-landscape-and-emerging-trends-in-the-indian-it-ites-industry/'\n",
        "url_id = 'blackassign0080'\n",
        "extract_and_save_article_3(url, url_id)"
      ],
      "metadata": {
        "colab": {
          "base_uri": "https://localhost:8080/"
        },
        "id": "sS5m8qKeHJHf",
        "outputId": "8ccc893b-002c-4fdc-f1e6-69ab8f566174"
      },
      "execution_count": null,
      "outputs": [
        {
          "output_type": "stream",
          "name": "stdout",
          "text": [
            "Article saved successfully to blackassign0080.txt\n"
          ]
        }
      ]
    },
    {
      "cell_type": "code",
      "source": [
        "file_path = '/content/blackassign0080.txt'\n",
        "with open(file_path, 'r', encoding='utf-8') as file:\n",
        "    text_content = file.read()\n",
        "\n",
        "results = calculate_scores(text_content)\n",
        "\n",
        "# Print the results\n",
        "for key, value in results.items():\n",
        "    print(f\"{key}: {value}\")\n",
        "update_scores_excel(results)"
      ],
      "metadata": {
        "colab": {
          "base_uri": "https://localhost:8080/"
        },
        "id": "jqqivb-GJPEQ",
        "outputId": "1fe2b492-a62b-4899-bf37-7ec19a7c6579"
      },
      "execution_count": null,
      "outputs": [
        {
          "output_type": "stream",
          "name": "stdout",
          "text": [
            "Positive Score: 0\n",
            "Negative Score: 0\n",
            "Polarity Score: 0.0\n",
            "Subjectivity Score: 0.0\n",
            "Average Sentence Length: 11.130952380952381\n",
            "Percentage of Complex Words: 0.0\n",
            "Fog Index: 4.4523809523809526\n",
            "Average Number of Words Per Sentence: 11.130952380952381\n",
            "Complex Word Count: 0\n",
            "Word Count: 935\n",
            "Syllables per Word: 2122\n",
            "Personal Pronoun Count: 4\n",
            "Average Word Length: 6.7679144385026735\n"
          ]
        }
      ]
    },
    {
      "cell_type": "code",
      "source": [
        "\n",
        "url = 'https://insights.blackcoffer.com/online-gaming-adolescent-online-gaming-effects-demotivated-depression-musculoskeletal-and-psychosomatic-symptoms/'\n",
        "url_id = 'blackassign0081'\n",
        "extract_and_save_article_3(url, url_id)"
      ],
      "metadata": {
        "colab": {
          "base_uri": "https://localhost:8080/"
        },
        "id": "8r6OYrsdJYKm",
        "outputId": "2b44f9cf-e89c-4543-fe29-29823953769e"
      },
      "execution_count": null,
      "outputs": [
        {
          "output_type": "stream",
          "name": "stdout",
          "text": [
            "Article saved successfully to blackassign0081.txt\n"
          ]
        }
      ]
    },
    {
      "cell_type": "code",
      "source": [
        "file_path = '/content/blackassign0081.txt'\n",
        "with open(file_path, 'r', encoding='utf-8') as file:\n",
        "    text_content = file.read()\n",
        "\n",
        "results = calculate_scores(text_content)\n",
        "\n",
        "# Print the results\n",
        "for key, value in results.items():\n",
        "    print(f\"{key}: {value}\")\n",
        "update_scores_excel(results)"
      ],
      "metadata": {
        "colab": {
          "base_uri": "https://localhost:8080/"
        },
        "id": "s9BCzng-J5KH",
        "outputId": "5cffcdc9-8704-41d9-b50e-6f8e4f54c334"
      },
      "execution_count": null,
      "outputs": [
        {
          "output_type": "stream",
          "name": "stdout",
          "text": [
            "Positive Score: 0\n",
            "Negative Score: 2\n",
            "Polarity Score: -0.99999950000025\n",
            "Subjectivity Score: 0.0021505376320961962\n",
            "Average Sentence Length: 15.245901639344263\n",
            "Percentage of Complex Words: 0.0\n",
            "Fog Index: 6.0983606557377055\n",
            "Average Number of Words Per Sentence: 15.245901639344263\n",
            "Complex Word Count: 0\n",
            "Word Count: 930\n",
            "Syllables per Word: 2234\n",
            "Personal Pronoun Count: 0\n",
            "Average Word Length: 7.09247311827957\n"
          ]
        }
      ]
    },
    {
      "cell_type": "code",
      "source": [
        "\n",
        "url = 'https://insights.blackcoffer.com/human-rights-outlook/'\n",
        "url_id = 'blackassign0082'\n",
        "extract_and_save_article_4(url, url_id)"
      ],
      "metadata": {
        "colab": {
          "base_uri": "https://localhost:8080/"
        },
        "id": "iuBqVnLDKjN3",
        "outputId": "7a0b8e12-fc89-4b4e-94d6-19facd7cf5c2"
      },
      "execution_count": null,
      "outputs": [
        {
          "output_type": "stream",
          "name": "stdout",
          "text": [
            "Article saved successfully to blackassign0082.txt\n"
          ]
        }
      ]
    },
    {
      "cell_type": "code",
      "source": [
        "file_path = '/content/blackassign0082.txt'\n",
        "with open(file_path, 'r', encoding='utf-8') as file:\n",
        "    text_content = file.read()\n",
        "\n",
        "results = calculate_scores(text_content)\n",
        "\n",
        "# Print the results\n",
        "for key, value in results.items():\n",
        "    print(f\"{key}: {value}\")\n",
        "update_scores_excel(results)"
      ],
      "metadata": {
        "colab": {
          "base_uri": "https://localhost:8080/"
        },
        "id": "JxUfmcpUK0Ef",
        "outputId": "b3dfcf79-b6e0-4861-9220-f0550b1c74d3"
      },
      "execution_count": null,
      "outputs": [
        {
          "output_type": "stream",
          "name": "stdout",
          "text": [
            "Positive Score: 0\n",
            "Negative Score: 0\n",
            "Polarity Score: 0.0\n",
            "Subjectivity Score: 0.0\n",
            "Average Sentence Length: 10.0\n",
            "Percentage of Complex Words: 0.0\n",
            "Fog Index: 4.0\n",
            "Average Number of Words Per Sentence: 10.0\n",
            "Complex Word Count: 0\n",
            "Word Count: 90\n",
            "Syllables per Word: 188\n",
            "Personal Pronoun Count: 1\n",
            "Average Word Length: 6.2444444444444445\n"
          ]
        }
      ]
    },
    {
      "cell_type": "code",
      "source": [
        "\n",
        "url = 'https://insights.blackcoffer.com/how-voice-search-makes-your-business-a-successful-business/'\n",
        "url_id = 'blackassign0083'\n",
        "extract_and_save_article_4(url, url_id)"
      ],
      "metadata": {
        "colab": {
          "base_uri": "https://localhost:8080/"
        },
        "id": "Bn7oRwsbK5_h",
        "outputId": "65c252fd-2e32-4b73-ddee-9f02d1d5301e"
      },
      "execution_count": null,
      "outputs": [
        {
          "output_type": "stream",
          "name": "stdout",
          "text": [
            "Article saved successfully to blackassign0083.txt\n"
          ]
        }
      ]
    },
    {
      "cell_type": "code",
      "source": [
        "file_path = '/content/blackassign0083.txt'\n",
        "with open(file_path, 'r', encoding='utf-8') as file:\n",
        "    text_content = file.read()\n",
        "\n",
        "results = calculate_scores(text_content)\n",
        "\n",
        "# Print the results\n",
        "for key, value in results.items():\n",
        "    print(f\"{key}: {value}\")\n",
        "update_scores_excel(results)"
      ],
      "metadata": {
        "colab": {
          "base_uri": "https://localhost:8080/"
        },
        "id": "6z8ylo_mLbWJ",
        "outputId": "21e88a53-5dfd-46dd-e0cd-235ce55ee84b"
      },
      "execution_count": null,
      "outputs": [
        {
          "output_type": "stream",
          "name": "stdout",
          "text": [
            "Positive Score: 2\n",
            "Negative Score: 0\n",
            "Polarity Score: 0.99999950000025\n",
            "Subjectivity Score: 0.0036563071231146124\n",
            "Average Sentence Length: 12.155555555555555\n",
            "Percentage of Complex Words: 0.0\n",
            "Fog Index: 4.862222222222222\n",
            "Average Number of Words Per Sentence: 12.155555555555555\n",
            "Complex Word Count: 0\n",
            "Word Count: 547\n",
            "Syllables per Word: 1080\n",
            "Personal Pronoun Count: 0\n",
            "Average Word Length: 6.162705667276051\n"
          ]
        }
      ]
    },
    {
      "cell_type": "code",
      "source": [
        "\n",
        "url = 'https://insights.blackcoffer.com/how-the-covid-19-crisis-is-redefining-jobs-and-services/'\n",
        "url_id = 'blackassign0084'\n",
        "extract_and_save_article_3(url, url_id)"
      ],
      "metadata": {
        "colab": {
          "base_uri": "https://localhost:8080/"
        },
        "id": "Ba7gDBB4Lgh2",
        "outputId": "cc4a05fd-54f7-4006-e33a-6ca4d7e035e6"
      },
      "execution_count": null,
      "outputs": [
        {
          "output_type": "stream",
          "name": "stdout",
          "text": [
            "Article saved successfully to blackassign0084.txt\n"
          ]
        }
      ]
    },
    {
      "cell_type": "code",
      "source": [
        "file_path = '/content/blackassign0084.txt'\n",
        "with open(file_path, 'r', encoding='utf-8') as file:\n",
        "    text_content = file.read()\n",
        "\n",
        "results = calculate_scores(text_content)\n",
        "\n",
        "# Print the results\n",
        "for key, value in results.items():\n",
        "    print(f\"{key}: {value}\")\n",
        "update_scores_excel(results)"
      ],
      "metadata": {
        "colab": {
          "base_uri": "https://localhost:8080/"
        },
        "id": "pXsKWsraMLs-",
        "outputId": "4bc1b550-3334-4719-c827-586d4aa3147c"
      },
      "execution_count": null,
      "outputs": [
        {
          "output_type": "stream",
          "name": "stdout",
          "text": [
            "Positive Score: 0\n",
            "Negative Score: 2\n",
            "Polarity Score: -0.99999950000025\n",
            "Subjectivity Score: 0.002190580501434194\n",
            "Average Sentence Length: 7.545454545454546\n",
            "Percentage of Complex Words: 0.0\n",
            "Fog Index: 3.0181818181818185\n",
            "Average Number of Words Per Sentence: 7.545454545454546\n",
            "Complex Word Count: 0\n",
            "Word Count: 913\n",
            "Syllables per Word: 2056\n",
            "Personal Pronoun Count: 1\n",
            "Average Word Length: 6.687842278203724\n"
          ]
        }
      ]
    },
    {
      "cell_type": "code",
      "source": [
        "\n",
        "url = 'https://insights.blackcoffer.com/how-to-increase-social-media-engagement-for-marketers/'\n",
        "url_id = 'blackassign0085'\n",
        "extract_and_save_article_3(url, url_id)"
      ],
      "metadata": {
        "colab": {
          "base_uri": "https://localhost:8080/"
        },
        "id": "js5wh6xqMS5e",
        "outputId": "5257c85f-56a0-4120-dbba-7df073899b0b"
      },
      "execution_count": null,
      "outputs": [
        {
          "output_type": "stream",
          "name": "stdout",
          "text": [
            "Article saved successfully to blackassign0085.txt\n"
          ]
        }
      ]
    },
    {
      "cell_type": "code",
      "source": [
        "file_path = '/content/blackassign0085.txt'\n",
        "with open(file_path, 'r', encoding='utf-8') as file:\n",
        "    text_content = file.read()\n",
        "\n",
        "results = calculate_scores(text_content)\n",
        "\n",
        "# Print the results\n",
        "for key, value in results.items():\n",
        "    print(f\"{key}: {value}\")\n",
        "update_scores_excel(results)"
      ],
      "metadata": {
        "colab": {
          "base_uri": "https://localhost:8080/"
        },
        "id": "fQD24xAzM5zN",
        "outputId": "f5c180e0-489c-435c-c381-1e574d94c4dd"
      },
      "execution_count": null,
      "outputs": [
        {
          "output_type": "stream",
          "name": "stdout",
          "text": [
            "Positive Score: 4\n",
            "Negative Score: 1\n",
            "Polarity Score: 0.599999880000024\n",
            "Subjectivity Score: 0.005081300807844207\n",
            "Average Sentence Length: 10.357894736842105\n",
            "Percentage of Complex Words: 0.0\n",
            "Fog Index: 4.143157894736842\n",
            "Average Number of Words Per Sentence: 10.357894736842105\n",
            "Complex Word Count: 0\n",
            "Word Count: 984\n",
            "Syllables per Word: 2144\n",
            "Personal Pronoun Count: 0\n",
            "Average Word Length: 6.626016260162602\n"
          ]
        }
      ]
    },
    {
      "cell_type": "code",
      "source": [
        "\n",
        "\n",
        "url = 'https://insights.blackcoffer.com/impacts-of-covid-19-on-streets-sides-food-stalls/'\n",
        "url_id = 'blackassign0086'\n",
        "extract_and_save_article_3(url, url_id)"
      ],
      "metadata": {
        "colab": {
          "base_uri": "https://localhost:8080/"
        },
        "id": "QDl_xnNTM9zd",
        "outputId": "7e9eb427-344f-477c-c3f3-de336735a8ef"
      },
      "execution_count": null,
      "outputs": [
        {
          "output_type": "stream",
          "name": "stdout",
          "text": [
            "Article saved successfully to blackassign0086.txt\n"
          ]
        }
      ]
    },
    {
      "cell_type": "code",
      "source": [
        "file_path = '/content/blackassign0086.txt'\n",
        "with open(file_path, 'r', encoding='utf-8') as file:\n",
        "    text_content = file.read()\n",
        "\n",
        "results = calculate_scores(text_content)\n",
        "\n",
        "# Print the results\n",
        "for key, value in results.items():\n",
        "    print(f\"{key}: {value}\")\n",
        "update_scores_excel(results)"
      ],
      "metadata": {
        "colab": {
          "base_uri": "https://localhost:8080/"
        },
        "id": "SxygR0ZyNTFt",
        "outputId": "5d8c56ac-c0ee-41ff-f715-945bda003c66"
      },
      "execution_count": null,
      "outputs": [
        {
          "output_type": "stream",
          "name": "stdout",
          "text": [
            "Positive Score: 1\n",
            "Negative Score: 0\n",
            "Polarity Score: 0.9999990000010001\n",
            "Subjectivity Score: 0.0016313213676487416\n",
            "Average Sentence Length: 13.042553191489361\n",
            "Percentage of Complex Words: 0.0\n",
            "Fog Index: 5.217021276595744\n",
            "Average Number of Words Per Sentence: 13.042553191489361\n",
            "Complex Word Count: 0\n",
            "Word Count: 613\n",
            "Syllables per Word: 1308\n",
            "Personal Pronoun Count: 1\n",
            "Average Word Length: 6.473083197389886\n"
          ]
        }
      ]
    },
    {
      "cell_type": "code",
      "source": [
        "\n",
        "url = 'https://insights.blackcoffer.com/coronavirus-impact-on-energy-markets-2/'\n",
        "url_id = 'blackassign0087'\n",
        "extract_and_save_article_3(url, url_id)"
      ],
      "metadata": {
        "colab": {
          "base_uri": "https://localhost:8080/"
        },
        "id": "l6zghnHpNXjv",
        "outputId": "2c60f1f2-cfb9-4729-d51a-2f357d4a7157"
      },
      "execution_count": null,
      "outputs": [
        {
          "output_type": "stream",
          "name": "stdout",
          "text": [
            "Article saved successfully to blackassign0087.txt\n"
          ]
        }
      ]
    },
    {
      "cell_type": "code",
      "source": [
        "file_path = '/content/blackassign0087.txt'\n",
        "with open(file_path, 'r', encoding='utf-8') as file:\n",
        "    text_content = file.read()\n",
        "\n",
        "results = calculate_scores(text_content)\n",
        "\n",
        "# Print the results\n",
        "for key, value in results.items():\n",
        "    print(f\"{key}: {value}\")\n",
        "update_scores_excel(results)"
      ],
      "metadata": {
        "colab": {
          "base_uri": "https://localhost:8080/"
        },
        "id": "_hF3DE7eN2OO",
        "outputId": "d378f1c3-aa52-47bd-a3d4-c6a8b1dd9481"
      },
      "execution_count": null,
      "outputs": [
        {
          "output_type": "stream",
          "name": "stdout",
          "text": [
            "Positive Score: 0\n",
            "Negative Score: 0\n",
            "Polarity Score: 0.0\n",
            "Subjectivity Score: 0.0\n",
            "Average Sentence Length: 16.419354838709676\n",
            "Percentage of Complex Words: 0.0\n",
            "Fog Index: 6.567741935483871\n",
            "Average Number of Words Per Sentence: 16.419354838709676\n",
            "Complex Word Count: 0\n",
            "Word Count: 1018\n",
            "Syllables per Word: 2279\n",
            "Personal Pronoun Count: 0\n",
            "Average Word Length: 6.779960707269155\n"
          ]
        }
      ]
    },
    {
      "cell_type": "code",
      "source": [
        "\n",
        "url = 'https://insights.blackcoffer.com/coronavirus-impact-on-the-hospitality-industry-5/'\n",
        "url_id = 'blackassign0088'\n",
        "extract_and_save_article_3(url, url_id)"
      ],
      "metadata": {
        "colab": {
          "base_uri": "https://localhost:8080/"
        },
        "id": "YNbT3qQ-N6jP",
        "outputId": "e9c956ca-1b9d-4279-d6ec-00453d7dd84e"
      },
      "execution_count": null,
      "outputs": [
        {
          "output_type": "stream",
          "name": "stdout",
          "text": [
            "Article saved successfully to blackassign0088.txt\n"
          ]
        }
      ]
    },
    {
      "cell_type": "code",
      "source": [
        "file_path = '/content/blackassign0088.txt'\n",
        "with open(file_path, 'r', encoding='utf-8') as file:\n",
        "    text_content = file.read()\n",
        "\n",
        "results = calculate_scores(text_content)\n",
        "\n",
        "# Print the results\n",
        "for key, value in results.items():\n",
        "    print(f\"{key}: {value}\")\n",
        "update_scores_excel(results)"
      ],
      "metadata": {
        "colab": {
          "base_uri": "https://localhost:8080/"
        },
        "id": "F6bV76jqOT7e",
        "outputId": "2e092562-a6d7-47df-a229-37a8be516004"
      },
      "execution_count": null,
      "outputs": [
        {
          "output_type": "stream",
          "name": "stdout",
          "text": [
            "Positive Score: 0\n",
            "Negative Score: 0\n",
            "Polarity Score: 0.0\n",
            "Subjectivity Score: 0.0\n",
            "Average Sentence Length: 10.365384615384615\n",
            "Percentage of Complex Words: 0.0\n",
            "Fog Index: 4.1461538461538465\n",
            "Average Number of Words Per Sentence: 10.365384615384615\n",
            "Complex Word Count: 0\n",
            "Word Count: 539\n",
            "Syllables per Word: 1172\n",
            "Personal Pronoun Count: 0\n",
            "Average Word Length: 6.586270871985158\n"
          ]
        }
      ]
    },
    {
      "cell_type": "code",
      "source": [
        "\n",
        "url = 'https://insights.blackcoffer.com/lessons-from-the-past-some-key-learnings-relevant-to-the-coronavirus-crisis-4/'\n",
        "url_id = 'blackassign0089'\n",
        "extract_and_save_article_3(url, url_id)"
      ],
      "metadata": {
        "colab": {
          "base_uri": "https://localhost:8080/"
        },
        "id": "yw6sHEecOlgu",
        "outputId": "84442c11-5ede-4e41-bb36-402d55c090b1"
      },
      "execution_count": null,
      "outputs": [
        {
          "output_type": "stream",
          "name": "stdout",
          "text": [
            "Article saved successfully to blackassign0089.txt\n"
          ]
        }
      ]
    },
    {
      "cell_type": "code",
      "source": [
        "file_path = '/content/blackassign0089.txt'\n",
        "with open(file_path, 'r', encoding='utf-8') as file:\n",
        "    text_content = file.read()\n",
        "\n",
        "results = calculate_scores(text_content)\n",
        "\n",
        "# Print the results\n",
        "for key, value in results.items():\n",
        "    print(f\"{key}: {value}\")\n",
        "update_scores_excel(results)"
      ],
      "metadata": {
        "colab": {
          "base_uri": "https://localhost:8080/"
        },
        "id": "0ibE2FjYO_3u",
        "outputId": "127b99b1-a8f7-4a04-bbe5-df33a6b4b75d"
      },
      "execution_count": null,
      "outputs": [
        {
          "output_type": "stream",
          "name": "stdout",
          "text": [
            "Positive Score: 0\n",
            "Negative Score: 1\n",
            "Polarity Score: -0.9999990000010001\n",
            "Subjectivity Score: 0.0015673981166655201\n",
            "Average Sentence Length: 8.621621621621621\n",
            "Percentage of Complex Words: 0.0\n",
            "Fog Index: 3.4486486486486485\n",
            "Average Number of Words Per Sentence: 8.621621621621621\n",
            "Complex Word Count: 0\n",
            "Word Count: 638\n",
            "Syllables per Word: 1413\n",
            "Personal Pronoun Count: 4\n",
            "Average Word Length: 6.559561128526646\n"
          ]
        }
      ]
    },
    {
      "cell_type": "code",
      "source": [
        "\n",
        "url = 'https://insights.blackcoffer.com/estimating-the-impact-of-covid-19-on-the-world-of-work-2/'\n",
        "url_id = 'blackassign0090'\n",
        "extract_and_save_article_3(url, url_id)"
      ],
      "metadata": {
        "colab": {
          "base_uri": "https://localhost:8080/"
        },
        "id": "nZev-DzTPGCu",
        "outputId": "a0e17759-7a50-4e2b-ce24-402a442555cd"
      },
      "execution_count": null,
      "outputs": [
        {
          "output_type": "stream",
          "name": "stdout",
          "text": [
            "Article saved successfully to blackassign0090.txt\n"
          ]
        }
      ]
    },
    {
      "cell_type": "code",
      "source": [
        "file_path = '/content/blackassign0090.txt'\n",
        "with open(file_path, 'r', encoding='utf-8') as file:\n",
        "    text_content = file.read()\n",
        "\n",
        "results = calculate_scores(text_content)\n",
        "\n",
        "# Print the results\n",
        "for key, value in results.items():\n",
        "    print(f\"{key}: {value}\")\n",
        "update_scores_excel(results)"
      ],
      "metadata": {
        "colab": {
          "base_uri": "https://localhost:8080/"
        },
        "id": "LLZb4O0JPn3P",
        "outputId": "c5a680c7-c940-4f27-e6b2-d6e644c67b76"
      },
      "execution_count": null,
      "outputs": [
        {
          "output_type": "stream",
          "name": "stdout",
          "text": [
            "Positive Score: 2\n",
            "Negative Score: 1\n",
            "Polarity Score: 0.33333322222225925\n",
            "Subjectivity Score: 0.005042016798248711\n",
            "Average Sentence Length: 15.657894736842104\n",
            "Percentage of Complex Words: 0.0\n",
            "Fog Index: 6.2631578947368425\n",
            "Average Number of Words Per Sentence: 15.657894736842104\n",
            "Complex Word Count: 0\n",
            "Word Count: 595\n",
            "Syllables per Word: 1348\n",
            "Personal Pronoun Count: 6\n",
            "Average Word Length: 6.631932773109244\n"
          ]
        }
      ]
    },
    {
      "cell_type": "code",
      "source": [
        "\n",
        "url = 'https://insights.blackcoffer.com/estimating-the-impact-of-covid-19-on-the-world-of-work-3/'\n",
        "url_id = 'blackassign0091'\n",
        "extract_and_save_article_4(url, url_id)"
      ],
      "metadata": {
        "colab": {
          "base_uri": "https://localhost:8080/"
        },
        "id": "8CTvA8JvPuGB",
        "outputId": "ebff64fe-6606-4982-9826-c1870ffd47cf"
      },
      "execution_count": null,
      "outputs": [
        {
          "output_type": "stream",
          "name": "stdout",
          "text": [
            "Article saved successfully to blackassign0091.txt\n"
          ]
        }
      ]
    },
    {
      "cell_type": "code",
      "source": [
        "file_path = '/content/blackassign0091.txt'\n",
        "with open(file_path, 'r', encoding='utf-8') as file:\n",
        "    text_content = file.read()\n",
        "\n",
        "results = calculate_scores(text_content)\n",
        "\n",
        "# Print the results\n",
        "for key, value in results.items():\n",
        "    print(f\"{key}: {value}\")\n",
        "update_scores_excel(results)"
      ],
      "metadata": {
        "colab": {
          "base_uri": "https://localhost:8080/"
        },
        "id": "gXjzHRkOQHYH",
        "outputId": "5ffc381a-7d77-4686-f3eb-10ccd35021a3"
      },
      "execution_count": null,
      "outputs": [
        {
          "output_type": "stream",
          "name": "stdout",
          "text": [
            "Positive Score: 1\n",
            "Negative Score: 0\n",
            "Polarity Score: 0.9999990000010001\n",
            "Subjectivity Score: 0.0012820512804076266\n",
            "Average Sentence Length: 13.220338983050848\n",
            "Percentage of Complex Words: 0.0\n",
            "Fog Index: 5.288135593220339\n",
            "Average Number of Words Per Sentence: 13.220338983050848\n",
            "Complex Word Count: 0\n",
            "Word Count: 780\n",
            "Syllables per Word: 1703\n",
            "Personal Pronoun Count: 1\n",
            "Average Word Length: 6.6179487179487175\n"
          ]
        }
      ]
    },
    {
      "cell_type": "code",
      "source": [
        "\n",
        "\n",
        "url = 'https://insights.blackcoffer.com/travel-and-tourism-outlook/'\n",
        "url_id = 'blackassign0092'\n",
        "extract_and_save_article_3(url, url_id)"
      ],
      "metadata": {
        "colab": {
          "base_uri": "https://localhost:8080/"
        },
        "id": "7XlrHzyXQLxf",
        "outputId": "3c4d8022-6ac8-43e6-a5e2-2d1d222cec1d"
      },
      "execution_count": null,
      "outputs": [
        {
          "output_type": "stream",
          "name": "stdout",
          "text": [
            "Article saved successfully to blackassign0092.txt\n"
          ]
        }
      ]
    },
    {
      "cell_type": "code",
      "source": [
        "file_path = '/content/blackassign0092.txt'\n",
        "with open(file_path, 'r', encoding='utf-8') as file:\n",
        "    text_content = file.read()\n",
        "\n",
        "results = calculate_scores(text_content)\n",
        "\n",
        "# Print the results\n",
        "for key, value in results.items():\n",
        "    print(f\"{key}: {value}\")\n",
        "update_scores_excel(results)"
      ],
      "metadata": {
        "colab": {
          "base_uri": "https://localhost:8080/"
        },
        "id": "3fImc7P-Qwd2",
        "outputId": "4def7963-2867-4969-ced1-5fe229084218"
      },
      "execution_count": null,
      "outputs": [
        {
          "output_type": "stream",
          "name": "stdout",
          "text": [
            "Positive Score: 1\n",
            "Negative Score: 0\n",
            "Polarity Score: 0.9999990000010001\n",
            "Subjectivity Score: 0.0099999999\n",
            "Average Sentence Length: 9.090909090909092\n",
            "Percentage of Complex Words: 0.0\n",
            "Fog Index: 3.6363636363636367\n",
            "Average Number of Words Per Sentence: 9.090909090909092\n",
            "Complex Word Count: 0\n",
            "Word Count: 100\n",
            "Syllables per Word: 192\n",
            "Personal Pronoun Count: 1\n",
            "Average Word Length: 5.91\n"
          ]
        }
      ]
    },
    {
      "cell_type": "code",
      "source": [
        "\n",
        "url = 'https://insights.blackcoffer.com/gaming-disorder-and-effects-of-gaming-on-health/'\n",
        "url_id = 'blackassign0093'\n",
        "extract_and_save_article_3(url, url_id)"
      ],
      "metadata": {
        "colab": {
          "base_uri": "https://localhost:8080/"
        },
        "id": "kqC-ZwT1Q3a1",
        "outputId": "4bffb658-4ce4-4b83-f6b8-9de2274d411f"
      },
      "execution_count": null,
      "outputs": [
        {
          "output_type": "stream",
          "name": "stdout",
          "text": [
            "Article saved successfully to blackassign0093.txt\n"
          ]
        }
      ]
    },
    {
      "cell_type": "code",
      "source": [
        "file_path = '/content/blackassign0093.txt'\n",
        "with open(file_path, 'r', encoding='utf-8') as file:\n",
        "    text_content = file.read()\n",
        "\n",
        "results = calculate_scores(text_content)\n",
        "\n",
        "# Print the results\n",
        "for key, value in results.items():\n",
        "    print(f\"{key}: {value}\")\n",
        "update_scores_excel(results)"
      ],
      "metadata": {
        "colab": {
          "base_uri": "https://localhost:8080/"
        },
        "id": "bLMV8spoReZ2",
        "outputId": "b249d7fa-d0fb-4d6d-9b9d-61756f43a45e"
      },
      "execution_count": null,
      "outputs": [
        {
          "output_type": "stream",
          "name": "stdout",
          "text": [
            "Positive Score: 4\n",
            "Negative Score: 2\n",
            "Polarity Score: 0.33333327777778704\n",
            "Subjectivity Score: 0.009419152261508395\n",
            "Average Sentence Length: 9.953125\n",
            "Percentage of Complex Words: 0.0\n",
            "Fog Index: 3.98125\n",
            "Average Number of Words Per Sentence: 9.953125\n",
            "Complex Word Count: 0\n",
            "Word Count: 637\n",
            "Syllables per Word: 1363\n",
            "Personal Pronoun Count: 2\n",
            "Average Word Length: 6.430141287284145\n"
          ]
        }
      ]
    },
    {
      "cell_type": "code",
      "source": [
        "\n",
        "url = 'https://insights.blackcoffer.com/what-is-the-repercussion-of-the-environment-due-to-the-covid-19-pandemic-situation/'\n",
        "url_id = 'blackassign0094'\n",
        "extract_and_save_article_3(url, url_id)"
      ],
      "metadata": {
        "colab": {
          "base_uri": "https://localhost:8080/"
        },
        "id": "0-IUPykeRi_Q",
        "outputId": "f86ef1f7-8d49-4f73-9f5d-7c25df7712df"
      },
      "execution_count": null,
      "outputs": [
        {
          "output_type": "stream",
          "name": "stdout",
          "text": [
            "Article saved successfully to blackassign0094.txt\n"
          ]
        }
      ]
    },
    {
      "cell_type": "code",
      "source": [
        "file_path = '/content/blackassign0094.txt'\n",
        "with open(file_path, 'r', encoding='utf-8') as file:\n",
        "    text_content = file.read()\n",
        "\n",
        "results = calculate_scores(text_content)\n",
        "\n",
        "# Print the results\n",
        "for key, value in results.items():\n",
        "    print(f\"{key}: {value}\")\n",
        "update_scores_excel(results)"
      ],
      "metadata": {
        "colab": {
          "base_uri": "https://localhost:8080/"
        },
        "id": "rgZWqyaDSTX9",
        "outputId": "5aa09269-837c-4501-fefd-53ad496b0a6b"
      },
      "execution_count": null,
      "outputs": [
        {
          "output_type": "stream",
          "name": "stdout",
          "text": [
            "Positive Score: 2\n",
            "Negative Score: 0\n",
            "Polarity Score: 0.99999950000025\n",
            "Subjectivity Score: 0.005405405390796202\n",
            "Average Sentence Length: 10.277777777777779\n",
            "Percentage of Complex Words: 0.0\n",
            "Fog Index: 4.111111111111112\n",
            "Average Number of Words Per Sentence: 10.277777777777779\n",
            "Complex Word Count: 0\n",
            "Word Count: 370\n",
            "Syllables per Word: 795\n",
            "Personal Pronoun Count: 2\n",
            "Average Word Length: 6.394594594594595\n"
          ]
        }
      ]
    },
    {
      "cell_type": "code",
      "source": [
        "\n",
        "\n",
        "url = 'https://insights.blackcoffer.com/what-is-the-repercussion-of-the-environment-due-to-the-covid-19-pandemic-situation-2/'\n",
        "url_id = 'blackassign0095'\n",
        "extract_and_save_article_3(url, url_id)"
      ],
      "metadata": {
        "colab": {
          "base_uri": "https://localhost:8080/"
        },
        "id": "fqHP8DeTSY5h",
        "outputId": "e8d36d3c-6925-4308-db54-b71e75fa501b"
      },
      "execution_count": null,
      "outputs": [
        {
          "output_type": "stream",
          "name": "stdout",
          "text": [
            "Article saved successfully to blackassign0095.txt\n"
          ]
        }
      ]
    },
    {
      "cell_type": "code",
      "source": [
        "file_path = '/content/blackassign0095.txt'\n",
        "with open(file_path, 'r', encoding='utf-8') as file:\n",
        "    text_content = file.read()\n",
        "\n",
        "results = calculate_scores(text_content)\n",
        "\n",
        "# Print the results\n",
        "for key, value in results.items():\n",
        "    print(f\"{key}: {value}\")\n",
        "update_scores_excel(results)"
      ],
      "metadata": {
        "colab": {
          "base_uri": "https://localhost:8080/"
        },
        "id": "yBzbwWgwSynd",
        "outputId": "6f302ded-e5cf-4ba1-b2da-b4c60c0b51ab"
      },
      "execution_count": null,
      "outputs": [
        {
          "output_type": "stream",
          "name": "stdout",
          "text": [
            "Positive Score: 1\n",
            "Negative Score: 3\n",
            "Polarity Score: -0.49999987500003124\n",
            "Subjectivity Score: 0.0063091482550328894\n",
            "Average Sentence Length: 12.68\n",
            "Percentage of Complex Words: 0.0\n",
            "Fog Index: 5.072\n",
            "Average Number of Words Per Sentence: 12.68\n",
            "Complex Word Count: 0\n",
            "Word Count: 634\n",
            "Syllables per Word: 1473\n",
            "Personal Pronoun Count: 1\n",
            "Average Word Length: 6.960567823343848\n"
          ]
        }
      ]
    },
    {
      "cell_type": "code",
      "source": [
        "\n",
        "\n",
        "url = 'https://insights.blackcoffer.com/impact-of-covid-19-pandemic-on-office-space-and-co-working-industries/'\n",
        "url_id = 'blackassign0096'\n",
        "extract_and_save_article_3(url, url_id)"
      ],
      "metadata": {
        "colab": {
          "base_uri": "https://localhost:8080/"
        },
        "id": "ItUJpp2kS6Ds",
        "outputId": "2462cb7b-3237-4823-9f4e-b8c80dc3c4af"
      },
      "execution_count": null,
      "outputs": [
        {
          "output_type": "stream",
          "name": "stdout",
          "text": [
            "Article saved successfully to blackassign0096.txt\n"
          ]
        }
      ]
    },
    {
      "cell_type": "code",
      "source": [
        "file_path = '/content/blackassign0096.txt'\n",
        "with open(file_path, 'r', encoding='utf-8') as file:\n",
        "    text_content = file.read()\n",
        "\n",
        "results = calculate_scores(text_content)\n",
        "\n",
        "# Print the results\n",
        "for key, value in results.items():\n",
        "    print(f\"{key}: {value}\")\n",
        "update_scores_excel(results)"
      ],
      "metadata": {
        "colab": {
          "base_uri": "https://localhost:8080/"
        },
        "id": "_11l8NKWToqu",
        "outputId": "85a6a9e9-5ead-4715-ad69-1f4d9ffa4f85"
      },
      "execution_count": null,
      "outputs": [
        {
          "output_type": "stream",
          "name": "stdout",
          "text": [
            "Positive Score: 2\n",
            "Negative Score: 0\n",
            "Polarity Score: 0.99999950000025\n",
            "Subjectivity Score: 0.0038095238022675735\n",
            "Average Sentence Length: 13.461538461538462\n",
            "Percentage of Complex Words: 0.0\n",
            "Fog Index: 5.384615384615385\n",
            "Average Number of Words Per Sentence: 13.461538461538462\n",
            "Complex Word Count: 0\n",
            "Word Count: 525\n",
            "Syllables per Word: 1130\n",
            "Personal Pronoun Count: 1\n",
            "Average Word Length: 6.426666666666667\n"
          ]
        }
      ]
    },
    {
      "cell_type": "code",
      "source": [
        "\n",
        "url = 'https://insights.blackcoffer.com/contribution-of-handicrafts-visual-arts-literature-in-the-indian-economy/'\n",
        "url_id = 'blackassign0097'\n",
        "extract_and_save_article_3(url, url_id)"
      ],
      "metadata": {
        "colab": {
          "base_uri": "https://localhost:8080/"
        },
        "id": "Yu3-1grAT00V",
        "outputId": "fcfb2879-2e74-4430-b352-1a372fc7e094"
      },
      "execution_count": null,
      "outputs": [
        {
          "output_type": "stream",
          "name": "stdout",
          "text": [
            "Article saved successfully to blackassign0097.txt\n"
          ]
        }
      ]
    },
    {
      "cell_type": "code",
      "source": [
        "file_path = '/content/blackassign0097.txt'\n",
        "with open(file_path, 'r', encoding='utf-8') as file:\n",
        "    text_content = file.read()\n",
        "\n",
        "results = calculate_scores(text_content)\n",
        "\n",
        "# Print the results\n",
        "for key, value in results.items():\n",
        "    print(f\"{key}: {value}\")\n",
        "update_scores_excel(results)"
      ],
      "metadata": {
        "colab": {
          "base_uri": "https://localhost:8080/"
        },
        "id": "fz1DbEQtVVwQ",
        "outputId": "4b6958c0-029f-4379-97f2-2064f5bc3580"
      },
      "execution_count": null,
      "outputs": [
        {
          "output_type": "stream",
          "name": "stdout",
          "text": [
            "Positive Score: 1\n",
            "Negative Score: 0\n",
            "Polarity Score: 0.9999990000010001\n",
            "Subjectivity Score: 0.004098360638941145\n",
            "Average Sentence Length: 20.333333333333332\n",
            "Percentage of Complex Words: 0.0\n",
            "Fog Index: 8.133333333333333\n",
            "Average Number of Words Per Sentence: 20.333333333333332\n",
            "Complex Word Count: 0\n",
            "Word Count: 244\n",
            "Syllables per Word: 543\n",
            "Personal Pronoun Count: 0\n",
            "Average Word Length: 6.881147540983607\n"
          ]
        }
      ]
    },
    {
      "cell_type": "code",
      "source": [
        "\n",
        "url = 'https://insights.blackcoffer.com/how-covid-19-is-impacting-payment-preferences/'\n",
        "url_id = 'blackassign0098'\n",
        "extract_and_save_article_4(url, url_id)"
      ],
      "metadata": {
        "colab": {
          "base_uri": "https://localhost:8080/"
        },
        "id": "M-WlfWNRVgoc",
        "outputId": "ce447eaa-975b-48b2-99b4-fe7b137365d4"
      },
      "execution_count": null,
      "outputs": [
        {
          "output_type": "stream",
          "name": "stdout",
          "text": [
            "Article saved successfully to blackassign0098.txt\n"
          ]
        }
      ]
    },
    {
      "cell_type": "code",
      "source": [
        "file_path = '/content/blackassign0098.txt'\n",
        "with open(file_path, 'r', encoding='utf-8') as file:\n",
        "    text_content = file.read()\n",
        "\n",
        "results = calculate_scores(text_content)\n",
        "\n",
        "# Print the results\n",
        "for key, value in results.items():\n",
        "    print(f\"{key}: {value}\")\n",
        "update_scores_excel(results)"
      ],
      "metadata": {
        "colab": {
          "base_uri": "https://localhost:8080/"
        },
        "id": "BQtM0jdIV0CO",
        "outputId": "85d4ed23-85cc-459f-b228-2444ad789be8"
      },
      "execution_count": null,
      "outputs": [
        {
          "output_type": "stream",
          "name": "stdout",
          "text": [
            "Positive Score: 2\n",
            "Negative Score: 0\n",
            "Polarity Score: 0.99999950000025\n",
            "Subjectivity Score: 0.005847953199274991\n",
            "Average Sentence Length: 10.6875\n",
            "Percentage of Complex Words: 0.0\n",
            "Fog Index: 4.275\n",
            "Average Number of Words Per Sentence: 10.6875\n",
            "Complex Word Count: 0\n",
            "Word Count: 342\n",
            "Syllables per Word: 697\n",
            "Personal Pronoun Count: 0\n",
            "Average Word Length: 6.002923976608187\n"
          ]
        }
      ]
    },
    {
      "cell_type": "code",
      "source": [
        "\n",
        "url = 'https://insights.blackcoffer.com/how-will-covid-19-affect-the-world-of-work-2/'\n",
        "url_id = 'blackassign0099'\n",
        "extract_and_save_article_4(url, url_id)"
      ],
      "metadata": {
        "colab": {
          "base_uri": "https://localhost:8080/"
        },
        "id": "U1kEhH1QV5Qm",
        "outputId": "4513efee-87cf-4258-b055-ccd44c8778b1"
      },
      "execution_count": null,
      "outputs": [
        {
          "output_type": "stream",
          "name": "stdout",
          "text": [
            "Article saved successfully to blackassign0099.txt\n"
          ]
        }
      ]
    },
    {
      "cell_type": "code",
      "source": [
        "file_path = '/content/blackassign0099.txt'\n",
        "with open(file_path, 'r', encoding='utf-8') as file:\n",
        "    text_content = file.read()\n",
        "\n",
        "results = calculate_scores(text_content)\n",
        "\n",
        "# Print the results\n",
        "for key, value in results.items():\n",
        "    print(f\"{key}: {value}\")\n",
        "update_scores_excel(results)"
      ],
      "metadata": {
        "colab": {
          "base_uri": "https://localhost:8080/"
        },
        "id": "46g-UGfKWYfD",
        "outputId": "be8f82de-84ef-4319-c374-de3a7a66d441"
      },
      "execution_count": null,
      "outputs": [
        {
          "output_type": "stream",
          "name": "stdout",
          "text": [
            "Positive Score: 0\n",
            "Negative Score: 1\n",
            "Polarity Score: -0.9999990000010001\n",
            "Subjectivity Score: 0.0017211703929067635\n",
            "Average Sentence Length: 17.606060606060606\n",
            "Percentage of Complex Words: 0.0\n",
            "Fog Index: 7.042424242424243\n",
            "Average Number of Words Per Sentence: 17.606060606060606\n",
            "Complex Word Count: 0\n",
            "Word Count: 581\n",
            "Syllables per Word: 1300\n",
            "Personal Pronoun Count: 0\n",
            "Average Word Length: 6.869191049913941\n"
          ]
        }
      ]
    }
  ]
}